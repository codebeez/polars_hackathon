{
 "cells": [
  {
   "cell_type": "markdown",
   "metadata": {},
   "source": [
    "# Exploring Polars\n",
    "\n",
    "In this exercise, we are going to explore Polars using a small dataset.\n",
    "The dataset was taken from https://www.kaggle.com/datasets/spscientist/students-performance-in-exams and describes marks obtainead by students for different areas of a test.\n",
    "Ocasionally, we'll explore differences to Pandas.\n",
    "We will also observe that on small datasets, there is a negligible difference between Pandas and Polars in terms of computational speed and memory usage.\n"
   ]
  },
  {
   "cell_type": "code",
   "execution_count": 2,
   "metadata": {},
   "outputs": [],
   "source": [
    "import polars as pl\n",
    "import pandas as pd\n",
    "import time\n",
    "\n",
    "%load_ext memory_profiler"
   ]
  },
  {
   "cell_type": "markdown",
   "metadata": {},
   "source": [
    "## Load the data\n",
    "\n",
    "Load the CSV data using Polars and visualise the loaded DataFrame."
   ]
  },
  {
   "cell_type": "code",
   "execution_count": 13,
   "metadata": {},
   "outputs": [
    {
     "data": {
      "text/html": [
       "<div><style>\n",
       ".dataframe > thead > tr,\n",
       ".dataframe > tbody > tr {\n",
       "  text-align: right;\n",
       "  white-space: pre-wrap;\n",
       "}\n",
       "</style>\n",
       "<small>shape: (1_000, 8)</small><table border=\"1\" class=\"dataframe\"><thead><tr><th>gender</th><th>race/ethnicity</th><th>parental level of education</th><th>lunch</th><th>test preparation course</th><th>math score</th><th>reading score</th><th>writing score</th></tr><tr><td>str</td><td>str</td><td>str</td><td>str</td><td>str</td><td>i64</td><td>i64</td><td>i64</td></tr></thead><tbody><tr><td>&quot;female&quot;</td><td>&quot;group B&quot;</td><td>&quot;bachelor&#x27;s degree&quot;</td><td>&quot;standard&quot;</td><td>&quot;none&quot;</td><td>72</td><td>72</td><td>74</td></tr><tr><td>&quot;female&quot;</td><td>&quot;group C&quot;</td><td>&quot;some college&quot;</td><td>&quot;standard&quot;</td><td>&quot;completed&quot;</td><td>69</td><td>90</td><td>88</td></tr><tr><td>&quot;female&quot;</td><td>&quot;group B&quot;</td><td>&quot;master&#x27;s degree&quot;</td><td>&quot;standard&quot;</td><td>&quot;none&quot;</td><td>90</td><td>95</td><td>93</td></tr><tr><td>&quot;male&quot;</td><td>&quot;group A&quot;</td><td>&quot;associate&#x27;s degree&quot;</td><td>&quot;free/reduced&quot;</td><td>&quot;none&quot;</td><td>47</td><td>57</td><td>44</td></tr><tr><td>&quot;male&quot;</td><td>&quot;group C&quot;</td><td>&quot;some college&quot;</td><td>&quot;standard&quot;</td><td>&quot;none&quot;</td><td>76</td><td>78</td><td>75</td></tr><tr><td>&hellip;</td><td>&hellip;</td><td>&hellip;</td><td>&hellip;</td><td>&hellip;</td><td>&hellip;</td><td>&hellip;</td><td>&hellip;</td></tr><tr><td>&quot;female&quot;</td><td>&quot;group E&quot;</td><td>&quot;master&#x27;s degree&quot;</td><td>&quot;standard&quot;</td><td>&quot;completed&quot;</td><td>88</td><td>99</td><td>95</td></tr><tr><td>&quot;male&quot;</td><td>&quot;group C&quot;</td><td>&quot;high school&quot;</td><td>&quot;free/reduced&quot;</td><td>&quot;none&quot;</td><td>62</td><td>55</td><td>55</td></tr><tr><td>&quot;female&quot;</td><td>&quot;group C&quot;</td><td>&quot;high school&quot;</td><td>&quot;free/reduced&quot;</td><td>&quot;completed&quot;</td><td>59</td><td>71</td><td>65</td></tr><tr><td>&quot;female&quot;</td><td>&quot;group D&quot;</td><td>&quot;some college&quot;</td><td>&quot;standard&quot;</td><td>&quot;completed&quot;</td><td>68</td><td>78</td><td>77</td></tr><tr><td>&quot;female&quot;</td><td>&quot;group D&quot;</td><td>&quot;some college&quot;</td><td>&quot;free/reduced&quot;</td><td>&quot;none&quot;</td><td>77</td><td>86</td><td>86</td></tr></tbody></table></div>"
      ],
      "text/plain": [
       "shape: (1_000, 8)\n",
       "┌────────┬───────────────┬───────────────┬──────────────┬──────────────┬───────┬─────────┬─────────┐\n",
       "│ gender ┆ race/ethnicit ┆ parental      ┆ lunch        ┆ test         ┆ math  ┆ reading ┆ writing │\n",
       "│ ---    ┆ y             ┆ level of      ┆ ---          ┆ preparation  ┆ score ┆ score   ┆ score   │\n",
       "│ str    ┆ ---           ┆ education     ┆ str          ┆ course       ┆ ---   ┆ ---     ┆ ---     │\n",
       "│        ┆ str           ┆ ---           ┆              ┆ ---          ┆ i64   ┆ i64     ┆ i64     │\n",
       "│        ┆               ┆ str           ┆              ┆ str          ┆       ┆         ┆         │\n",
       "╞════════╪═══════════════╪═══════════════╪══════════════╪══════════════╪═══════╪═════════╪═════════╡\n",
       "│ female ┆ group B       ┆ bachelor's    ┆ standard     ┆ none         ┆ 72    ┆ 72      ┆ 74      │\n",
       "│        ┆               ┆ degree        ┆              ┆              ┆       ┆         ┆         │\n",
       "│ female ┆ group C       ┆ some college  ┆ standard     ┆ completed    ┆ 69    ┆ 90      ┆ 88      │\n",
       "│ female ┆ group B       ┆ master's      ┆ standard     ┆ none         ┆ 90    ┆ 95      ┆ 93      │\n",
       "│        ┆               ┆ degree        ┆              ┆              ┆       ┆         ┆         │\n",
       "│ male   ┆ group A       ┆ associate's   ┆ free/reduced ┆ none         ┆ 47    ┆ 57      ┆ 44      │\n",
       "│        ┆               ┆ degree        ┆              ┆              ┆       ┆         ┆         │\n",
       "│ male   ┆ group C       ┆ some college  ┆ standard     ┆ none         ┆ 76    ┆ 78      ┆ 75      │\n",
       "│ …      ┆ …             ┆ …             ┆ …            ┆ …            ┆ …     ┆ …       ┆ …       │\n",
       "│ female ┆ group E       ┆ master's      ┆ standard     ┆ completed    ┆ 88    ┆ 99      ┆ 95      │\n",
       "│        ┆               ┆ degree        ┆              ┆              ┆       ┆         ┆         │\n",
       "│ male   ┆ group C       ┆ high school   ┆ free/reduced ┆ none         ┆ 62    ┆ 55      ┆ 55      │\n",
       "│ female ┆ group C       ┆ high school   ┆ free/reduced ┆ completed    ┆ 59    ┆ 71      ┆ 65      │\n",
       "│ female ┆ group D       ┆ some college  ┆ standard     ┆ completed    ┆ 68    ┆ 78      ┆ 77      │\n",
       "│ female ┆ group D       ┆ some college  ┆ free/reduced ┆ none         ┆ 77    ┆ 86      ┆ 86      │\n",
       "└────────┴───────────────┴───────────────┴──────────────┴──────────────┴───────┴─────────┴─────────┘"
      ]
     },
     "execution_count": 13,
     "metadata": {},
     "output_type": "execute_result"
    }
   ],
   "source": [
    "df = pl.read_csv(\"content/data/StudentsPerformance.csv\")\n",
    "df"
   ]
  },
  {
   "cell_type": "markdown",
   "metadata": {},
   "source": [
    "## Manipulate the data\n",
    "In the remainder of this notebook, we will manipulate the data to answer the provided questions.\n",
    "Consult the documentation at https://docs.pola.rs/api/python/stable/reference/index.html."
   ]
  },
  {
   "cell_type": "markdown",
   "metadata": {},
   "source": [
    "### Exercise 2.2\n",
    "Calculate and show the mean score for each test area separately."
   ]
  },
  {
   "cell_type": "code",
   "execution_count": 58,
   "metadata": {},
   "outputs": [
    {
     "data": {
      "text/html": [
       "<div><style>\n",
       ".dataframe > thead > tr,\n",
       ".dataframe > tbody > tr {\n",
       "  text-align: right;\n",
       "  white-space: pre-wrap;\n",
       "}\n",
       "</style>\n",
       "<small>shape: (1, 3)</small><table border=\"1\" class=\"dataframe\"><thead><tr><th>math score</th><th>reading score</th><th>writing score</th></tr><tr><td>f64</td><td>f64</td><td>f64</td></tr></thead><tbody><tr><td>66.089</td><td>69.169</td><td>68.054</td></tr></tbody></table></div>"
      ],
      "text/plain": [
       "shape: (1, 3)\n",
       "┌────────────┬───────────────┬───────────────┐\n",
       "│ math score ┆ reading score ┆ writing score │\n",
       "│ ---        ┆ ---           ┆ ---           │\n",
       "│ f64        ┆ f64           ┆ f64           │\n",
       "╞════════════╪═══════════════╪═══════════════╡\n",
       "│ 66.089     ┆ 69.169        ┆ 68.054        │\n",
       "└────────────┴───────────────┴───────────────┘"
      ]
     },
     "execution_count": 58,
     "metadata": {},
     "output_type": "execute_result"
    }
   ],
   "source": [
    "df.mean().select(\"math score\", \"reading score\", \"writing score\")"
   ]
  },
  {
   "cell_type": "markdown",
   "metadata": {},
   "source": [
    "### Exercise 2.2\n",
    "Calculate the 90th percentile score for each test area."
   ]
  },
  {
   "cell_type": "code",
   "execution_count": 59,
   "metadata": {},
   "outputs": [
    {
     "data": {
      "text/html": [
       "<div><style>\n",
       ".dataframe > thead > tr,\n",
       ".dataframe > tbody > tr {\n",
       "  text-align: right;\n",
       "  white-space: pre-wrap;\n",
       "}\n",
       "</style>\n",
       "<small>shape: (1, 3)</small><table border=\"1\" class=\"dataframe\"><thead><tr><th>math score</th><th>reading score</th><th>writing score</th></tr><tr><td>f64</td><td>f64</td><td>f64</td></tr></thead><tbody><tr><td>86.0</td><td>87.0</td><td>87.0</td></tr></tbody></table></div>"
      ],
      "text/plain": [
       "shape: (1, 3)\n",
       "┌────────────┬───────────────┬───────────────┐\n",
       "│ math score ┆ reading score ┆ writing score │\n",
       "│ ---        ┆ ---           ┆ ---           │\n",
       "│ f64        ┆ f64           ┆ f64           │\n",
       "╞════════════╪═══════════════╪═══════════════╡\n",
       "│ 86.0       ┆ 87.0          ┆ 87.0          │\n",
       "└────────────┴───────────────┴───────────────┘"
      ]
     },
     "execution_count": 59,
     "metadata": {},
     "output_type": "execute_result"
    }
   ],
   "source": [
    "df.quantile(.9).select(\"math score\", \"reading score\", \"writing score\")"
   ]
  },
  {
   "cell_type": "markdown",
   "metadata": {},
   "source": [
    "### Exercise 2.3\n",
    "How many students scored higher than the 90th percentile for each test area? \n",
    "* Use only Polars methods and operators within a `select()` predicate"
   ]
  },
  {
   "cell_type": "code",
   "execution_count": 5,
   "metadata": {},
   "outputs": [
    {
     "data": {
      "text/html": [
       "<div><style>\n",
       ".dataframe > thead > tr,\n",
       ".dataframe > tbody > tr {\n",
       "  text-align: right;\n",
       "  white-space: pre-wrap;\n",
       "}\n",
       "</style>\n",
       "<small>shape: (1, 3)</small><table border=\"1\" class=\"dataframe\"><thead><tr><th>math score</th><th>reading score</th><th>writing score</th></tr><tr><td>u32</td><td>u32</td><td>u32</td></tr></thead><tbody><tr><td>95</td><td>100</td><td>98</td></tr></tbody></table></div>"
      ],
      "text/plain": [
       "shape: (1, 3)\n",
       "┌────────────┬───────────────┬───────────────┐\n",
       "│ math score ┆ reading score ┆ writing score │\n",
       "│ ---        ┆ ---           ┆ ---           │\n",
       "│ u32        ┆ u32           ┆ u32           │\n",
       "╞════════════╪═══════════════╪═══════════════╡\n",
       "│ 95         ┆ 100           ┆ 98            │\n",
       "└────────────┴───────────────┴───────────────┘"
      ]
     },
     "execution_count": 5,
     "metadata": {},
     "output_type": "execute_result"
    }
   ],
   "source": [
    "df.select(pl.col(\"math score\") > pl.quantile(\"math score\", .9), pl.col(\"reading score\") > pl.quantile(\"reading score\", .9), pl.col(\"writing score\") > pl.quantile(\"writing score\", .9)).sum()"
   ]
  },
  {
   "cell_type": "markdown",
   "metadata": {},
   "source": [
    "## Group by clause\n",
    "In the exercise below, the `group_by()` method may come in handy.\n",
    "This method returns a `GroupBy` instance, which allows you to define an operation for all columns through global methods such as `sum()`.\n",
    "More interestingly, it allows you to define per-column operations in combination with the `agg()` method.\n",
    "In this method, using the `pl.col()` method we can specificy what happens to the grouped lists in each column, while columns not included in the list are discarded from the result.\n",
    "If we just specify the name without transformations, the grouped lists will be returned as is:"
   ]
  },
  {
   "cell_type": "code",
   "execution_count": 9,
   "metadata": {},
   "outputs": [
    {
     "data": {
      "text/html": [
       "<div><style>\n",
       ".dataframe > thead > tr,\n",
       ".dataframe > tbody > tr {\n",
       "  text-align: right;\n",
       "  white-space: pre-wrap;\n",
       "}\n",
       "</style>\n",
       "<small>shape: (3, 3)</small><table border=\"1\" class=\"dataframe\"><thead><tr><th>c</th><th>sum_a</th><th>b</th></tr><tr><td>i64</td><td>i64</td><td>list[i64]</td></tr></thead><tbody><tr><td>3</td><td>5</td><td>[1]</td></tr><tr><td>2</td><td>7</td><td>[3, 2]</td></tr><tr><td>1</td><td>3</td><td>[5, 4]</td></tr></tbody></table></div>"
      ],
      "text/plain": [
       "shape: (3, 3)\n",
       "┌─────┬───────┬───────────┐\n",
       "│ c   ┆ sum_a ┆ b         │\n",
       "│ --- ┆ ---   ┆ ---       │\n",
       "│ i64 ┆ i64   ┆ list[i64] │\n",
       "╞═════╪═══════╪═══════════╡\n",
       "│ 3   ┆ 5     ┆ [1]       │\n",
       "│ 2   ┆ 7     ┆ [3, 2]    │\n",
       "│ 1   ┆ 3     ┆ [5, 4]    │\n",
       "└─────┴───────┴───────────┘"
      ]
     },
     "execution_count": 9,
     "metadata": {},
     "output_type": "execute_result"
    }
   ],
   "source": [
    "import polars as pl\n",
    "df = pl.DataFrame(\n",
    "    {\n",
    "        \"a\": [1, 2, 3, 4, 5],\n",
    "        \"b\": [5, 4, 3, 2, 1],\n",
    "        \"c\": [1, 1, 2, 2, 3],\n",
    "    }\n",
    ").group_by(\"c\").agg(pl.col(\"a\").sum().alias(\"sum_a\"), \"b\")\n",
    "df"
   ]
  },
  {
   "cell_type": "markdown",
   "metadata": {},
   "source": [
    "\n",
    "\n",
    "### Exercise 2.4\n",
    "Find out the proportions of students who failed on all parts of the test per gender.\n",
    "* Polars expressions support calculations using native operators in combination with the `pl.col` predicate\n",
    "* The `group_by` method may come in handy\n",
    "* In the Netherlands, only scores equal to and higher than 55% are considered a pass, but you feel free to define passing to your own liking!"
   ]
  },
  {
   "cell_type": "code",
   "execution_count": 10,
   "metadata": {},
   "outputs": [
    {
     "ename": "NameError",
     "evalue": "name 'pl_df' is not defined",
     "output_type": "error",
     "traceback": [
      "\u001b[0;31m---------------------------------------------------------------------------\u001b[0m",
      "\u001b[0;31mNameError\u001b[0m                                 Traceback (most recent call last)",
      "Cell \u001b[0;32mIn[10], line 1\u001b[0m\n\u001b[0;32m----> 1\u001b[0m \u001b[43mpl_df\u001b[49m\u001b[38;5;241m.\u001b[39mgroup_by(\n\u001b[1;32m      2\u001b[0m     \u001b[38;5;124m\"\u001b[39m\u001b[38;5;124mgender\u001b[39m\u001b[38;5;124m\"\u001b[39m,\n\u001b[1;32m      3\u001b[0m     (pl\u001b[38;5;241m.\u001b[39mcol(\u001b[38;5;124m\"\u001b[39m\u001b[38;5;124mmath score\u001b[39m\u001b[38;5;124m\"\u001b[39m) \u001b[38;5;241m<\u001b[39m \u001b[38;5;241m55\u001b[39m)\n\u001b[1;32m      4\u001b[0m     \u001b[38;5;241m.\u001b[39mand_(pl\u001b[38;5;241m.\u001b[39mcol(\u001b[38;5;124m\"\u001b[39m\u001b[38;5;124mreading score\u001b[39m\u001b[38;5;124m\"\u001b[39m) \u001b[38;5;241m<\u001b[39m \u001b[38;5;241m55\u001b[39m)\n\u001b[1;32m      5\u001b[0m     \u001b[38;5;241m.\u001b[39mand_(pl\u001b[38;5;241m.\u001b[39mcol(\u001b[38;5;124m\"\u001b[39m\u001b[38;5;124mwriting score\u001b[39m\u001b[38;5;124m\"\u001b[39m) \u001b[38;5;241m<\u001b[39m \u001b[38;5;241m55\u001b[39m)\n\u001b[1;32m      6\u001b[0m     \u001b[38;5;241m.\u001b[39malias(\u001b[38;5;124m\"\u001b[39m\u001b[38;5;124mfailed\u001b[39m\u001b[38;5;124m\"\u001b[39m),\n\u001b[1;32m      7\u001b[0m )\u001b[38;5;241m.\u001b[39mlen()\u001b[38;5;241m.\u001b[39msort(\u001b[38;5;124m\"\u001b[39m\u001b[38;5;124mfailed\u001b[39m\u001b[38;5;124m\"\u001b[39m)\u001b[38;5;241m.\u001b[39mgroup_by(\u001b[38;5;124m\"\u001b[39m\u001b[38;5;124mgender\u001b[39m\u001b[38;5;124m\"\u001b[39m)\u001b[38;5;241m.\u001b[39magg(\n\u001b[1;32m      8\u001b[0m     pl\u001b[38;5;241m.\u001b[39mcol(\u001b[38;5;124m\"\u001b[39m\u001b[38;5;124mlen\u001b[39m\u001b[38;5;124m\"\u001b[39m)\u001b[38;5;241m.\u001b[39mfilter(pl\u001b[38;5;241m.\u001b[39mcol(\u001b[38;5;124m\"\u001b[39m\u001b[38;5;124mfailed\u001b[39m\u001b[38;5;124m\"\u001b[39m))\u001b[38;5;241m.\u001b[39mfirst() \u001b[38;5;241m/\u001b[39m pl\u001b[38;5;241m.\u001b[39mcol(\u001b[38;5;124m\"\u001b[39m\u001b[38;5;124mlen\u001b[39m\u001b[38;5;124m\"\u001b[39m)\u001b[38;5;241m.\u001b[39msum()\n\u001b[1;32m      9\u001b[0m )\n",
      "\u001b[0;31mNameError\u001b[0m: name 'pl_df' is not defined"
     ]
    }
   ],
   "source": [
    "df.group_by(\n",
    "    \"gender\",\n",
    "    (pl.col(\"math score\") < 55)\n",
    "    .and_(pl.col(\"reading score\") < 55)\n",
    "    .and_(pl.col(\"writing score\") < 55)\n",
    "    .alias(\"failed\"),\n",
    ").len().sort(\"failed\").group_by(\"gender\").agg(\n",
    "    pl.col(\"len\").filter(pl.col(\"failed\")).first() / pl.col(\"len\").sum()\n",
    ")"
   ]
  },
  {
   "cell_type": "markdown",
   "metadata": {},
   "source": [
    "### Exercise 2.5\n",
    "Find out whether there is a correlation between the lunch type and the test scores."
   ]
  },
  {
   "cell_type": "code",
   "execution_count": null,
   "metadata": {},
   "outputs": [],
   "source": []
  },
  {
   "cell_type": "markdown",
   "metadata": {},
   "source": [
    "### Exercise 2.6\n",
    "What race/etnicity group scored lowest overall?"
   ]
  },
  {
   "cell_type": "code",
   "execution_count": null,
   "metadata": {},
   "outputs": [],
   "source": []
  },
  {
   "cell_type": "markdown",
   "metadata": {},
   "source": [
    "### Exercise 2.7\n",
    "What race/etnicity group had a significantly higher score in math than other test areas?"
   ]
  },
  {
   "cell_type": "code",
   "execution_count": null,
   "metadata": {},
   "outputs": [],
   "source": []
  }
 ],
 "metadata": {
  "kernelspec": {
   "display_name": ".venv",
   "language": "python",
   "name": "python3"
  },
  "language_info": {
   "codemirror_mode": {
    "name": "ipython",
    "version": 3
   },
   "file_extension": ".py",
   "mimetype": "text/x-python",
   "name": "python",
   "nbconvert_exporter": "python",
   "pygments_lexer": "ipython3",
   "version": "3.12.4"
  }
 },
 "nbformat": 4,
 "nbformat_minor": 2
}
