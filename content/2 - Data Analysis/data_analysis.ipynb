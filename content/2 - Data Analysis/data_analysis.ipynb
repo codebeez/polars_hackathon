{
 "cells": [
  {
   "cell_type": "markdown",
   "metadata": {},
   "source": [
    "# Exploring Polars\n",
    "\n",
    "In this exercise, we are going to explore Polars using a small dataset.\n",
    "The dataset was taken from https://www.kaggle.com/datasets/spscientist/students-performance-in-exams and describes marks obtainead by students for different areas of a test.\n",
    "Ocasionally, we'll explore differences to Pandas.\n",
    "We will also observe that on small datasets, there is a negligible difference between Pandas and Polars in terms of computational speed and memory usage.\n"
   ]
  },
  {
   "cell_type": "code",
   "execution_count": 7,
   "metadata": {},
   "outputs": [
    {
     "name": "stdout",
     "output_type": "stream",
     "text": [
      "The memory_profiler extension is already loaded. To reload it, use:\n",
      "  %reload_ext memory_profiler\n"
     ]
    }
   ],
   "source": [
    "import polars as pl\n",
    "\n",
    "%load_ext memory_profiler"
   ]
  },
  {
   "cell_type": "markdown",
   "metadata": {},
   "source": [
    "## Load the data\n",
    "\n",
    "Load the CSV data using Polars and visualise the loaded DataFrame."
   ]
  },
  {
   "cell_type": "code",
   "execution_count": 8,
   "metadata": {},
   "outputs": [
    {
     "data": {
      "text/html": [
       "<div><style>\n",
       ".dataframe > thead > tr,\n",
       ".dataframe > tbody > tr {\n",
       "  text-align: right;\n",
       "  white-space: pre-wrap;\n",
       "}\n",
       "</style>\n",
       "<small>shape: (1_000, 8)</small><table border=\"1\" class=\"dataframe\"><thead><tr><th>gender</th><th>race/ethnicity</th><th>parental level of education</th><th>lunch</th><th>test preparation course</th><th>math score</th><th>reading score</th><th>writing score</th></tr><tr><td>str</td><td>str</td><td>str</td><td>str</td><td>str</td><td>i64</td><td>i64</td><td>i64</td></tr></thead><tbody><tr><td>&quot;female&quot;</td><td>&quot;group B&quot;</td><td>&quot;bachelor&#x27;s degree&quot;</td><td>&quot;standard&quot;</td><td>&quot;none&quot;</td><td>72</td><td>72</td><td>74</td></tr><tr><td>&quot;female&quot;</td><td>&quot;group C&quot;</td><td>&quot;some college&quot;</td><td>&quot;standard&quot;</td><td>&quot;completed&quot;</td><td>69</td><td>90</td><td>88</td></tr><tr><td>&quot;female&quot;</td><td>&quot;group B&quot;</td><td>&quot;master&#x27;s degree&quot;</td><td>&quot;standard&quot;</td><td>&quot;none&quot;</td><td>90</td><td>95</td><td>93</td></tr><tr><td>&quot;male&quot;</td><td>&quot;group A&quot;</td><td>&quot;associate&#x27;s degree&quot;</td><td>&quot;free/reduced&quot;</td><td>&quot;none&quot;</td><td>47</td><td>57</td><td>44</td></tr><tr><td>&quot;male&quot;</td><td>&quot;group C&quot;</td><td>&quot;some college&quot;</td><td>&quot;standard&quot;</td><td>&quot;none&quot;</td><td>76</td><td>78</td><td>75</td></tr><tr><td>&hellip;</td><td>&hellip;</td><td>&hellip;</td><td>&hellip;</td><td>&hellip;</td><td>&hellip;</td><td>&hellip;</td><td>&hellip;</td></tr><tr><td>&quot;female&quot;</td><td>&quot;group E&quot;</td><td>&quot;master&#x27;s degree&quot;</td><td>&quot;standard&quot;</td><td>&quot;completed&quot;</td><td>88</td><td>99</td><td>95</td></tr><tr><td>&quot;male&quot;</td><td>&quot;group C&quot;</td><td>&quot;high school&quot;</td><td>&quot;free/reduced&quot;</td><td>&quot;none&quot;</td><td>62</td><td>55</td><td>55</td></tr><tr><td>&quot;female&quot;</td><td>&quot;group C&quot;</td><td>&quot;high school&quot;</td><td>&quot;free/reduced&quot;</td><td>&quot;completed&quot;</td><td>59</td><td>71</td><td>65</td></tr><tr><td>&quot;female&quot;</td><td>&quot;group D&quot;</td><td>&quot;some college&quot;</td><td>&quot;standard&quot;</td><td>&quot;completed&quot;</td><td>68</td><td>78</td><td>77</td></tr><tr><td>&quot;female&quot;</td><td>&quot;group D&quot;</td><td>&quot;some college&quot;</td><td>&quot;free/reduced&quot;</td><td>&quot;none&quot;</td><td>77</td><td>86</td><td>86</td></tr></tbody></table></div>"
      ],
      "text/plain": [
       "shape: (1_000, 8)\n",
       "┌────────┬───────────────┬───────────────┬──────────────┬──────────────┬───────┬─────────┬─────────┐\n",
       "│ gender ┆ race/ethnicit ┆ parental      ┆ lunch        ┆ test         ┆ math  ┆ reading ┆ writing │\n",
       "│ ---    ┆ y             ┆ level of      ┆ ---          ┆ preparation  ┆ score ┆ score   ┆ score   │\n",
       "│ str    ┆ ---           ┆ education     ┆ str          ┆ course       ┆ ---   ┆ ---     ┆ ---     │\n",
       "│        ┆ str           ┆ ---           ┆              ┆ ---          ┆ i64   ┆ i64     ┆ i64     │\n",
       "│        ┆               ┆ str           ┆              ┆ str          ┆       ┆         ┆         │\n",
       "╞════════╪═══════════════╪═══════════════╪══════════════╪══════════════╪═══════╪═════════╪═════════╡\n",
       "│ female ┆ group B       ┆ bachelor's    ┆ standard     ┆ none         ┆ 72    ┆ 72      ┆ 74      │\n",
       "│        ┆               ┆ degree        ┆              ┆              ┆       ┆         ┆         │\n",
       "│ female ┆ group C       ┆ some college  ┆ standard     ┆ completed    ┆ 69    ┆ 90      ┆ 88      │\n",
       "│ female ┆ group B       ┆ master's      ┆ standard     ┆ none         ┆ 90    ┆ 95      ┆ 93      │\n",
       "│        ┆               ┆ degree        ┆              ┆              ┆       ┆         ┆         │\n",
       "│ male   ┆ group A       ┆ associate's   ┆ free/reduced ┆ none         ┆ 47    ┆ 57      ┆ 44      │\n",
       "│        ┆               ┆ degree        ┆              ┆              ┆       ┆         ┆         │\n",
       "│ male   ┆ group C       ┆ some college  ┆ standard     ┆ none         ┆ 76    ┆ 78      ┆ 75      │\n",
       "│ …      ┆ …             ┆ …             ┆ …            ┆ …            ┆ …     ┆ …       ┆ …       │\n",
       "│ female ┆ group E       ┆ master's      ┆ standard     ┆ completed    ┆ 88    ┆ 99      ┆ 95      │\n",
       "│        ┆               ┆ degree        ┆              ┆              ┆       ┆         ┆         │\n",
       "│ male   ┆ group C       ┆ high school   ┆ free/reduced ┆ none         ┆ 62    ┆ 55      ┆ 55      │\n",
       "│ female ┆ group C       ┆ high school   ┆ free/reduced ┆ completed    ┆ 59    ┆ 71      ┆ 65      │\n",
       "│ female ┆ group D       ┆ some college  ┆ standard     ┆ completed    ┆ 68    ┆ 78      ┆ 77      │\n",
       "│ female ┆ group D       ┆ some college  ┆ free/reduced ┆ none         ┆ 77    ┆ 86      ┆ 86      │\n",
       "└────────┴───────────────┴───────────────┴──────────────┴──────────────┴───────┴─────────┴─────────┘"
      ]
     },
     "execution_count": 8,
     "metadata": {},
     "output_type": "execute_result"
    }
   ],
   "source": [
    "df = pl.read_csv(\"content/data/StudentsPerformance.csv\")\n",
    "df"
   ]
  },
  {
   "cell_type": "markdown",
   "metadata": {},
   "source": [
    "## Manipulate the data\n",
    "In the remainder of this notebook, we will manipulate the data to answer the provided questions.\n",
    "Consult the documentation at https://docs.pola.rs/api/python/stable/reference/index.html."
   ]
  },
  {
   "cell_type": "markdown",
   "metadata": {},
   "source": [
    "### Exercise 2.2\n",
    "Calculate and show the mean score for each test area separately."
   ]
  },
  {
   "cell_type": "code",
   "execution_count": 9,
   "metadata": {},
   "outputs": [
    {
     "data": {
      "text/html": [
       "<div><style>\n",
       ".dataframe > thead > tr,\n",
       ".dataframe > tbody > tr {\n",
       "  text-align: right;\n",
       "  white-space: pre-wrap;\n",
       "}\n",
       "</style>\n",
       "<small>shape: (1, 3)</small><table border=\"1\" class=\"dataframe\"><thead><tr><th>math score</th><th>reading score</th><th>writing score</th></tr><tr><td>f64</td><td>f64</td><td>f64</td></tr></thead><tbody><tr><td>66.089</td><td>69.169</td><td>68.054</td></tr></tbody></table></div>"
      ],
      "text/plain": [
       "shape: (1, 3)\n",
       "┌────────────┬───────────────┬───────────────┐\n",
       "│ math score ┆ reading score ┆ writing score │\n",
       "│ ---        ┆ ---           ┆ ---           │\n",
       "│ f64        ┆ f64           ┆ f64           │\n",
       "╞════════════╪═══════════════╪═══════════════╡\n",
       "│ 66.089     ┆ 69.169        ┆ 68.054        │\n",
       "└────────────┴───────────────┴───────────────┘"
      ]
     },
     "execution_count": 9,
     "metadata": {},
     "output_type": "execute_result"
    }
   ],
   "source": [
    "df.mean().select(\"math score\", \"reading score\", \"writing score\")"
   ]
  },
  {
   "cell_type": "markdown",
   "metadata": {},
   "source": [
    "### Exercise 2.2\n",
    "Calculate the 90th percentile score for each test area."
   ]
  },
  {
   "cell_type": "code",
   "execution_count": 10,
   "metadata": {},
   "outputs": [
    {
     "data": {
      "text/html": [
       "<div><style>\n",
       ".dataframe > thead > tr,\n",
       ".dataframe > tbody > tr {\n",
       "  text-align: right;\n",
       "  white-space: pre-wrap;\n",
       "}\n",
       "</style>\n",
       "<small>shape: (1, 3)</small><table border=\"1\" class=\"dataframe\"><thead><tr><th>math score</th><th>reading score</th><th>writing score</th></tr><tr><td>f64</td><td>f64</td><td>f64</td></tr></thead><tbody><tr><td>86.0</td><td>87.0</td><td>87.0</td></tr></tbody></table></div>"
      ],
      "text/plain": [
       "shape: (1, 3)\n",
       "┌────────────┬───────────────┬───────────────┐\n",
       "│ math score ┆ reading score ┆ writing score │\n",
       "│ ---        ┆ ---           ┆ ---           │\n",
       "│ f64        ┆ f64           ┆ f64           │\n",
       "╞════════════╪═══════════════╪═══════════════╡\n",
       "│ 86.0       ┆ 87.0          ┆ 87.0          │\n",
       "└────────────┴───────────────┴───────────────┘"
      ]
     },
     "execution_count": 10,
     "metadata": {},
     "output_type": "execute_result"
    }
   ],
   "source": [
    "df.quantile(0.9).select(\"math score\", \"reading score\", \"writing score\")"
   ]
  },
  {
   "cell_type": "markdown",
   "metadata": {},
   "source": [
    "### Exercise 2.3\n",
    "How many students scored higher than the 90th percentile for each test area? \n",
    "* Use only Polars methods and operators within a `select()` predicate"
   ]
  },
  {
   "cell_type": "code",
   "execution_count": 11,
   "metadata": {},
   "outputs": [
    {
     "data": {
      "text/html": [
       "<div><style>\n",
       ".dataframe > thead > tr,\n",
       ".dataframe > tbody > tr {\n",
       "  text-align: right;\n",
       "  white-space: pre-wrap;\n",
       "}\n",
       "</style>\n",
       "<small>shape: (1, 3)</small><table border=\"1\" class=\"dataframe\"><thead><tr><th>math score</th><th>reading score</th><th>writing score</th></tr><tr><td>u32</td><td>u32</td><td>u32</td></tr></thead><tbody><tr><td>95</td><td>100</td><td>98</td></tr></tbody></table></div>"
      ],
      "text/plain": [
       "shape: (1, 3)\n",
       "┌────────────┬───────────────┬───────────────┐\n",
       "│ math score ┆ reading score ┆ writing score │\n",
       "│ ---        ┆ ---           ┆ ---           │\n",
       "│ u32        ┆ u32           ┆ u32           │\n",
       "╞════════════╪═══════════════╪═══════════════╡\n",
       "│ 95         ┆ 100           ┆ 98            │\n",
       "└────────────┴───────────────┴───────────────┘"
      ]
     },
     "execution_count": 11,
     "metadata": {},
     "output_type": "execute_result"
    }
   ],
   "source": [
    "df.select(\n",
    "    pl.col(\"math score\") > pl.quantile(\"math score\", 0.9),\n",
    "    pl.col(\"reading score\") > pl.quantile(\"reading score\", 0.9),\n",
    "    pl.col(\"writing score\") > pl.quantile(\"writing score\", 0.9),\n",
    ").sum()"
   ]
  },
  {
   "cell_type": "markdown",
   "metadata": {},
   "source": [
    "## Group by clause\n",
    "In the exercise below, the `group_by()` method may come in handy.\n",
    "This method returns a `GroupBy` instance, which allows you to define an operation for all columns through global methods such as `sum()`.\n",
    "More interestingly, it allows you to define per-column operations in combination with the `agg()` method.\n",
    "In this method, using the `pl.col()` method we can specificy what happens to the grouped lists in each column, while columns not included in the list are discarded from the result.\n",
    "If we just specify the name without transformations, the grouped lists will be returned as is:"
   ]
  },
  {
   "cell_type": "code",
   "execution_count": 12,
   "metadata": {},
   "outputs": [
    {
     "data": {
      "text/html": [
       "<div><style>\n",
       ".dataframe > thead > tr,\n",
       ".dataframe > tbody > tr {\n",
       "  text-align: right;\n",
       "  white-space: pre-wrap;\n",
       "}\n",
       "</style>\n",
       "<small>shape: (3, 3)</small><table border=\"1\" class=\"dataframe\"><thead><tr><th>c</th><th>sum_a</th><th>b</th></tr><tr><td>i64</td><td>i64</td><td>list[i64]</td></tr></thead><tbody><tr><td>3</td><td>5</td><td>[1]</td></tr><tr><td>1</td><td>3</td><td>[5, 4]</td></tr><tr><td>2</td><td>7</td><td>[3, 2]</td></tr></tbody></table></div>"
      ],
      "text/plain": [
       "shape: (3, 3)\n",
       "┌─────┬───────┬───────────┐\n",
       "│ c   ┆ sum_a ┆ b         │\n",
       "│ --- ┆ ---   ┆ ---       │\n",
       "│ i64 ┆ i64   ┆ list[i64] │\n",
       "╞═════╪═══════╪═══════════╡\n",
       "│ 3   ┆ 5     ┆ [1]       │\n",
       "│ 1   ┆ 3     ┆ [5, 4]    │\n",
       "│ 2   ┆ 7     ┆ [3, 2]    │\n",
       "└─────┴───────┴───────────┘"
      ]
     },
     "execution_count": 12,
     "metadata": {},
     "output_type": "execute_result"
    }
   ],
   "source": [
    "import polars as pl\n",
    "\n",
    "df_example = (\n",
    "    pl.DataFrame(\n",
    "        {\n",
    "            \"a\": [1, 2, 3, 4, 5],\n",
    "            \"b\": [5, 4, 3, 2, 1],\n",
    "            \"c\": [1, 1, 2, 2, 3],\n",
    "        }\n",
    "    )\n",
    "    .group_by(\"c\")\n",
    "    .agg(pl.col(\"a\").sum().alias(\"sum_a\"), \"b\")\n",
    ")\n",
    "df_example"
   ]
  },
  {
   "cell_type": "markdown",
   "metadata": {},
   "source": [
    "\n",
    "\n",
    "### Exercise 2.4\n",
    "Find out the proportions of students who failed on all parts of the test per gender.\n",
    "* Polars expressions support calculations using native operators in combination with the `pl.col` predicate\n",
    "* The `group_by` method may come in handy\n",
    "* In the Netherlands, only scores equal to and higher than 55% are considered a pass, but you feel free to define passing to your own liking!"
   ]
  },
  {
   "cell_type": "code",
   "execution_count": 13,
   "metadata": {},
   "outputs": [
    {
     "data": {
      "text/html": [
       "<div><style>\n",
       ".dataframe > thead > tr,\n",
       ".dataframe > tbody > tr {\n",
       "  text-align: right;\n",
       "  white-space: pre-wrap;\n",
       "}\n",
       "</style>\n",
       "<small>shape: (2, 2)</small><table border=\"1\" class=\"dataframe\"><thead><tr><th>gender</th><th>len</th></tr><tr><td>str</td><td>f64</td></tr></thead><tbody><tr><td>&quot;male&quot;</td><td>0.143154</td></tr><tr><td>&quot;female&quot;</td><td>0.084942</td></tr></tbody></table></div>"
      ],
      "text/plain": [
       "shape: (2, 2)\n",
       "┌────────┬──────────┐\n",
       "│ gender ┆ len      │\n",
       "│ ---    ┆ ---      │\n",
       "│ str    ┆ f64      │\n",
       "╞════════╪══════════╡\n",
       "│ male   ┆ 0.143154 │\n",
       "│ female ┆ 0.084942 │\n",
       "└────────┴──────────┘"
      ]
     },
     "execution_count": 13,
     "metadata": {},
     "output_type": "execute_result"
    }
   ],
   "source": [
    "df.group_by(\n",
    "    \"gender\",\n",
    "    (pl.col(\"math score\") < 55)\n",
    "    .and_(pl.col(\"reading score\") < 55)\n",
    "    .and_(pl.col(\"writing score\") < 55)\n",
    "    .alias(\"failed\"),\n",
    ").len().sort(\"failed\").group_by(\"gender\").agg(\n",
    "    pl.col(\"len\").filter(pl.col(\"failed\")).first() / pl.col(\"len\").sum()\n",
    ")"
   ]
  },
  {
   "cell_type": "markdown",
   "metadata": {},
   "source": [
    "### Exercise 2.5\n",
    "Find out whether there is a correlation between the lunch type and the test scores."
   ]
  },
  {
   "cell_type": "code",
   "execution_count": 14,
   "metadata": {},
   "outputs": [
    {
     "data": {
      "text/html": [
       "<div><style>\n",
       ".dataframe > thead > tr,\n",
       ".dataframe > tbody > tr {\n",
       "  text-align: right;\n",
       "  white-space: pre-wrap;\n",
       "}\n",
       "</style>\n",
       "<small>shape: (2, 2)</small><table border=\"1\" class=\"dataframe\"><thead><tr><th>lunch</th><th>math score</th></tr><tr><td>str</td><td>f64</td></tr></thead><tbody><tr><td>&quot;free/reduced&quot;</td><td>62.199061</td></tr><tr><td>&quot;standard&quot;</td><td>70.837209</td></tr></tbody></table></div>"
      ],
      "text/plain": [
       "shape: (2, 2)\n",
       "┌──────────────┬────────────┐\n",
       "│ lunch        ┆ math score │\n",
       "│ ---          ┆ ---        │\n",
       "│ str          ┆ f64        │\n",
       "╞══════════════╪════════════╡\n",
       "│ free/reduced ┆ 62.199061  │\n",
       "│ standard     ┆ 70.837209  │\n",
       "└──────────────┴────────────┘"
      ]
     },
     "execution_count": 14,
     "metadata": {},
     "output_type": "execute_result"
    }
   ],
   "source": [
    "df.group_by(\"lunch\").agg(pl.mean_horizontal(\"math score\", \"reading score\", \"writing score\").mean())"
   ]
  },
  {
   "cell_type": "markdown",
   "metadata": {},
   "source": [
    "### Exercise 2.6\n",
    "What race/etnicity group scored lowest overall?"
   ]
  },
  {
   "cell_type": "code",
   "execution_count": 15,
   "metadata": {},
   "outputs": [
    {
     "data": {
      "text/html": [
       "<div><style>\n",
       ".dataframe > thead > tr,\n",
       ".dataframe > tbody > tr {\n",
       "  text-align: right;\n",
       "  white-space: pre-wrap;\n",
       "}\n",
       "</style>\n",
       "<small>shape: (1, 2)</small><table border=\"1\" class=\"dataframe\"><thead><tr><th>race/ethnicity</th><th>mean_score</th></tr><tr><td>str</td><td>f64</td></tr></thead><tbody><tr><td>&quot;group A&quot;</td><td>62.992509</td></tr></tbody></table></div>"
      ],
      "text/plain": [
       "shape: (1, 2)\n",
       "┌────────────────┬────────────┐\n",
       "│ race/ethnicity ┆ mean_score │\n",
       "│ ---            ┆ ---        │\n",
       "│ str            ┆ f64        │\n",
       "╞════════════════╪════════════╡\n",
       "│ group A        ┆ 62.992509  │\n",
       "└────────────────┴────────────┘"
      ]
     },
     "execution_count": 15,
     "metadata": {},
     "output_type": "execute_result"
    }
   ],
   "source": [
    "df.group_by(\"race/ethnicity\").agg(\n",
    "    pl.mean_horizontal(\"math score\", \"reading score\", \"writing score\")\n",
    "    .mean()\n",
    "    .alias(\"mean_score\")\n",
    ").sort(\"mean_score\").head(1)"
   ]
  },
  {
   "cell_type": "markdown",
   "metadata": {},
   "source": [
    "### Exercise 2.7\n",
    "What race/etnicity group had a significantly higher score in math than other test areas?\n",
    "\n",
    "_NOTE: I think we can conclude that the score is not necessarily significantly higher than the mean score on the other test areas, but the difference is significantly higher compared to the other groups who all scored lower on maths than other areas_"
   ]
  },
  {
   "cell_type": "code",
   "execution_count": 23,
   "metadata": {},
   "outputs": [
    {
     "data": {
      "text/html": [
       "<div><style>\n",
       ".dataframe > thead > tr,\n",
       ".dataframe > tbody > tr {\n",
       "  text-align: right;\n",
       "  white-space: pre-wrap;\n",
       "}\n",
       "</style>\n",
       "<small>shape: (5, 4)</small><table border=\"1\" class=\"dataframe\"><thead><tr><th>race/ethnicity</th><th>math score</th><th>reading score</th><th>math_ratio</th></tr><tr><td>str</td><td>f64</td><td>f64</td><td>f64</td></tr></thead><tbody><tr><td>&quot;group E&quot;</td><td>73.821429</td><td>72.217857</td><td>1.022205</td></tr><tr><td>&quot;group A&quot;</td><td>61.629213</td><td>63.674157</td><td>0.967884</td></tr><tr><td>&quot;group D&quot;</td><td>67.362595</td><td>70.087786</td><td>0.961117</td></tr><tr><td>&quot;group B&quot;</td><td>63.452632</td><td>66.476316</td><td>0.954515</td></tr><tr><td>&quot;group C&quot;</td><td>64.46395</td><td>68.465517</td><td>0.941554</td></tr></tbody></table></div>"
      ],
      "text/plain": [
       "shape: (5, 4)\n",
       "┌────────────────┬────────────┬───────────────┬────────────┐\n",
       "│ race/ethnicity ┆ math score ┆ reading score ┆ math_ratio │\n",
       "│ ---            ┆ ---        ┆ ---           ┆ ---        │\n",
       "│ str            ┆ f64        ┆ f64           ┆ f64        │\n",
       "╞════════════════╪════════════╪═══════════════╪════════════╡\n",
       "│ group E        ┆ 73.821429  ┆ 72.217857     ┆ 1.022205   │\n",
       "│ group A        ┆ 61.629213  ┆ 63.674157     ┆ 0.967884   │\n",
       "│ group D        ┆ 67.362595  ┆ 70.087786     ┆ 0.961117   │\n",
       "│ group B        ┆ 63.452632  ┆ 66.476316     ┆ 0.954515   │\n",
       "│ group C        ┆ 64.46395   ┆ 68.465517     ┆ 0.941554   │\n",
       "└────────────────┴────────────┴───────────────┴────────────┘"
      ]
     },
     "execution_count": 23,
     "metadata": {},
     "output_type": "execute_result"
    }
   ],
   "source": [
    "df.group_by(\"race/ethnicity\").agg(\n",
    "    pl.col(\"math score\").mean(),\n",
    "    pl.mean_horizontal(\"reading score\", \"writing score\").mean(),\n",
    ").select(\n",
    "    pl.all(), (pl.col(\"math score\") / pl.col(\"reading score\")).alias(\"math_ratio\")\n",
    ").sort(\"math_ratio\", descending=True).head(1)"
   ]
  }
 ],
 "metadata": {
  "language_info": {
   "name": "python"
  }
 },
 "nbformat": 4,
 "nbformat_minor": 2
}
