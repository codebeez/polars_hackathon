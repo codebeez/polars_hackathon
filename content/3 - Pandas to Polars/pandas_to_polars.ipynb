{
 "cells": [
  {
   "cell_type": "code",
   "execution_count": 1,
   "metadata": {},
   "outputs": [],
   "source": [
    "import polars as pl\n",
    "import pandas as pd\n",
    "\n",
    "from content.utils import polars_read_tsv_file, pandas_read_tsv_file\n",
    "from content.constants import IMDB_DATASET_PATH\n",
    "\n",
    "%load_ext memory_profiler"
   ]
  },
  {
   "cell_type": "markdown",
   "metadata": {},
   "source": [
    "# Is this a break-up?\n",
    "\n",
    "Frankly, I personally never fell in love with Pandas because I always felt the performance was not entirely up to speed with what I was used to coming from other environments.\n",
    "However, from the perspective of data analysis I can now understand it is easy to fall in love with a library that makes correlating data so much easier while keeping the syntax relatively easy to read.\n",
    "\n",
    "Since that time though Pandas has come a long way and has made incredible performance improvements.\n",
    "However, it still has important shortcomings with respect to Polars.\n",
    "We will explore these below with a few exercises, which will also make you familiar with how Pandas code can be rewritten to Polars!"
   ]
  },
  {
   "cell_type": "markdown",
   "metadata": {},
   "source": [
    "## Performance\n",
    "The first one we will explore is, surprise surprise, the difference in performance.\n",
    "Pandas is written on top of Python (on top of C), while Polars is written in Rust.\n",
    "While the reduced overhead is already an important difference, this also means that Polars can fully utilize all cores and it has been written with this idea in mind.\n",
    "Although the CPython interface of version 3.12 has made important changes to make this possible from Python as well, it will take time before Pandas is rewritten to optimally do so.\n",
    "Interestingly, for smaller data frames we see different results than for larger ones, not always in favour of Polars.\n",
    "\n",
    "### Exercise 3.1\n",
    "In this exercise we will load in a small CSV dataset.\n",
    "Load in the StudentsPerformance dataset in with Pandas and measure the execution time, then load the same file in with Polars and measure the execution time."
   ]
  },
  {
   "cell_type": "code",
   "execution_count": null,
   "metadata": {},
   "outputs": [],
   "source": [
    "%%memit"
   ]
  },
  {
   "cell_type": "code",
   "execution_count": null,
   "metadata": {},
   "outputs": [],
   "source": [
    "%%memit"
   ]
  },
  {
   "cell_type": "markdown",
   "metadata": {},
   "source": [
    "### Exercise 3.2\n",
    "In this exercise, let's check how the performance compares when reading in a large dataset.\n",
    "For this purpose, we will use the IMDB dataset."
   ]
  },
  {
   "cell_type": "code",
   "execution_count": null,
   "metadata": {},
   "outputs": [],
   "source": [
    "%%memit"
   ]
  },
  {
   "cell_type": "code",
   "execution_count": null,
   "metadata": {},
   "outputs": [],
   "source": [
    "%%memit"
   ]
  },
  {
   "cell_type": "markdown",
   "metadata": {},
   "source": [
    "Likely, you found a slightly higher execution time for Polars in the case of the small dataset, and a significantly lower execution time for the large dataset.\n",
    "This appears to be the general case, due to which Polars is especially recommendable for large datasets in practice."
   ]
  },
  {
   "cell_type": "markdown",
   "metadata": {},
   "source": [
    "## Real null values\n",
    "One of the main annoyances about Polars is that null values are not actual null values.\n",
    "This complicates further processing of individual column data and will sometimes lead to users having to make assumptions about their data.\n",
    "In Pandas, the \"null\" value always depends on the data type of the column, which complicates post-processing:"
   ]
  },
  {
   "cell_type": "code",
   "execution_count": null,
   "metadata": {},
   "outputs": [],
   "source": [
    "import numpy as np\n",
    "\n",
    "\n",
    "test_df = pd.DataFrame(\n",
    "    {\n",
    "        \"test\": pd.Series([1, 2, 3, None], dtype=pd.Int8Dtype),\n",
    "        \"numbers\": [1, 2, 3, None],\n",
    "        \"int_values\": [1, 2, 3, 4],\n",
    "        \"str_values\": [\"a\", \"b\", \"c\", None],\n",
    "        \"bool_values\": [True, False, None, None],\n",
    "    }\n",
    ")\n",
    "display(test_df)\n",
    "display(test_df.memory_usage(deep=True))\n",
    "display(type(test_df[\"test\"][0]))"
   ]
  },
  {
   "cell_type": "markdown",
   "metadata": {},
   "source": [
    "Additionally, the dtype of a column can change if one of the values is set to None.\n",
    "For example, if the value of an in64 column is changed to None, the dtype of the column will change along with it:"
   ]
  },
  {
   "cell_type": "code",
   "execution_count": null,
   "metadata": {},
   "outputs": [],
   "source": [
    "test_df.loc[3, \"int_values\"] = None\n",
    "display(test_df)\n",
    "display(type(test_df[\"int_values\"][0]))"
   ]
  },
  {
   "cell_type": "markdown",
   "metadata": {},
   "source": [
    "### Exercise 3.3\n",
    "In the last data frame, we observe three different dtypes and corresponding \"null\" values.\n",
    "What are the Python types of these different null values and how can they be filtered out when post-processing columns? "
   ]
  },
  {
   "cell_type": "code",
   "execution_count": null,
   "metadata": {},
   "outputs": [],
   "source": []
  },
  {
   "cell_type": "markdown",
   "metadata": {},
   "source": [
    "In Polars, null values are consistently displayed as \"null\" when showing data and, more importantly, consistently evaluate to Python None values.\n",
    "This facilitates more intuitive None value checks and corresponding data processing."
   ]
  },
  {
   "cell_type": "markdown",
   "metadata": {},
   "source": [
    "### Exercise 3.4\n",
    "Recreate the previous data frame in Polars and display and evaluate the null values in a similar fashion."
   ]
  },
  {
   "cell_type": "code",
   "execution_count": null,
   "metadata": {},
   "outputs": [],
   "source": []
  },
  {
   "cell_type": "markdown",
   "metadata": {},
   "source": [
    "## Syntax\n",
    "Polars and Pandas share a lot of similarity in many methods and functionality, but they also differ fundamentally in others.\n",
    "The most fundamental difference in core principles is that Polars has no support for indices, while in Pandas you can always manipulate rows individually. \n",
    "While it is possible to do the same in Polars, you will either need to append an index column to your data frame or use cumbersome syntax with possibly expensive operations to achieve index-based manipulation.\n",
    "\n",
    "The main idea behind this is to stimulate transparency in data manipulation, with the thought that the state of the index and intransparent `reset_index` calls do not favour transparency.\n",
    "In Polars, you should instead consider the conditions the record(s) you need to manipulate meet, and address them based on those, rather than their position within the frame.\n",
    "\n",
    "Below, we will explore a few other syntax differences between the two by loading in data and rewriting the Pandas statements to Polars.\n",
    "Within all of these differences, you may notice that transparency is a recurring principle."
   ]
  },
  {
   "cell_type": "code",
   "execution_count": 33,
   "metadata": {},
   "outputs": [],
   "source": [
    "games_pl = pl.read_csv(\"content/data/game_recommendations_on_steam/games.csv\")\n",
    "games_pd = pd.read_csv(\"content/data/game_recommendations_on_steam/games.csv\")"
   ]
  },
  {
   "cell_type": "markdown",
   "metadata": {},
   "source": [
    "### Exercise 3.5\n",
    "Rewrite to Polars: select the titles of the games and obtain the result as a list"
   ]
  },
  {
   "cell_type": "code",
   "execution_count": null,
   "metadata": {},
   "outputs": [],
   "source": [
    "games_pd.loc[:, \"title\"].to_list()"
   ]
  },
  {
   "cell_type": "code",
   "execution_count": null,
   "metadata": {},
   "outputs": [],
   "source": []
  },
  {
   "cell_type": "markdown",
   "metadata": {},
   "source": [
    "### Exercise 3.6\n",
    "Filter the Leisure Suit Larry games scoring higher than 80%."
   ]
  },
  {
   "cell_type": "code",
   "execution_count": null,
   "metadata": {},
   "outputs": [],
   "source": [
    "games_pd[(games_pd[\"title\"].str.contains(\"Leisure Suit Larry\")) & (games_pd[\"positive_ratio\"] > 80)]"
   ]
  },
  {
   "cell_type": "code",
   "execution_count": null,
   "metadata": {},
   "outputs": [],
   "source": []
  },
  {
   "cell_type": "markdown",
   "metadata": {},
   "source": [
    "### Exercise 3.7\n",
    "Give The Witcher the score it deserves."
   ]
  },
  {
   "cell_type": "code",
   "execution_count": null,
   "metadata": {},
   "outputs": [],
   "source": [
    "games_pd.loc[games_pd[\"title\"] == \"The Witcher 3: Wild Hunt - Blood and Wine\", \"positive_ratio\"] = 100\n",
    "games_pd[games_pd[\"title\"] == \"The Witcher 3: Wild Hunt - Blood and Wine\"]"
   ]
  },
  {
   "cell_type": "code",
   "execution_count": null,
   "metadata": {},
   "outputs": [],
   "source": []
  },
  {
   "cell_type": "markdown",
   "metadata": {},
   "source": [
    "## Being lazy pays off\n",
    "One of the most important distinctions yet between Pandas and Polars is lazy loading and lazy manipulation of data.\n",
    "This allows users to pass around, amplify and modify query contexts on the data before the data is ever read, finally allowing Polars to add up and optimize all the operations when the data is finally collected.\n",
    "For this we have no exercises here, as we dedicated the next part of this hackathon to it.\n",
    "Continue with part 4!"
   ]
  }
 ],
 "metadata": {
  "kernelspec": {
   "display_name": "Python 3 (ipykernel)",
   "language": "python",
   "name": "python3"
  },
  "language_info": {
   "codemirror_mode": {
    "name": "ipython",
    "version": 3
   },
   "file_extension": ".py",
   "mimetype": "text/x-python",
   "name": "python",
   "nbconvert_exporter": "python",
   "pygments_lexer": "ipython3",
   "version": "3.12.4"
  }
 },
 "nbformat": 4,
 "nbformat_minor": 2
}
