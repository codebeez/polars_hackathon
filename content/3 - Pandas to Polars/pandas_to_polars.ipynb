{
 "cells": [
  {
   "cell_type": "markdown",
   "metadata": {},
   "source": [
    "# Is this a break-up?\n",
    "\n",
    "Frankly, I personally never fell in love with Pandas because I always felt the performance was not entirely up to speed with what I was used to coming from other environments.\n",
    "However, from the perspective of data analysis I can now understand it is easy to fall in love with a library that makes correlating data so much easier while keeping the syntax relatively easy to read.\n",
    "\n",
    "Since that time though Pandas has come a long way and has made incredible performance improvements.\n",
    "However, it still has important shortcomings with respect to Polars.\n",
    "We will explore these below with a few exercises, which will also make you familiar with how Pandas code can be rewritten to Polars!"
   ]
  },
  {
   "cell_type": "code",
   "execution_count": 1,
   "metadata": {},
   "outputs": [],
   "source": [
    "import polars as pl\n",
    "import pandas as pd\n",
    "\n",
    "from content.utils import polars_read_tsv_file, pandas_read_tsv_file\n",
    "from content.constants import IMDB_DATASET_PATH\n",
    "\n",
    "%load_ext memory_profiler"
   ]
  },
  {
   "cell_type": "markdown",
   "metadata": {},
   "source": [
    "## Performance\n",
    "The first one we will explore is, surprise surprise, the difference in performance.\n",
    "Pandas is written on top of Python (on top of C), while Polars is written in Rust.\n",
    "While the reduced overhead is already an important difference, this also means that Polars can fully utilize all cores and it has been written with this idea in mind.\n",
    "Although the CPython interface of version 3.12 has made important changes to make this possible from Python as well, it will take time before Pandas is rewritten to optimally do so.\n",
    "Interestingly, for smaller data frames we see different results than for larger ones, not always in favour of Polars.\n",
    "\n",
    "### Exercise 3.1\n",
    "In this exercise we will load in a small CSV dataset.\n",
    "Load in the StudentsPerformance dataset in with Pandas and measure the execution time, then load the same file in with Polars and measure the execution time."
   ]
  },
  {
   "cell_type": "code",
   "execution_count": 2,
   "metadata": {},
   "outputs": [
    {
     "data": {
      "text/html": [
       "<div>\n",
       "<style scoped>\n",
       "    .dataframe tbody tr th:only-of-type {\n",
       "        vertical-align: middle;\n",
       "    }\n",
       "\n",
       "    .dataframe tbody tr th {\n",
       "        vertical-align: top;\n",
       "    }\n",
       "\n",
       "    .dataframe thead th {\n",
       "        text-align: right;\n",
       "    }\n",
       "</style>\n",
       "<table border=\"1\" class=\"dataframe\">\n",
       "  <thead>\n",
       "    <tr style=\"text-align: right;\">\n",
       "      <th></th>\n",
       "      <th>gender</th>\n",
       "      <th>race/ethnicity</th>\n",
       "      <th>parental level of education</th>\n",
       "      <th>lunch</th>\n",
       "      <th>test preparation course</th>\n",
       "      <th>math score</th>\n",
       "      <th>reading score</th>\n",
       "      <th>writing score</th>\n",
       "    </tr>\n",
       "  </thead>\n",
       "  <tbody>\n",
       "    <tr>\n",
       "      <th>0</th>\n",
       "      <td>female</td>\n",
       "      <td>group B</td>\n",
       "      <td>bachelor's degree</td>\n",
       "      <td>standard</td>\n",
       "      <td>none</td>\n",
       "      <td>72</td>\n",
       "      <td>72</td>\n",
       "      <td>74</td>\n",
       "    </tr>\n",
       "    <tr>\n",
       "      <th>1</th>\n",
       "      <td>female</td>\n",
       "      <td>group C</td>\n",
       "      <td>some college</td>\n",
       "      <td>standard</td>\n",
       "      <td>completed</td>\n",
       "      <td>69</td>\n",
       "      <td>90</td>\n",
       "      <td>88</td>\n",
       "    </tr>\n",
       "    <tr>\n",
       "      <th>2</th>\n",
       "      <td>female</td>\n",
       "      <td>group B</td>\n",
       "      <td>master's degree</td>\n",
       "      <td>standard</td>\n",
       "      <td>none</td>\n",
       "      <td>90</td>\n",
       "      <td>95</td>\n",
       "      <td>93</td>\n",
       "    </tr>\n",
       "    <tr>\n",
       "      <th>3</th>\n",
       "      <td>male</td>\n",
       "      <td>group A</td>\n",
       "      <td>associate's degree</td>\n",
       "      <td>free/reduced</td>\n",
       "      <td>none</td>\n",
       "      <td>47</td>\n",
       "      <td>57</td>\n",
       "      <td>44</td>\n",
       "    </tr>\n",
       "    <tr>\n",
       "      <th>4</th>\n",
       "      <td>male</td>\n",
       "      <td>group C</td>\n",
       "      <td>some college</td>\n",
       "      <td>standard</td>\n",
       "      <td>none</td>\n",
       "      <td>76</td>\n",
       "      <td>78</td>\n",
       "      <td>75</td>\n",
       "    </tr>\n",
       "  </tbody>\n",
       "</table>\n",
       "</div>"
      ],
      "text/plain": [
       "   gender race/ethnicity parental level of education         lunch  \\\n",
       "0  female        group B           bachelor's degree      standard   \n",
       "1  female        group C                some college      standard   \n",
       "2  female        group B             master's degree      standard   \n",
       "3    male        group A          associate's degree  free/reduced   \n",
       "4    male        group C                some college      standard   \n",
       "\n",
       "  test preparation course  math score  reading score  writing score  \n",
       "0                    none          72             72             74  \n",
       "1               completed          69             90             88  \n",
       "2                    none          90             95             93  \n",
       "3                    none          47             57             44  \n",
       "4                    none          76             78             75  "
      ]
     },
     "metadata": {},
     "output_type": "display_data"
    },
    {
     "name": "stdout",
     "output_type": "stream",
     "text": [
      "peak memory: 163.73 MiB, increment: 0.22 MiB\n"
     ]
    }
   ],
   "source": [
    "%%memit\n",
    "performance_pd = pd.read_csv(\"content/data/StudentsPerformance.csv\")\n",
    "display(performance_pd.head())"
   ]
  },
  {
   "cell_type": "code",
   "execution_count": 3,
   "metadata": {},
   "outputs": [
    {
     "data": {
      "text/html": [
       "<div><style>\n",
       ".dataframe > thead > tr,\n",
       ".dataframe > tbody > tr {\n",
       "  text-align: right;\n",
       "  white-space: pre-wrap;\n",
       "}\n",
       "</style>\n",
       "<small>shape: (5, 8)</small><table border=\"1\" class=\"dataframe\"><thead><tr><th>gender</th><th>race/ethnicity</th><th>parental level of education</th><th>lunch</th><th>test preparation course</th><th>math score</th><th>reading score</th><th>writing score</th></tr><tr><td>str</td><td>str</td><td>str</td><td>str</td><td>str</td><td>i64</td><td>i64</td><td>i64</td></tr></thead><tbody><tr><td>&quot;female&quot;</td><td>&quot;group B&quot;</td><td>&quot;bachelor&#x27;s degree&quot;</td><td>&quot;standard&quot;</td><td>&quot;none&quot;</td><td>72</td><td>72</td><td>74</td></tr><tr><td>&quot;female&quot;</td><td>&quot;group C&quot;</td><td>&quot;some college&quot;</td><td>&quot;standard&quot;</td><td>&quot;completed&quot;</td><td>69</td><td>90</td><td>88</td></tr><tr><td>&quot;female&quot;</td><td>&quot;group B&quot;</td><td>&quot;master&#x27;s degree&quot;</td><td>&quot;standard&quot;</td><td>&quot;none&quot;</td><td>90</td><td>95</td><td>93</td></tr><tr><td>&quot;male&quot;</td><td>&quot;group A&quot;</td><td>&quot;associate&#x27;s degree&quot;</td><td>&quot;free/reduced&quot;</td><td>&quot;none&quot;</td><td>47</td><td>57</td><td>44</td></tr><tr><td>&quot;male&quot;</td><td>&quot;group C&quot;</td><td>&quot;some college&quot;</td><td>&quot;standard&quot;</td><td>&quot;none&quot;</td><td>76</td><td>78</td><td>75</td></tr></tbody></table></div>"
      ],
      "text/plain": [
       "shape: (5, 8)\n",
       "┌────────┬───────────────┬───────────────┬──────────────┬──────────────┬───────┬─────────┬─────────┐\n",
       "│ gender ┆ race/ethnicit ┆ parental      ┆ lunch        ┆ test         ┆ math  ┆ reading ┆ writing │\n",
       "│ ---    ┆ y             ┆ level of      ┆ ---          ┆ preparation  ┆ score ┆ score   ┆ score   │\n",
       "│ str    ┆ ---           ┆ education     ┆ str          ┆ course       ┆ ---   ┆ ---     ┆ ---     │\n",
       "│        ┆ str           ┆ ---           ┆              ┆ ---          ┆ i64   ┆ i64     ┆ i64     │\n",
       "│        ┆               ┆ str           ┆              ┆ str          ┆       ┆         ┆         │\n",
       "╞════════╪═══════════════╪═══════════════╪══════════════╪══════════════╪═══════╪═════════╪═════════╡\n",
       "│ female ┆ group B       ┆ bachelor's    ┆ standard     ┆ none         ┆ 72    ┆ 72      ┆ 74      │\n",
       "│        ┆               ┆ degree        ┆              ┆              ┆       ┆         ┆         │\n",
       "│ female ┆ group C       ┆ some college  ┆ standard     ┆ completed    ┆ 69    ┆ 90      ┆ 88      │\n",
       "│ female ┆ group B       ┆ master's      ┆ standard     ┆ none         ┆ 90    ┆ 95      ┆ 93      │\n",
       "│        ┆               ┆ degree        ┆              ┆              ┆       ┆         ┆         │\n",
       "│ male   ┆ group A       ┆ associate's   ┆ free/reduced ┆ none         ┆ 47    ┆ 57      ┆ 44      │\n",
       "│        ┆               ┆ degree        ┆              ┆              ┆       ┆         ┆         │\n",
       "│ male   ┆ group C       ┆ some college  ┆ standard     ┆ none         ┆ 76    ┆ 78      ┆ 75      │\n",
       "└────────┴───────────────┴───────────────┴──────────────┴──────────────┴───────┴─────────┴─────────┘"
      ]
     },
     "metadata": {},
     "output_type": "display_data"
    },
    {
     "name": "stdout",
     "output_type": "stream",
     "text": [
      "peak memory: 226.55 MiB, increment: 82.66 MiB\n"
     ]
    }
   ],
   "source": [
    "%%memit\n",
    "performance_pl = pl.read_csv(\"content/data/StudentsPerformance.csv\")\n",
    "display(performance_pl.head())"
   ]
  },
  {
   "cell_type": "markdown",
   "metadata": {},
   "source": [
    "### Exercise 3.2\n",
    "In this exercise, let's check how the performance compares when reading in a large dataset.\n",
    "For this purpose, we will use the IMDB dataset."
   ]
  },
  {
   "cell_type": "code",
   "execution_count": 4,
   "metadata": {},
   "outputs": [
    {
     "name": "stdout",
     "output_type": "stream",
     "text": [
      "peak memory: 3271.56 MiB, increment: 3045.00 MiB\n"
     ]
    }
   ],
   "source": [
    "%%memit\n",
    "imdb_polars = polars_read_tsv_file(IMDB_DATASET_PATH + \"title.basics\")"
   ]
  },
  {
   "cell_type": "code",
   "execution_count": 5,
   "metadata": {},
   "outputs": [
    {
     "name": "stderr",
     "output_type": "stream",
     "text": [
      "/workspaces/polars_hackathon/content/utils.py:17: DtypeWarning: Columns (7) have mixed types. Specify dtype option on import or set low_memory=False.\n",
      "  return pd.read_csv(file_path + \".tsv\", sep=\"\\t\", quoting=0, na_values=[\"\\\\N\", \"nan\"])\n"
     ]
    },
    {
     "name": "stdout",
     "output_type": "stream",
     "text": [
      "peak memory: 7456.81 MiB, increment: 5018.65 MiB\n"
     ]
    }
   ],
   "source": [
    "%%memit\n",
    "imdb_pandas = pandas_read_tsv_file(IMDB_DATASET_PATH + \"title.basics\")"
   ]
  },
  {
   "cell_type": "markdown",
   "metadata": {},
   "source": [
    "Likely, you found a slightly higher execution time for Polars in the case of the small dataset, and a significantly lower execution time for the large dataset.\n",
    "This appears to be the general case, due to which Polars is especially recommendable for large datasets in practice."
   ]
  },
  {
   "cell_type": "markdown",
   "metadata": {},
   "source": [
    "## Real null values\n",
    "One of the main annoyances about Polars is that null values are not actual null values.\n",
    "This complicates further processing of individual column data and will sometimes lead to users having to make assumptions about their data.\n",
    "In Pandas, the \"null\" value always depends on the data type of the column, which complicates post-processing:"
   ]
  },
  {
   "cell_type": "code",
   "execution_count": 6,
   "metadata": {},
   "outputs": [
    {
     "name": "stderr",
     "output_type": "stream",
     "text": [
      "/tmp/ipykernel_1146/1866423608.py:3: UserWarning: Instantiating Int8Dtype without any arguments.Pass a Int8Dtype instance to silence this warning.\n",
      "  \"test\": pd.Series([1, 2, 3, None], dtype=pd.Int8Dtype),\n"
     ]
    },
    {
     "data": {
      "text/html": [
       "<div>\n",
       "<style scoped>\n",
       "    .dataframe tbody tr th:only-of-type {\n",
       "        vertical-align: middle;\n",
       "    }\n",
       "\n",
       "    .dataframe tbody tr th {\n",
       "        vertical-align: top;\n",
       "    }\n",
       "\n",
       "    .dataframe thead th {\n",
       "        text-align: right;\n",
       "    }\n",
       "</style>\n",
       "<table border=\"1\" class=\"dataframe\">\n",
       "  <thead>\n",
       "    <tr style=\"text-align: right;\">\n",
       "      <th></th>\n",
       "      <th>test</th>\n",
       "      <th>numbers</th>\n",
       "      <th>int_values</th>\n",
       "      <th>str_values</th>\n",
       "      <th>bool_values</th>\n",
       "    </tr>\n",
       "  </thead>\n",
       "  <tbody>\n",
       "    <tr>\n",
       "      <th>0</th>\n",
       "      <td>1</td>\n",
       "      <td>1.0</td>\n",
       "      <td>1</td>\n",
       "      <td>a</td>\n",
       "      <td>True</td>\n",
       "    </tr>\n",
       "    <tr>\n",
       "      <th>1</th>\n",
       "      <td>2</td>\n",
       "      <td>2.0</td>\n",
       "      <td>2</td>\n",
       "      <td>b</td>\n",
       "      <td>False</td>\n",
       "    </tr>\n",
       "    <tr>\n",
       "      <th>2</th>\n",
       "      <td>3</td>\n",
       "      <td>3.0</td>\n",
       "      <td>3</td>\n",
       "      <td>c</td>\n",
       "      <td>None</td>\n",
       "    </tr>\n",
       "    <tr>\n",
       "      <th>3</th>\n",
       "      <td>&lt;NA&gt;</td>\n",
       "      <td>NaN</td>\n",
       "      <td>4</td>\n",
       "      <td>None</td>\n",
       "      <td>None</td>\n",
       "    </tr>\n",
       "  </tbody>\n",
       "</table>\n",
       "</div>"
      ],
      "text/plain": [
       "   test  numbers  int_values str_values bool_values\n",
       "0     1      1.0           1          a        True\n",
       "1     2      2.0           2          b       False\n",
       "2     3      3.0           3          c        None\n",
       "3  <NA>      NaN           4       None        None"
      ]
     },
     "metadata": {},
     "output_type": "display_data"
    },
    {
     "data": {
      "text/plain": [
       "Index          132\n",
       "test             8\n",
       "numbers         32\n",
       "int_values      32\n",
       "str_values     174\n",
       "bool_values    120\n",
       "dtype: int64"
      ]
     },
     "metadata": {},
     "output_type": "display_data"
    },
    {
     "data": {
      "text/plain": [
       "numpy.int8"
      ]
     },
     "metadata": {},
     "output_type": "display_data"
    }
   ],
   "source": [
    "test_df = pd.DataFrame(\n",
    "    {\n",
    "        \"test\": pd.Series([1, 2, 3, None], dtype=pd.Int8Dtype),\n",
    "        \"numbers\": [1, 2, 3, None],\n",
    "        \"int_values\": [1, 2, 3, 4],\n",
    "        \"str_values\": [\"a\", \"b\", \"c\", None],\n",
    "        \"bool_values\": [True, False, None, None],\n",
    "    }\n",
    ")\n",
    "display(test_df)\n",
    "display(test_df.memory_usage(deep=True))\n",
    "display(type(test_df[\"test\"][0]))"
   ]
  },
  {
   "cell_type": "markdown",
   "metadata": {},
   "source": [
    "Additionally, the dtype of a column can change if one of the values is set to None.\n",
    "For example, if the value of an in64 column is changed to None, the dtype of the column will change along with it:"
   ]
  },
  {
   "cell_type": "code",
   "execution_count": 7,
   "metadata": {},
   "outputs": [
    {
     "data": {
      "text/html": [
       "<div>\n",
       "<style scoped>\n",
       "    .dataframe tbody tr th:only-of-type {\n",
       "        vertical-align: middle;\n",
       "    }\n",
       "\n",
       "    .dataframe tbody tr th {\n",
       "        vertical-align: top;\n",
       "    }\n",
       "\n",
       "    .dataframe thead th {\n",
       "        text-align: right;\n",
       "    }\n",
       "</style>\n",
       "<table border=\"1\" class=\"dataframe\">\n",
       "  <thead>\n",
       "    <tr style=\"text-align: right;\">\n",
       "      <th></th>\n",
       "      <th>test</th>\n",
       "      <th>numbers</th>\n",
       "      <th>int_values</th>\n",
       "      <th>str_values</th>\n",
       "      <th>bool_values</th>\n",
       "    </tr>\n",
       "  </thead>\n",
       "  <tbody>\n",
       "    <tr>\n",
       "      <th>0</th>\n",
       "      <td>1</td>\n",
       "      <td>1.0</td>\n",
       "      <td>1.0</td>\n",
       "      <td>a</td>\n",
       "      <td>True</td>\n",
       "    </tr>\n",
       "    <tr>\n",
       "      <th>1</th>\n",
       "      <td>2</td>\n",
       "      <td>2.0</td>\n",
       "      <td>2.0</td>\n",
       "      <td>b</td>\n",
       "      <td>False</td>\n",
       "    </tr>\n",
       "    <tr>\n",
       "      <th>2</th>\n",
       "      <td>3</td>\n",
       "      <td>3.0</td>\n",
       "      <td>3.0</td>\n",
       "      <td>c</td>\n",
       "      <td>None</td>\n",
       "    </tr>\n",
       "    <tr>\n",
       "      <th>3</th>\n",
       "      <td>&lt;NA&gt;</td>\n",
       "      <td>NaN</td>\n",
       "      <td>NaN</td>\n",
       "      <td>None</td>\n",
       "      <td>None</td>\n",
       "    </tr>\n",
       "  </tbody>\n",
       "</table>\n",
       "</div>"
      ],
      "text/plain": [
       "   test  numbers  int_values str_values bool_values\n",
       "0     1      1.0         1.0          a        True\n",
       "1     2      2.0         2.0          b       False\n",
       "2     3      3.0         3.0          c        None\n",
       "3  <NA>      NaN         NaN       None        None"
      ]
     },
     "metadata": {},
     "output_type": "display_data"
    },
    {
     "data": {
      "text/plain": [
       "numpy.float64"
      ]
     },
     "metadata": {},
     "output_type": "display_data"
    }
   ],
   "source": [
    "test_df.loc[3, \"int_values\"] = None\n",
    "display(test_df)\n",
    "display(type(test_df[\"int_values\"][0]))"
   ]
  },
  {
   "cell_type": "markdown",
   "metadata": {},
   "source": [
    "### Exercise 3.3\n",
    "In the last data frame, we observe three different dtypes and corresponding \"null\" values.\n",
    "What are the Python types of these different null values and how can they be filtered out when post-processing columns? "
   ]
  },
  {
   "cell_type": "code",
   "execution_count": 8,
   "metadata": {},
   "outputs": [
    {
     "name": "stdout",
     "output_type": "stream",
     "text": [
      "<class 'pandas._libs.missing.NAType'>\n",
      "<class 'numpy.float64'>\n",
      "<class 'numpy.float64'>\n",
      "<class 'numpy.float64'>\n",
      "<class 'NoneType'>\n",
      "<class 'NoneType'>\n"
     ]
    },
    {
     "data": {
      "text/plain": [
       "array([1, 2, 3], dtype=int8)"
      ]
     },
     "metadata": {},
     "output_type": "display_data"
    },
    {
     "data": {
      "text/plain": [
       "array([1., 2., 3.])"
      ]
     },
     "metadata": {},
     "output_type": "display_data"
    },
    {
     "data": {
      "text/plain": [
       "array(['a', 'b', 'c'], dtype=object)"
      ]
     },
     "metadata": {},
     "output_type": "display_data"
    }
   ],
   "source": [
    "print(type(test_df[\"test\"][3]))\n",
    "print(type(test_df[\"test\"].to_numpy()[3]))\n",
    "print(type(test_df[\"numbers\"][3]))\n",
    "print(type(test_df[\"numbers\"].to_numpy()[3]))\n",
    "print(type(test_df[\"str_values\"][3]))\n",
    "print(type(test_df[\"str_values\"].to_numpy()[3]))\n",
    "\n",
    "for col_name in [\"test\", \"numbers\", \"str_values\"]:\n",
    "    np_test = test_df[col_name].dropna().to_numpy()\n",
    "    display(np_test)"
   ]
  },
  {
   "cell_type": "markdown",
   "metadata": {},
   "source": [
    "In Polars, null values are consistently displayed as \"null\" when showing data and, more importantly, consistently evaluate to Python None values.\n",
    "This facilitates more intuitive None value checks and corresponding data processing."
   ]
  },
  {
   "cell_type": "markdown",
   "metadata": {},
   "source": [
    "### Exercise 3.4\n",
    "Recreate the previous data frame in Polars and display and evaluate the null values in a similar fashion."
   ]
  },
  {
   "cell_type": "code",
   "execution_count": 9,
   "metadata": {},
   "outputs": [
    {
     "data": {
      "text/html": [
       "<div><style>\n",
       ".dataframe > thead > tr,\n",
       ".dataframe > tbody > tr {\n",
       "  text-align: right;\n",
       "  white-space: pre-wrap;\n",
       "}\n",
       "</style>\n",
       "<small>shape: (4, 5)</small><table border=\"1\" class=\"dataframe\"><thead><tr><th>test</th><th>numbers</th><th>int_values</th><th>str_values</th><th>bool_values</th></tr><tr><td>i8</td><td>i64</td><td>i64</td><td>str</td><td>bool</td></tr></thead><tbody><tr><td>1</td><td>1</td><td>1</td><td>&quot;a&quot;</td><td>true</td></tr><tr><td>2</td><td>2</td><td>2</td><td>&quot;b&quot;</td><td>false</td></tr><tr><td>3</td><td>3</td><td>3</td><td>&quot;c&quot;</td><td>null</td></tr><tr><td>null</td><td>null</td><td>4</td><td>null</td><td>null</td></tr></tbody></table></div>"
      ],
      "text/plain": [
       "shape: (4, 5)\n",
       "┌──────┬─────────┬────────────┬────────────┬─────────────┐\n",
       "│ test ┆ numbers ┆ int_values ┆ str_values ┆ bool_values │\n",
       "│ ---  ┆ ---     ┆ ---        ┆ ---        ┆ ---         │\n",
       "│ i8   ┆ i64     ┆ i64        ┆ str        ┆ bool        │\n",
       "╞══════╪═════════╪════════════╪════════════╪═════════════╡\n",
       "│ 1    ┆ 1       ┆ 1          ┆ a          ┆ true        │\n",
       "│ 2    ┆ 2       ┆ 2          ┆ b          ┆ false       │\n",
       "│ 3    ┆ 3       ┆ 3          ┆ c          ┆ null        │\n",
       "│ null ┆ null    ┆ 4          ┆ null       ┆ null        │\n",
       "└──────┴─────────┴────────────┴────────────┴─────────────┘"
      ]
     },
     "metadata": {},
     "output_type": "display_data"
    },
    {
     "name": "stdout",
     "output_type": "stream",
     "text": [
      "<class 'NoneType'>\n",
      "<class 'numpy.float32'>\n"
     ]
    },
    {
     "data": {
      "text/html": [
       "<div><style>\n",
       ".dataframe > thead > tr,\n",
       ".dataframe > tbody > tr {\n",
       "  text-align: right;\n",
       "  white-space: pre-wrap;\n",
       "}\n",
       "</style>\n",
       "<small>shape: (3,)</small><table border=\"1\" class=\"dataframe\"><thead><tr><th>test</th></tr><tr><td>i8</td></tr></thead><tbody><tr><td>1</td></tr><tr><td>2</td></tr><tr><td>3</td></tr></tbody></table></div>"
      ],
      "text/plain": [
       "shape: (3,)\n",
       "Series: 'test' [i8]\n",
       "[\n",
       "\t1\n",
       "\t2\n",
       "\t3\n",
       "]"
      ]
     },
     "metadata": {},
     "output_type": "display_data"
    },
    {
     "name": "stdout",
     "output_type": "stream",
     "text": [
      "<class 'NoneType'>\n",
      "<class 'numpy.float64'>\n"
     ]
    },
    {
     "data": {
      "text/html": [
       "<div><style>\n",
       ".dataframe > thead > tr,\n",
       ".dataframe > tbody > tr {\n",
       "  text-align: right;\n",
       "  white-space: pre-wrap;\n",
       "}\n",
       "</style>\n",
       "<small>shape: (3,)</small><table border=\"1\" class=\"dataframe\"><thead><tr><th>numbers</th></tr><tr><td>i64</td></tr></thead><tbody><tr><td>1</td></tr><tr><td>2</td></tr><tr><td>3</td></tr></tbody></table></div>"
      ],
      "text/plain": [
       "shape: (3,)\n",
       "Series: 'numbers' [i64]\n",
       "[\n",
       "\t1\n",
       "\t2\n",
       "\t3\n",
       "]"
      ]
     },
     "metadata": {},
     "output_type": "display_data"
    },
    {
     "name": "stdout",
     "output_type": "stream",
     "text": [
      "<class 'NoneType'>\n",
      "<class 'NoneType'>\n"
     ]
    },
    {
     "data": {
      "text/html": [
       "<div><style>\n",
       ".dataframe > thead > tr,\n",
       ".dataframe > tbody > tr {\n",
       "  text-align: right;\n",
       "  white-space: pre-wrap;\n",
       "}\n",
       "</style>\n",
       "<small>shape: (3,)</small><table border=\"1\" class=\"dataframe\"><thead><tr><th>str_values</th></tr><tr><td>str</td></tr></thead><tbody><tr><td>&quot;a&quot;</td></tr><tr><td>&quot;b&quot;</td></tr><tr><td>&quot;c&quot;</td></tr></tbody></table></div>"
      ],
      "text/plain": [
       "shape: (3,)\n",
       "Series: 'str_values' [str]\n",
       "[\n",
       "\t\"a\"\n",
       "\t\"b\"\n",
       "\t\"c\"\n",
       "]"
      ]
     },
     "metadata": {},
     "output_type": "display_data"
    }
   ],
   "source": [
    "pl_test_df = pl.DataFrame(\n",
    "    {\n",
    "        \"test\": pl.Series([1, 2, 3, None], dtype=pl.Int8),\n",
    "        \"numbers\": [1, 2, 3, None],\n",
    "        \"int_values\": [1, 2, 3, 4],\n",
    "        \"str_values\": [\"a\", \"b\", \"c\", None],\n",
    "        \"bool_values\": [True, False, None, None],\n",
    "    }\n",
    ")\n",
    "display(pl_test_df)  # Note how the inclusion of None values does not change the column type, in contrast to Pandas above\n",
    "\n",
    "for col_name in [\"test\", \"numbers\", \"str_values\"]:\n",
    "    print(type(pl_test_df[col_name][3]))\n",
    "    print(type(pl_test_df[col_name].to_numpy()[3]))\n",
    "    display(pl_test_df[col_name].drop_nulls())\n"
   ]
  },
  {
   "cell_type": "markdown",
   "metadata": {},
   "source": [
    "## Syntax\n",
    "Polars and Pandas share a lot of similarity in many methods and functionality, but they also differ fundamentally in others.\n",
    "The most fundamental difference in core principles is that Polars has no support for indices, while in Pandas you can always manipulate rows individually. \n",
    "While it is possible to do the same in Polars, you will either need to append an index column to your data frame or use cumbersome syntax with possibly expensive operations to achieve index-based manipulation.\n",
    "\n",
    "The main idea behind this is to stimulate transparency in data manipulation, with the thought that the state of the index and intransparent `reset_index` calls do not favour transparency.\n",
    "In Polars, you should instead consider the conditions the record(s) you need to manipulate meet, and address them based on those, rather than their position within the frame.\n",
    "\n",
    "Below, we will explore a few other syntax differences between the two by loading in data and rewriting the Pandas statements to Polars.\n",
    "Within all of these differences, you may notice that transparency is a recurring principle."
   ]
  },
  {
   "cell_type": "code",
   "execution_count": 33,
   "metadata": {},
   "outputs": [],
   "source": [
    "games_pl = pl.read_csv(\"content/data/game_recommendations_on_steam/games.csv\")\n",
    "games_pd = pd.read_csv(\"content/data/game_recommendations_on_steam/games.csv\")"
   ]
  },
  {
   "cell_type": "markdown",
   "metadata": {},
   "source": [
    "### Exercise 3.5\n",
    "Rewrite to Polars: select the titles of the games and obtain the result as a list"
   ]
  },
  {
   "cell_type": "code",
   "execution_count": null,
   "metadata": {},
   "outputs": [],
   "source": [
    "games_pd.loc[:, \"title\"].to_list()"
   ]
  },
  {
   "cell_type": "code",
   "execution_count": null,
   "metadata": {},
   "outputs": [],
   "source": [
    "games_pl[\"title\"].to_list()"
   ]
  },
  {
   "cell_type": "markdown",
   "metadata": {},
   "source": [
    "### Exercise 3.6\n",
    "Filter the Leisure Suit Larry games scoring higher than 80%."
   ]
  },
  {
   "cell_type": "code",
   "execution_count": null,
   "metadata": {},
   "outputs": [],
   "source": [
    "games_pd[(games_pd[\"title\"].str.contains(\"Leisure Suit Larry\")) & (games_pd[\"positive_ratio\"] > 80)]"
   ]
  },
  {
   "cell_type": "code",
   "execution_count": null,
   "metadata": {},
   "outputs": [],
   "source": [
    "games_pl.filter(pl.col(\"title\").str.contains(\"Leisure Suit Larry\"), pl.col(\"positive_ratio\") > 80)"
   ]
  },
  {
   "cell_type": "markdown",
   "metadata": {},
   "source": [
    "### Exercise 3.7\n",
    "Give The Witcher the score it deserves."
   ]
  },
  {
   "cell_type": "code",
   "execution_count": null,
   "metadata": {},
   "outputs": [],
   "source": [
    "games_pd.loc[games_pd[\"title\"] == \"The Witcher 3: Wild Hunt - Blood and Wine\", \"positive_ratio\"] = 100\n",
    "games_pd[games_pd[\"title\"] == \"The Witcher 3: Wild Hunt - Blood and Wine\"]"
   ]
  },
  {
   "cell_type": "code",
   "execution_count": null,
   "metadata": {},
   "outputs": [],
   "source": [
    "games_pl.with_columns(\n",
    "    positive_ratio=pl.when(\n",
    "        pl.col(\"title\") == \"The Witcher 3: Wild Hunt - Blood and Wine\"\n",
    "    )\n",
    "    .then(100)\n",
    "    .otherwise(pl.col(\"positive_ratio\"))\n",
    ").filter(pl.col(\"title\").str.contains(\"The Witcher 3: Wild Hunt - Blood and Wine\"))"
   ]
  },
  {
   "cell_type": "markdown",
   "metadata": {},
   "source": [
    "## Being lazy pays off\n",
    "One of the most important distinctions yet between Pandas and Polars is lazy loading and lazy manipulation of data.\n",
    "This allows users to pass around, amplify and modify query contexts on the data before the data is ever read, finally allowing Polars to add up and optimize all the operations when the data is finally collected.\n",
    "For this we have no exercises here, as we dedicated the next part of this hackathon to it.\n",
    "Continue with part 4!"
   ]
  }
 ],
 "metadata": {
  "language_info": {
   "name": "python"
  }
 },
 "nbformat": 4,
 "nbformat_minor": 2
}
