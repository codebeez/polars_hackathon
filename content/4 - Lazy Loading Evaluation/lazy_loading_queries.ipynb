{
 "cells": [
  {
   "cell_type": "code",
   "execution_count": 1,
   "metadata": {},
   "outputs": [],
   "source": [
    "import pandas as pd\n",
    "import polars as pl\n",
    "import time\n",
    "\n",
    "from content.utils import polars_read_tsv_file\n",
    "\n",
    "DATASET_FILE = \"content/data/imdb_dataset/\"\n",
    "READ_ARGS = {\n",
    "    \"quote_char\": None,\n",
    "    \"separator\": \"\\t\",\n",
    "    \"null_values\": [\"\\\\N\", \"nan\"]\n",
    "}\n",
    "\n",
    "def read_imdb_tsv_file(filename_stem):\n",
    "    return polars_read_tsv_file(DATASET_FILE + f\"{filename_stem}\")\n",
    "\n",
    "def scan_imdb_tsv_file(filename_stem):\n",
    "    return pl.scan_csv(DATASET_FILE + f\"{filename_stem}.tsv\", **READ_ARGS)\n",
    "\n",
    "def read_imdb_parquet_file(filename_stem):\n",
    "    return pl.read_parquet(DATASET_FILE + f\"{filename_stem}.parquet\")\n",
    "\n",
    "def scan_imdb_parquet_file(filename_stem):\n",
    "    return pl.scan_parquet(DATASET_FILE + f\"{filename_stem}.parquet\")\n",
    "\n",
    "def convert_file_to_parquet(filename_stem, sort_column=None):\n",
    "    df = read_imdb_tsv_file(filename_stem)\n",
    "    if sort_column:\n",
    "        df = df.sort(sort_column)\n",
    "    df.write_parquet(DATASET_FILE + f\"{filename_stem}.parquet\")"
   ]
  },
  {
   "cell_type": "markdown",
   "metadata": {},
   "source": [
    "## Reading CSV in Polars\n",
    "\n",
    "In Polars, files can be read directly into memory just as in Pandas.\n",
    "Users of Pandas might know that there is an option to provide a selection of columns you want to read to save resources.\n",
    "Polars, however, takes this a bit further.\n",
    "In Polars you have a lazy loading option, which permits scanning files instead of reading them directly into memory.\n",
    "This creates an instance of a `LazyFrame` instead of a `DataFrame`.\n",
    "The scanning operation keeps a reference to the file, while permitting users to define any processing of the data without ever reading the file.\n",
    "The file conents are then only read when the user finally collects the data by calling `LazyFrame.collect()`.\n",
    "As a consequence, Polars can reorder any operations performed on the `LazyFrame` to create an optimal query plan, which often allows for much faster processing with a significantly lower memory usage.\n",
    "\n",
    "Let us read the file containing all movie titles from the IMDB dataset and inspect the first 15 titles."
   ]
  },
  {
   "cell_type": "code",
   "execution_count": 2,
   "metadata": {},
   "outputs": [
    {
     "name": "stdout",
     "output_type": "stream",
     "text": [
      "8.783271551132202 seconds for Polars\n"
     ]
    },
    {
     "data": {
      "text/html": [
       "<div><style>\n",
       ".dataframe > thead > tr,\n",
       ".dataframe > tbody > tr {\n",
       "  text-align: right;\n",
       "  white-space: pre-wrap;\n",
       "}\n",
       "</style>\n",
       "<small>shape: (15, 9)</small><table border=\"1\" class=\"dataframe\"><thead><tr><th>tconst</th><th>titleType</th><th>primaryTitle</th><th>originalTitle</th><th>isAdult</th><th>startYear</th><th>endYear</th><th>runtimeMinutes</th><th>genres</th></tr><tr><td>str</td><td>str</td><td>str</td><td>str</td><td>i64</td><td>i64</td><td>str</td><td>i64</td><td>str</td></tr></thead><tbody><tr><td>&quot;tt0000001&quot;</td><td>&quot;short&quot;</td><td>&quot;Carmencita&quot;</td><td>&quot;Carmencita&quot;</td><td>0</td><td>1894</td><td>null</td><td>1</td><td>&quot;Documentary,Short&quot;</td></tr><tr><td>&quot;tt0000002&quot;</td><td>&quot;short&quot;</td><td>&quot;Le clown et ses chiens&quot;</td><td>&quot;Le clown et ses chiens&quot;</td><td>0</td><td>1892</td><td>null</td><td>5</td><td>&quot;Animation,Short&quot;</td></tr><tr><td>&quot;tt0000003&quot;</td><td>&quot;short&quot;</td><td>&quot;Pauvre Pierrot&quot;</td><td>&quot;Pauvre Pierrot&quot;</td><td>0</td><td>1892</td><td>null</td><td>5</td><td>&quot;Animation,Comedy,Romance&quot;</td></tr><tr><td>&quot;tt0000004&quot;</td><td>&quot;short&quot;</td><td>&quot;Un bon bock&quot;</td><td>&quot;Un bon bock&quot;</td><td>0</td><td>1892</td><td>null</td><td>12</td><td>&quot;Animation,Short&quot;</td></tr><tr><td>&quot;tt0000005&quot;</td><td>&quot;short&quot;</td><td>&quot;Blacksmith Scene&quot;</td><td>&quot;Blacksmith Scene&quot;</td><td>0</td><td>1893</td><td>null</td><td>1</td><td>&quot;Comedy,Short&quot;</td></tr><tr><td>&hellip;</td><td>&hellip;</td><td>&hellip;</td><td>&hellip;</td><td>&hellip;</td><td>&hellip;</td><td>&hellip;</td><td>&hellip;</td><td>&hellip;</td></tr><tr><td>&quot;tt0000011&quot;</td><td>&quot;short&quot;</td><td>&quot;Akrobatisches Potpourri&quot;</td><td>&quot;Akrobatisches Potpourri&quot;</td><td>0</td><td>1895</td><td>null</td><td>1</td><td>&quot;Documentary,Short&quot;</td></tr><tr><td>&quot;tt0000012&quot;</td><td>&quot;short&quot;</td><td>&quot;The Arrival of a Train&quot;</td><td>&quot;L&#x27;arrivée d&#x27;un train à La Ciot…</td><td>0</td><td>1896</td><td>null</td><td>1</td><td>&quot;Documentary,Short&quot;</td></tr><tr><td>&quot;tt0000013&quot;</td><td>&quot;short&quot;</td><td>&quot;The Photographical Congress Ar…</td><td>&quot;Le débarquement du congrès de …</td><td>0</td><td>1895</td><td>null</td><td>1</td><td>&quot;Documentary,Short&quot;</td></tr><tr><td>&quot;tt0000014&quot;</td><td>&quot;short&quot;</td><td>&quot;The Waterer Watered&quot;</td><td>&quot;L&#x27;arroseur arrosé&quot;</td><td>0</td><td>1895</td><td>null</td><td>1</td><td>&quot;Comedy,Short&quot;</td></tr><tr><td>&quot;tt0000015&quot;</td><td>&quot;short&quot;</td><td>&quot;Autour d&#x27;une cabine&quot;</td><td>&quot;Autour d&#x27;une cabine&quot;</td><td>0</td><td>1894</td><td>null</td><td>2</td><td>&quot;Animation,Short&quot;</td></tr></tbody></table></div>"
      ],
      "text/plain": [
       "shape: (15, 9)\n",
       "┌───────────┬───────────┬────────────┬───────────┬───┬───────────┬─────────┬───────────┬───────────┐\n",
       "│ tconst    ┆ titleType ┆ primaryTit ┆ originalT ┆ … ┆ startYear ┆ endYear ┆ runtimeMi ┆ genres    │\n",
       "│ ---       ┆ ---       ┆ le         ┆ itle      ┆   ┆ ---       ┆ ---     ┆ nutes     ┆ ---       │\n",
       "│ str       ┆ str       ┆ ---        ┆ ---       ┆   ┆ i64       ┆ str     ┆ ---       ┆ str       │\n",
       "│           ┆           ┆ str        ┆ str       ┆   ┆           ┆         ┆ i64       ┆           │\n",
       "╞═══════════╪═══════════╪════════════╪═══════════╪═══╪═══════════╪═════════╪═══════════╪═══════════╡\n",
       "│ tt0000001 ┆ short     ┆ Carmencita ┆ Carmencit ┆ … ┆ 1894      ┆ null    ┆ 1         ┆ Documenta │\n",
       "│           ┆           ┆            ┆ a         ┆   ┆           ┆         ┆           ┆ ry,Short  │\n",
       "│ tt0000002 ┆ short     ┆ Le clown   ┆ Le clown  ┆ … ┆ 1892      ┆ null    ┆ 5         ┆ Animation │\n",
       "│           ┆           ┆ et ses     ┆ et ses    ┆   ┆           ┆         ┆           ┆ ,Short    │\n",
       "│           ┆           ┆ chiens     ┆ chiens    ┆   ┆           ┆         ┆           ┆           │\n",
       "│ tt0000003 ┆ short     ┆ Pauvre     ┆ Pauvre    ┆ … ┆ 1892      ┆ null    ┆ 5         ┆ Animation │\n",
       "│           ┆           ┆ Pierrot    ┆ Pierrot   ┆   ┆           ┆         ┆           ┆ ,Comedy,R │\n",
       "│           ┆           ┆            ┆           ┆   ┆           ┆         ┆           ┆ omance    │\n",
       "│ tt0000004 ┆ short     ┆ Un bon     ┆ Un bon    ┆ … ┆ 1892      ┆ null    ┆ 12        ┆ Animation │\n",
       "│           ┆           ┆ bock       ┆ bock      ┆   ┆           ┆         ┆           ┆ ,Short    │\n",
       "│ tt0000005 ┆ short     ┆ Blacksmith ┆ Blacksmit ┆ … ┆ 1893      ┆ null    ┆ 1         ┆ Comedy,Sh │\n",
       "│           ┆           ┆ Scene      ┆ h Scene   ┆   ┆           ┆         ┆           ┆ ort       │\n",
       "│ …         ┆ …         ┆ …          ┆ …         ┆ … ┆ …         ┆ …       ┆ …         ┆ …         │\n",
       "│ tt0000011 ┆ short     ┆ Akrobatisc ┆ Akrobatis ┆ … ┆ 1895      ┆ null    ┆ 1         ┆ Documenta │\n",
       "│           ┆           ┆ hes        ┆ ches      ┆   ┆           ┆         ┆           ┆ ry,Short  │\n",
       "│           ┆           ┆ Potpourri  ┆ Potpourri ┆   ┆           ┆         ┆           ┆           │\n",
       "│ tt0000012 ┆ short     ┆ The        ┆ L'arrivée ┆ … ┆ 1896      ┆ null    ┆ 1         ┆ Documenta │\n",
       "│           ┆           ┆ Arrival of ┆ d'un      ┆   ┆           ┆         ┆           ┆ ry,Short  │\n",
       "│           ┆           ┆ a Train    ┆ train à   ┆   ┆           ┆         ┆           ┆           │\n",
       "│           ┆           ┆            ┆ La Ciot…  ┆   ┆           ┆         ┆           ┆           │\n",
       "│ tt0000013 ┆ short     ┆ The Photog ┆ Le débarq ┆ … ┆ 1895      ┆ null    ┆ 1         ┆ Documenta │\n",
       "│           ┆           ┆ raphical   ┆ uement du ┆   ┆           ┆         ┆           ┆ ry,Short  │\n",
       "│           ┆           ┆ Congress   ┆ congrès   ┆   ┆           ┆         ┆           ┆           │\n",
       "│           ┆           ┆ Ar…        ┆ de …      ┆   ┆           ┆         ┆           ┆           │\n",
       "│ tt0000014 ┆ short     ┆ The        ┆ L'arroseu ┆ … ┆ 1895      ┆ null    ┆ 1         ┆ Comedy,Sh │\n",
       "│           ┆           ┆ Waterer    ┆ r arrosé  ┆   ┆           ┆         ┆           ┆ ort       │\n",
       "│           ┆           ┆ Watered    ┆           ┆   ┆           ┆         ┆           ┆           │\n",
       "│ tt0000015 ┆ short     ┆ Autour     ┆ Autour    ┆ … ┆ 1894      ┆ null    ┆ 2         ┆ Animation │\n",
       "│           ┆           ┆ d'une      ┆ d'une     ┆   ┆           ┆         ┆           ┆ ,Short    │\n",
       "│           ┆           ┆ cabine     ┆ cabine    ┆   ┆           ┆         ┆           ┆           │\n",
       "└───────────┴───────────┴────────────┴───────────┴───┴───────────┴─────────┴───────────┴───────────┘"
      ]
     },
     "metadata": {},
     "output_type": "display_data"
    }
   ],
   "source": [
    "\n",
    "start_time = time.time()\n",
    "movie_titles = read_imdb_tsv_file(\"title.basics\")\n",
    "print(f\"{time.time() - start_time} seconds for Polars\")\n",
    "display(movie_titles.head(15))"
   ]
  },
  {
   "cell_type": "markdown",
   "metadata": {},
   "source": [
    "As you can see, this takes quite a bit of time.\n",
    "What if we only scan the file, filter the first 15 items and only then collect the data?"
   ]
  },
  {
   "cell_type": "code",
   "execution_count": 3,
   "metadata": {},
   "outputs": [
    {
     "name": "stdout",
     "output_type": "stream",
     "text": [
      "0.04641914367675781 seconds for Polars\n"
     ]
    },
    {
     "data": {
      "text/html": [
       "<div><style>\n",
       ".dataframe > thead > tr,\n",
       ".dataframe > tbody > tr {\n",
       "  text-align: right;\n",
       "  white-space: pre-wrap;\n",
       "}\n",
       "</style>\n",
       "<small>shape: (15, 9)</small><table border=\"1\" class=\"dataframe\"><thead><tr><th>tconst</th><th>titleType</th><th>primaryTitle</th><th>originalTitle</th><th>isAdult</th><th>startYear</th><th>endYear</th><th>runtimeMinutes</th><th>genres</th></tr><tr><td>str</td><td>str</td><td>str</td><td>str</td><td>i64</td><td>i64</td><td>str</td><td>i64</td><td>str</td></tr></thead><tbody><tr><td>&quot;tt0000001&quot;</td><td>&quot;short&quot;</td><td>&quot;Carmencita&quot;</td><td>&quot;Carmencita&quot;</td><td>0</td><td>1894</td><td>null</td><td>1</td><td>&quot;Documentary,Short&quot;</td></tr><tr><td>&quot;tt0000002&quot;</td><td>&quot;short&quot;</td><td>&quot;Le clown et ses chiens&quot;</td><td>&quot;Le clown et ses chiens&quot;</td><td>0</td><td>1892</td><td>null</td><td>5</td><td>&quot;Animation,Short&quot;</td></tr><tr><td>&quot;tt0000003&quot;</td><td>&quot;short&quot;</td><td>&quot;Pauvre Pierrot&quot;</td><td>&quot;Pauvre Pierrot&quot;</td><td>0</td><td>1892</td><td>null</td><td>5</td><td>&quot;Animation,Comedy,Romance&quot;</td></tr><tr><td>&quot;tt0000004&quot;</td><td>&quot;short&quot;</td><td>&quot;Un bon bock&quot;</td><td>&quot;Un bon bock&quot;</td><td>0</td><td>1892</td><td>null</td><td>12</td><td>&quot;Animation,Short&quot;</td></tr><tr><td>&quot;tt0000005&quot;</td><td>&quot;short&quot;</td><td>&quot;Blacksmith Scene&quot;</td><td>&quot;Blacksmith Scene&quot;</td><td>0</td><td>1893</td><td>null</td><td>1</td><td>&quot;Comedy,Short&quot;</td></tr><tr><td>&hellip;</td><td>&hellip;</td><td>&hellip;</td><td>&hellip;</td><td>&hellip;</td><td>&hellip;</td><td>&hellip;</td><td>&hellip;</td><td>&hellip;</td></tr><tr><td>&quot;tt0000011&quot;</td><td>&quot;short&quot;</td><td>&quot;Akrobatisches Potpourri&quot;</td><td>&quot;Akrobatisches Potpourri&quot;</td><td>0</td><td>1895</td><td>null</td><td>1</td><td>&quot;Documentary,Short&quot;</td></tr><tr><td>&quot;tt0000012&quot;</td><td>&quot;short&quot;</td><td>&quot;The Arrival of a Train&quot;</td><td>&quot;L&#x27;arrivée d&#x27;un train à La Ciot…</td><td>0</td><td>1896</td><td>null</td><td>1</td><td>&quot;Documentary,Short&quot;</td></tr><tr><td>&quot;tt0000013&quot;</td><td>&quot;short&quot;</td><td>&quot;The Photographical Congress Ar…</td><td>&quot;Le débarquement du congrès de …</td><td>0</td><td>1895</td><td>null</td><td>1</td><td>&quot;Documentary,Short&quot;</td></tr><tr><td>&quot;tt0000014&quot;</td><td>&quot;short&quot;</td><td>&quot;The Waterer Watered&quot;</td><td>&quot;L&#x27;arroseur arrosé&quot;</td><td>0</td><td>1895</td><td>null</td><td>1</td><td>&quot;Comedy,Short&quot;</td></tr><tr><td>&quot;tt0000015&quot;</td><td>&quot;short&quot;</td><td>&quot;Autour d&#x27;une cabine&quot;</td><td>&quot;Autour d&#x27;une cabine&quot;</td><td>0</td><td>1894</td><td>null</td><td>2</td><td>&quot;Animation,Short&quot;</td></tr></tbody></table></div>"
      ],
      "text/plain": [
       "shape: (15, 9)\n",
       "┌───────────┬───────────┬────────────┬───────────┬───┬───────────┬─────────┬───────────┬───────────┐\n",
       "│ tconst    ┆ titleType ┆ primaryTit ┆ originalT ┆ … ┆ startYear ┆ endYear ┆ runtimeMi ┆ genres    │\n",
       "│ ---       ┆ ---       ┆ le         ┆ itle      ┆   ┆ ---       ┆ ---     ┆ nutes     ┆ ---       │\n",
       "│ str       ┆ str       ┆ ---        ┆ ---       ┆   ┆ i64       ┆ str     ┆ ---       ┆ str       │\n",
       "│           ┆           ┆ str        ┆ str       ┆   ┆           ┆         ┆ i64       ┆           │\n",
       "╞═══════════╪═══════════╪════════════╪═══════════╪═══╪═══════════╪═════════╪═══════════╪═══════════╡\n",
       "│ tt0000001 ┆ short     ┆ Carmencita ┆ Carmencit ┆ … ┆ 1894      ┆ null    ┆ 1         ┆ Documenta │\n",
       "│           ┆           ┆            ┆ a         ┆   ┆           ┆         ┆           ┆ ry,Short  │\n",
       "│ tt0000002 ┆ short     ┆ Le clown   ┆ Le clown  ┆ … ┆ 1892      ┆ null    ┆ 5         ┆ Animation │\n",
       "│           ┆           ┆ et ses     ┆ et ses    ┆   ┆           ┆         ┆           ┆ ,Short    │\n",
       "│           ┆           ┆ chiens     ┆ chiens    ┆   ┆           ┆         ┆           ┆           │\n",
       "│ tt0000003 ┆ short     ┆ Pauvre     ┆ Pauvre    ┆ … ┆ 1892      ┆ null    ┆ 5         ┆ Animation │\n",
       "│           ┆           ┆ Pierrot    ┆ Pierrot   ┆   ┆           ┆         ┆           ┆ ,Comedy,R │\n",
       "│           ┆           ┆            ┆           ┆   ┆           ┆         ┆           ┆ omance    │\n",
       "│ tt0000004 ┆ short     ┆ Un bon     ┆ Un bon    ┆ … ┆ 1892      ┆ null    ┆ 12        ┆ Animation │\n",
       "│           ┆           ┆ bock       ┆ bock      ┆   ┆           ┆         ┆           ┆ ,Short    │\n",
       "│ tt0000005 ┆ short     ┆ Blacksmith ┆ Blacksmit ┆ … ┆ 1893      ┆ null    ┆ 1         ┆ Comedy,Sh │\n",
       "│           ┆           ┆ Scene      ┆ h Scene   ┆   ┆           ┆         ┆           ┆ ort       │\n",
       "│ …         ┆ …         ┆ …          ┆ …         ┆ … ┆ …         ┆ …       ┆ …         ┆ …         │\n",
       "│ tt0000011 ┆ short     ┆ Akrobatisc ┆ Akrobatis ┆ … ┆ 1895      ┆ null    ┆ 1         ┆ Documenta │\n",
       "│           ┆           ┆ hes        ┆ ches      ┆   ┆           ┆         ┆           ┆ ry,Short  │\n",
       "│           ┆           ┆ Potpourri  ┆ Potpourri ┆   ┆           ┆         ┆           ┆           │\n",
       "│ tt0000012 ┆ short     ┆ The        ┆ L'arrivée ┆ … ┆ 1896      ┆ null    ┆ 1         ┆ Documenta │\n",
       "│           ┆           ┆ Arrival of ┆ d'un      ┆   ┆           ┆         ┆           ┆ ry,Short  │\n",
       "│           ┆           ┆ a Train    ┆ train à   ┆   ┆           ┆         ┆           ┆           │\n",
       "│           ┆           ┆            ┆ La Ciot…  ┆   ┆           ┆         ┆           ┆           │\n",
       "│ tt0000013 ┆ short     ┆ The Photog ┆ Le débarq ┆ … ┆ 1895      ┆ null    ┆ 1         ┆ Documenta │\n",
       "│           ┆           ┆ raphical   ┆ uement du ┆   ┆           ┆         ┆           ┆ ry,Short  │\n",
       "│           ┆           ┆ Congress   ┆ congrès   ┆   ┆           ┆         ┆           ┆           │\n",
       "│           ┆           ┆ Ar…        ┆ de …      ┆   ┆           ┆         ┆           ┆           │\n",
       "│ tt0000014 ┆ short     ┆ The        ┆ L'arroseu ┆ … ┆ 1895      ┆ null    ┆ 1         ┆ Comedy,Sh │\n",
       "│           ┆           ┆ Waterer    ┆ r arrosé  ┆   ┆           ┆         ┆           ┆ ort       │\n",
       "│           ┆           ┆ Watered    ┆           ┆   ┆           ┆         ┆           ┆           │\n",
       "│ tt0000015 ┆ short     ┆ Autour     ┆ Autour    ┆ … ┆ 1894      ┆ null    ┆ 2         ┆ Animation │\n",
       "│           ┆           ┆ d'une      ┆ d'une     ┆   ┆           ┆         ┆           ┆ ,Short    │\n",
       "│           ┆           ┆ cabine     ┆ cabine    ┆   ┆           ┆         ┆           ┆           │\n",
       "└───────────┴───────────┴────────────┴───────────┴───┴───────────┴─────────┴───────────┴───────────┘"
      ]
     },
     "metadata": {},
     "output_type": "display_data"
    }
   ],
   "source": [
    "start_time = time.time()\n",
    "movie_titles = scan_imdb_tsv_file(\"title.basics\")\n",
    "print(f\"{time.time() - start_time} seconds for Polars\")\n",
    "display(movie_titles.head(15).collect())\n",
    "del movie_titles"
   ]
  },
  {
   "cell_type": "markdown",
   "metadata": {},
   "source": [
    "Ah, much better!\n",
    "The scanning operation and the consequent slicing operation to select the first 15 items allows Polars to only read partially read the file and return the 15 rows as soon as they have been read."
   ]
  },
  {
   "cell_type": "markdown",
   "metadata": {},
   "source": [
    "What would Pandas do?"
   ]
  },
  {
   "cell_type": "code",
   "execution_count": 4,
   "metadata": {},
   "outputs": [
    {
     "name": "stderr",
     "output_type": "stream",
     "text": [
      "/tmp/ipykernel_1084/1431290308.py:2: DtypeWarning: Columns (4) have mixed types. Specify dtype option on import or set low_memory=False.\n",
      "  movies_pandas = pd.read_csv(DATASET_FILE + \"title.basics.tsv\", sep=\"\\t\")\n"
     ]
    },
    {
     "name": "stdout",
     "output_type": "stream",
     "text": [
      "17.130154609680176 seconds for Pandas\n"
     ]
    }
   ],
   "source": [
    "\n",
    "start_time = time.time()\n",
    "movies_pandas = pd.read_csv(DATASET_FILE + \"title.basics.tsv\", sep=\"\\t\")\n",
    "movies_pandas.head(15)\n",
    "print(f\"{time.time() - start_time} seconds for Pandas\")"
   ]
  },
  {
   "cell_type": "markdown",
   "metadata": {},
   "source": [
    "## I want to watch a good movie!"
   ]
  },
  {
   "cell_type": "markdown",
   "metadata": {},
   "source": [
    "With the knowledge we obtained above, let's only scan the movies and the corresponding ratings (defined in a separate file).\n",
    "To find the movies that are the best according to the users who rated, we will have to join the two together.\n",
    "Polars defines joins on this with different join strategy types which most of you will know from databases theory and any packages that deal with data.\n",
    "Apart from `left`, `right`, `inner`, `outer` and `cross` joins, the `semi` and `anti` join are also available in Polars."
   ]
  },
  {
   "cell_type": "code",
   "execution_count": 5,
   "metadata": {},
   "outputs": [
    {
     "data": {
      "text/html": [
       "<div><style>\n",
       ".dataframe > thead > tr,\n",
       ".dataframe > tbody > tr {\n",
       "  text-align: right;\n",
       "  white-space: pre-wrap;\n",
       "}\n",
       "</style>\n",
       "<small>shape: (2_478, 11)</small><table border=\"1\" class=\"dataframe\"><thead><tr><th>tconst</th><th>titleType</th><th>primaryTitle</th><th>originalTitle</th><th>isAdult</th><th>startYear</th><th>endYear</th><th>runtimeMinutes</th><th>genres</th><th>averageRating</th><th>numVotes</th></tr><tr><td>str</td><td>str</td><td>str</td><td>str</td><td>i64</td><td>i64</td><td>str</td><td>i64</td><td>str</td><td>f64</td><td>i64</td></tr></thead><tbody><tr><td>&quot;tt0111161&quot;</td><td>&quot;movie&quot;</td><td>&quot;The Shawshank Redemption&quot;</td><td>&quot;The Shawshank Redemption&quot;</td><td>0</td><td>1994</td><td>null</td><td>142</td><td>&quot;Drama&quot;</td><td>9.3</td><td>2943515</td></tr><tr><td>&quot;tt0068646&quot;</td><td>&quot;movie&quot;</td><td>&quot;The Godfather&quot;</td><td>&quot;The Godfather&quot;</td><td>0</td><td>1972</td><td>null</td><td>175</td><td>&quot;Crime,Drama&quot;</td><td>9.2</td><td>2051638</td></tr><tr><td>&quot;tt0050083&quot;</td><td>&quot;movie&quot;</td><td>&quot;12 Angry Men&quot;</td><td>&quot;12 Angry Men&quot;</td><td>0</td><td>1957</td><td>null</td><td>96</td><td>&quot;Crime,Drama&quot;</td><td>9.0</td><td>884854</td></tr><tr><td>&quot;tt0071562&quot;</td><td>&quot;movie&quot;</td><td>&quot;The Godfather Part II&quot;</td><td>&quot;The Godfather Part II&quot;</td><td>0</td><td>1974</td><td>null</td><td>202</td><td>&quot;Crime,Drama&quot;</td><td>9.0</td><td>1386823</td></tr><tr><td>&quot;tt0108052&quot;</td><td>&quot;movie&quot;</td><td>&quot;Schindler&#x27;s List&quot;</td><td>&quot;Schindler&#x27;s List&quot;</td><td>0</td><td>1993</td><td>null</td><td>195</td><td>&quot;Biography,Drama,History&quot;</td><td>9.0</td><td>1476229</td></tr><tr><td>&hellip;</td><td>&hellip;</td><td>&hellip;</td><td>&hellip;</td><td>&hellip;</td><td>&hellip;</td><td>&hellip;</td><td>&hellip;</td><td>&hellip;</td><td>&hellip;</td><td>&hellip;</td></tr><tr><td>&quot;tt10886166&quot;</td><td>&quot;movie&quot;</td><td>&quot;365 Days&quot;</td><td>&quot;365 dni&quot;</td><td>0</td><td>2020</td><td>null</td><td>114</td><td>&quot;Drama,Romance&quot;</td><td>3.3</td><td>100617</td></tr><tr><td>&quot;tt1073498&quot;</td><td>&quot;movie&quot;</td><td>&quot;Meet the Spartans&quot;</td><td>&quot;Meet the Spartans&quot;</td><td>0</td><td>2008</td><td>null</td><td>87</td><td>&quot;Comedy,Fantasy&quot;</td><td>2.8</td><td>112204</td></tr><tr><td>&quot;tt12915716&quot;</td><td>&quot;movie&quot;</td><td>&quot;Adipurush&quot;</td><td>&quot;Adipurush&quot;</td><td>0</td><td>2023</td><td>null</td><td>179</td><td>&quot;Action,Adventure,Drama&quot;</td><td>2.7</td><td>133991</td></tr><tr><td>&quot;tt0799949&quot;</td><td>&quot;movie&quot;</td><td>&quot;Epic Movie&quot;</td><td>&quot;Epic Movie&quot;</td><td>0</td><td>2007</td><td>null</td><td>86</td><td>&quot;Adventure,Comedy,Fantasy&quot;</td><td>2.4</td><td>110225</td></tr><tr><td>&quot;tt10888594&quot;</td><td>&quot;movie&quot;</td><td>&quot;Radhe&quot;</td><td>&quot;Radhe&quot;</td><td>0</td><td>2021</td><td>null</td><td>109</td><td>&quot;Action,Crime,Thriller&quot;</td><td>1.9</td><td>180209</td></tr></tbody></table></div>"
      ],
      "text/plain": [
       "shape: (2_478, 11)\n",
       "┌───────────┬───────────┬───────────┬───────────┬───┬───────────┬───────────┬───────────┬──────────┐\n",
       "│ tconst    ┆ titleType ┆ primaryTi ┆ originalT ┆ … ┆ runtimeMi ┆ genres    ┆ averageRa ┆ numVotes │\n",
       "│ ---       ┆ ---       ┆ tle       ┆ itle      ┆   ┆ nutes     ┆ ---       ┆ ting      ┆ ---      │\n",
       "│ str       ┆ str       ┆ ---       ┆ ---       ┆   ┆ ---       ┆ str       ┆ ---       ┆ i64      │\n",
       "│           ┆           ┆ str       ┆ str       ┆   ┆ i64       ┆           ┆ f64       ┆          │\n",
       "╞═══════════╪═══════════╪═══════════╪═══════════╪═══╪═══════════╪═══════════╪═══════════╪══════════╡\n",
       "│ tt0111161 ┆ movie     ┆ The       ┆ The       ┆ … ┆ 142       ┆ Drama     ┆ 9.3       ┆ 2943515  │\n",
       "│           ┆           ┆ Shawshank ┆ Shawshank ┆   ┆           ┆           ┆           ┆          │\n",
       "│           ┆           ┆ Redemptio ┆ Redemptio ┆   ┆           ┆           ┆           ┆          │\n",
       "│           ┆           ┆ n         ┆ n         ┆   ┆           ┆           ┆           ┆          │\n",
       "│ tt0068646 ┆ movie     ┆ The       ┆ The       ┆ … ┆ 175       ┆ Crime,Dra ┆ 9.2       ┆ 2051638  │\n",
       "│           ┆           ┆ Godfather ┆ Godfather ┆   ┆           ┆ ma        ┆           ┆          │\n",
       "│ tt0050083 ┆ movie     ┆ 12 Angry  ┆ 12 Angry  ┆ … ┆ 96        ┆ Crime,Dra ┆ 9.0       ┆ 884854   │\n",
       "│           ┆           ┆ Men       ┆ Men       ┆   ┆           ┆ ma        ┆           ┆          │\n",
       "│ tt0071562 ┆ movie     ┆ The       ┆ The       ┆ … ┆ 202       ┆ Crime,Dra ┆ 9.0       ┆ 1386823  │\n",
       "│           ┆           ┆ Godfather ┆ Godfather ┆   ┆           ┆ ma        ┆           ┆          │\n",
       "│           ┆           ┆ Part II   ┆ Part II   ┆   ┆           ┆           ┆           ┆          │\n",
       "│ tt0108052 ┆ movie     ┆ Schindler ┆ Schindler ┆ … ┆ 195       ┆ Biography ┆ 9.0       ┆ 1476229  │\n",
       "│           ┆           ┆ 's List   ┆ 's List   ┆   ┆           ┆ ,Drama,Hi ┆           ┆          │\n",
       "│           ┆           ┆           ┆           ┆   ┆           ┆ story     ┆           ┆          │\n",
       "│ …         ┆ …         ┆ …         ┆ …         ┆ … ┆ …         ┆ …         ┆ …         ┆ …        │\n",
       "│ tt1088616 ┆ movie     ┆ 365 Days  ┆ 365 dni   ┆ … ┆ 114       ┆ Drama,Rom ┆ 3.3       ┆ 100617   │\n",
       "│ 6         ┆           ┆           ┆           ┆   ┆           ┆ ance      ┆           ┆          │\n",
       "│ tt1073498 ┆ movie     ┆ Meet the  ┆ Meet the  ┆ … ┆ 87        ┆ Comedy,Fa ┆ 2.8       ┆ 112204   │\n",
       "│           ┆           ┆ Spartans  ┆ Spartans  ┆   ┆           ┆ ntasy     ┆           ┆          │\n",
       "│ tt1291571 ┆ movie     ┆ Adipurush ┆ Adipurush ┆ … ┆ 179       ┆ Action,Ad ┆ 2.7       ┆ 133991   │\n",
       "│ 6         ┆           ┆           ┆           ┆   ┆           ┆ venture,D ┆           ┆          │\n",
       "│           ┆           ┆           ┆           ┆   ┆           ┆ rama      ┆           ┆          │\n",
       "│ tt0799949 ┆ movie     ┆ Epic      ┆ Epic      ┆ … ┆ 86        ┆ Adventure ┆ 2.4       ┆ 110225   │\n",
       "│           ┆           ┆ Movie     ┆ Movie     ┆   ┆           ┆ ,Comedy,F ┆           ┆          │\n",
       "│           ┆           ┆           ┆           ┆   ┆           ┆ antasy    ┆           ┆          │\n",
       "│ tt1088859 ┆ movie     ┆ Radhe     ┆ Radhe     ┆ … ┆ 109       ┆ Action,Cr ┆ 1.9       ┆ 180209   │\n",
       "│ 4         ┆           ┆           ┆           ┆   ┆           ┆ ime,Thril ┆           ┆          │\n",
       "│           ┆           ┆           ┆           ┆   ┆           ┆ ler       ┆           ┆          │\n",
       "└───────────┴───────────┴───────────┴───────────┴───┴───────────┴───────────┴───────────┴──────────┘"
      ]
     },
     "execution_count": 5,
     "metadata": {},
     "output_type": "execute_result"
    }
   ],
   "source": [
    "movie_titles = scan_imdb_tsv_file(\"title.basics\")\n",
    "actors = scan_imdb_tsv_file(\"name.basics\")\n",
    "ratings = scan_imdb_tsv_file(\"title.ratings\")\n",
    "\n",
    "best_movies_lf = (\n",
    "    movie_titles.join(ratings, on=\"tconst\", how=\"inner\")\n",
    "    .with_columns(pl.col(\"averageRating\"))\n",
    "    .sort(\"numVotes\", descending=True)\n",
    "    .sort(\"averageRating\", descending=True)\n",
    "    .filter(pl.col(\"numVotes\") > 100000, pl.col(\"titleType\") == \"movie\")\n",
    ")\n",
    "\n",
    "best_movies_lf.collect()"
   ]
  },
  {
   "cell_type": "markdown",
   "metadata": {},
   "source": [
    "### Exercise 4.2\n",
    "Create a ranking of the 20 best movies according to the user ratings using the `LazyFrame` instance.\n",
    "For this, you will have to join the ratings with the movie data.\n",
    "Don't forget the number of votes, or your ranking will be worthless.\n",
    "Can you get close to the official IMDB ranking?"
   ]
  },
  {
   "cell_type": "code",
   "execution_count": 6,
   "metadata": {},
   "outputs": [
    {
     "data": {
      "text/html": [
       "<div><style>\n",
       ".dataframe > thead > tr,\n",
       ".dataframe > tbody > tr {\n",
       "  text-align: right;\n",
       "  white-space: pre-wrap;\n",
       "}\n",
       "</style>\n",
       "<small>shape: (20, 11)</small><table border=\"1\" class=\"dataframe\"><thead><tr><th>tconst</th><th>titleType</th><th>primaryTitle</th><th>originalTitle</th><th>isAdult</th><th>startYear</th><th>endYear</th><th>runtimeMinutes</th><th>genres</th><th>averageRating</th><th>numVotes</th></tr><tr><td>str</td><td>str</td><td>str</td><td>str</td><td>i64</td><td>i64</td><td>str</td><td>i64</td><td>str</td><td>f64</td><td>i64</td></tr></thead><tbody><tr><td>&quot;tt0111161&quot;</td><td>&quot;movie&quot;</td><td>&quot;The Shawshank Redemption&quot;</td><td>&quot;The Shawshank Redemption&quot;</td><td>0</td><td>1994</td><td>null</td><td>142</td><td>&quot;Drama&quot;</td><td>9.3</td><td>2943515</td></tr><tr><td>&quot;tt0068646&quot;</td><td>&quot;movie&quot;</td><td>&quot;The Godfather&quot;</td><td>&quot;The Godfather&quot;</td><td>0</td><td>1972</td><td>null</td><td>175</td><td>&quot;Crime,Drama&quot;</td><td>9.2</td><td>2051638</td></tr><tr><td>&quot;tt0050083&quot;</td><td>&quot;movie&quot;</td><td>&quot;12 Angry Men&quot;</td><td>&quot;12 Angry Men&quot;</td><td>0</td><td>1957</td><td>null</td><td>96</td><td>&quot;Crime,Drama&quot;</td><td>9.0</td><td>884854</td></tr><tr><td>&quot;tt0071562&quot;</td><td>&quot;movie&quot;</td><td>&quot;The Godfather Part II&quot;</td><td>&quot;The Godfather Part II&quot;</td><td>0</td><td>1974</td><td>null</td><td>202</td><td>&quot;Crime,Drama&quot;</td><td>9.0</td><td>1386823</td></tr><tr><td>&quot;tt0108052&quot;</td><td>&quot;movie&quot;</td><td>&quot;Schindler&#x27;s List&quot;</td><td>&quot;Schindler&#x27;s List&quot;</td><td>0</td><td>1993</td><td>null</td><td>195</td><td>&quot;Biography,Drama,History&quot;</td><td>9.0</td><td>1476229</td></tr><tr><td>&hellip;</td><td>&hellip;</td><td>&hellip;</td><td>&hellip;</td><td>&hellip;</td><td>&hellip;</td><td>&hellip;</td><td>&hellip;</td><td>&hellip;</td><td>&hellip;</td><td>&hellip;</td></tr><tr><td>&quot;tt0073486&quot;</td><td>&quot;movie&quot;</td><td>&quot;One Flew Over the Cuckoo&#x27;s Nes…</td><td>&quot;One Flew Over the Cuckoo&#x27;s Nes…</td><td>0</td><td>1975</td><td>null</td><td>133</td><td>&quot;Drama&quot;</td><td>8.7</td><td>1087177</td></tr><tr><td>&quot;tt0080684&quot;</td><td>&quot;movie&quot;</td><td>&quot;Star Wars: Episode V - The Emp…</td><td>&quot;Star Wars: Episode V - The Emp…</td><td>0</td><td>1980</td><td>null</td><td>124</td><td>&quot;Action,Adventure,Fantasy&quot;</td><td>8.7</td><td>1401875</td></tr><tr><td>&quot;tt0099685&quot;</td><td>&quot;movie&quot;</td><td>&quot;Goodfellas&quot;</td><td>&quot;Goodfellas&quot;</td><td>0</td><td>1990</td><td>null</td><td>145</td><td>&quot;Biography,Crime,Drama&quot;</td><td>8.7</td><td>1280879</td></tr><tr><td>&quot;tt0133093&quot;</td><td>&quot;movie&quot;</td><td>&quot;The Matrix&quot;</td><td>&quot;The Matrix&quot;</td><td>0</td><td>1999</td><td>null</td><td>136</td><td>&quot;Action,Sci-Fi&quot;</td><td>8.7</td><td>2090110</td></tr><tr><td>&quot;tt0816692&quot;</td><td>&quot;movie&quot;</td><td>&quot;Interstellar&quot;</td><td>&quot;Interstellar&quot;</td><td>0</td><td>2014</td><td>null</td><td>169</td><td>&quot;Adventure,Drama,Sci-Fi&quot;</td><td>8.7</td><td>2162461</td></tr></tbody></table></div>"
      ],
      "text/plain": [
       "shape: (20, 11)\n",
       "┌───────────┬───────────┬───────────┬───────────┬───┬───────────┬───────────┬───────────┬──────────┐\n",
       "│ tconst    ┆ titleType ┆ primaryTi ┆ originalT ┆ … ┆ runtimeMi ┆ genres    ┆ averageRa ┆ numVotes │\n",
       "│ ---       ┆ ---       ┆ tle       ┆ itle      ┆   ┆ nutes     ┆ ---       ┆ ting      ┆ ---      │\n",
       "│ str       ┆ str       ┆ ---       ┆ ---       ┆   ┆ ---       ┆ str       ┆ ---       ┆ i64      │\n",
       "│           ┆           ┆ str       ┆ str       ┆   ┆ i64       ┆           ┆ f64       ┆          │\n",
       "╞═══════════╪═══════════╪═══════════╪═══════════╪═══╪═══════════╪═══════════╪═══════════╪══════════╡\n",
       "│ tt0111161 ┆ movie     ┆ The       ┆ The       ┆ … ┆ 142       ┆ Drama     ┆ 9.3       ┆ 2943515  │\n",
       "│           ┆           ┆ Shawshank ┆ Shawshank ┆   ┆           ┆           ┆           ┆          │\n",
       "│           ┆           ┆ Redemptio ┆ Redemptio ┆   ┆           ┆           ┆           ┆          │\n",
       "│           ┆           ┆ n         ┆ n         ┆   ┆           ┆           ┆           ┆          │\n",
       "│ tt0068646 ┆ movie     ┆ The       ┆ The       ┆ … ┆ 175       ┆ Crime,Dra ┆ 9.2       ┆ 2051638  │\n",
       "│           ┆           ┆ Godfather ┆ Godfather ┆   ┆           ┆ ma        ┆           ┆          │\n",
       "│ tt0050083 ┆ movie     ┆ 12 Angry  ┆ 12 Angry  ┆ … ┆ 96        ┆ Crime,Dra ┆ 9.0       ┆ 884854   │\n",
       "│           ┆           ┆ Men       ┆ Men       ┆   ┆           ┆ ma        ┆           ┆          │\n",
       "│ tt0071562 ┆ movie     ┆ The       ┆ The       ┆ … ┆ 202       ┆ Crime,Dra ┆ 9.0       ┆ 1386823  │\n",
       "│           ┆           ┆ Godfather ┆ Godfather ┆   ┆           ┆ ma        ┆           ┆          │\n",
       "│           ┆           ┆ Part II   ┆ Part II   ┆   ┆           ┆           ┆           ┆          │\n",
       "│ tt0108052 ┆ movie     ┆ Schindler ┆ Schindler ┆ … ┆ 195       ┆ Biography ┆ 9.0       ┆ 1476229  │\n",
       "│           ┆           ┆ 's List   ┆ 's List   ┆   ┆           ┆ ,Drama,Hi ┆           ┆          │\n",
       "│           ┆           ┆           ┆           ┆   ┆           ┆ story     ┆           ┆          │\n",
       "│ …         ┆ …         ┆ …         ┆ …         ┆ … ┆ …         ┆ …         ┆ …         ┆ …        │\n",
       "│ tt0073486 ┆ movie     ┆ One Flew  ┆ One Flew  ┆ … ┆ 133       ┆ Drama     ┆ 8.7       ┆ 1087177  │\n",
       "│           ┆           ┆ Over the  ┆ Over the  ┆   ┆           ┆           ┆           ┆          │\n",
       "│           ┆           ┆ Cuckoo's  ┆ Cuckoo's  ┆   ┆           ┆           ┆           ┆          │\n",
       "│           ┆           ┆ Nes…      ┆ Nes…      ┆   ┆           ┆           ┆           ┆          │\n",
       "│ tt0080684 ┆ movie     ┆ Star      ┆ Star      ┆ … ┆ 124       ┆ Action,Ad ┆ 8.7       ┆ 1401875  │\n",
       "│           ┆           ┆ Wars:     ┆ Wars:     ┆   ┆           ┆ venture,F ┆           ┆          │\n",
       "│           ┆           ┆ Episode V ┆ Episode V ┆   ┆           ┆ antasy    ┆           ┆          │\n",
       "│           ┆           ┆ - The     ┆ - The     ┆   ┆           ┆           ┆           ┆          │\n",
       "│           ┆           ┆ Emp…      ┆ Emp…      ┆   ┆           ┆           ┆           ┆          │\n",
       "│ tt0099685 ┆ movie     ┆ Goodfella ┆ Goodfella ┆ … ┆ 145       ┆ Biography ┆ 8.7       ┆ 1280879  │\n",
       "│           ┆           ┆ s         ┆ s         ┆   ┆           ┆ ,Crime,Dr ┆           ┆          │\n",
       "│           ┆           ┆           ┆           ┆   ┆           ┆ ama       ┆           ┆          │\n",
       "│ tt0133093 ┆ movie     ┆ The       ┆ The       ┆ … ┆ 136       ┆ Action,Sc ┆ 8.7       ┆ 2090110  │\n",
       "│           ┆           ┆ Matrix    ┆ Matrix    ┆   ┆           ┆ i-Fi      ┆           ┆          │\n",
       "│ tt0816692 ┆ movie     ┆ Interstel ┆ Interstel ┆ … ┆ 169       ┆ Adventure ┆ 8.7       ┆ 2162461  │\n",
       "│           ┆           ┆ lar       ┆ lar       ┆   ┆           ┆ ,Drama,Sc ┆           ┆          │\n",
       "│           ┆           ┆           ┆           ┆   ┆           ┆ i-Fi      ┆           ┆          │\n",
       "└───────────┴───────────┴───────────┴───────────┴───┴───────────┴───────────┴───────────┴──────────┘"
      ]
     },
     "execution_count": 6,
     "metadata": {},
     "output_type": "execute_result"
    }
   ],
   "source": [
    "movie_titles = read_imdb_tsv_file(\"title.basics\")\n",
    "ratings = read_imdb_tsv_file(\"title.ratings\")\n",
    "\n",
    "(\n",
    "    movie_titles.join(ratings, on=\"tconst\", how=\"inner\")\n",
    "    .with_columns(pl.col(\"averageRating\"))\n",
    "    .sort(\"averageRating\", descending=True)\n",
    "    .filter(pl.col(\"titleType\") == \"movie\", pl.col(\"numVotes\") > 100000)\n",
    "    .head(20)\n",
    ")"
   ]
  },
  {
   "cell_type": "markdown",
   "metadata": {},
   "source": [
    "### Exercise 4.3\n",
    "\n",
    "Let's take it one step further!\n",
    "Can we find the 20 actors whose known-for movies are the highest ranking movies on average?\n",
    "Again, do not forget to take the number of votes into account as well!\n",
    "For this you may have to `explode()` the data frame and may additionally need to `split()` a column with comma-separated values."
   ]
  },
  {
   "cell_type": "code",
   "execution_count": 7,
   "metadata": {},
   "outputs": [
    {
     "data": {
      "text/plain": [
       "['John P. Nugent',\n",
       " 'Marie Fink',\n",
       " 'John Rhys-Davies',\n",
       " 'Elijah Wood',\n",
       " 'Orlando Bloom',\n",
       " 'Hugo Weaving',\n",
       " 'Fa Suluvave',\n",
       " 'Katherine Jackson',\n",
       " 'Peter Swords King',\n",
       " 'Wesley Priest',\n",
       " 'Carola Broekhoff',\n",
       " 'Alan Lee',\n",
       " 'Ngila Dickson',\n",
       " 'Lani Jackson',\n",
       " 'Warren Green',\n",
       " 'David Williams',\n",
       " 'David A. Burt',\n",
       " 'Jeremy Ryder',\n",
       " 'Sean Astin',\n",
       " 'Brett Beattie']"
      ]
     },
     "execution_count": 7,
     "metadata": {},
     "output_type": "execute_result"
    }
   ],
   "source": [
    "actors = scan_imdb_tsv_file(\"name.basics\")\n",
    "\n",
    "best_actors = (\n",
    "    actors.filter(pl.col(\"primaryProfession\").str.contains(\"actor|actress\"))\n",
    "    .with_columns(pl.col(\"knownForTitles\").str.split(\",\").alias(\"tconst\"))\n",
    "    .explode(\"tconst\")\n",
    "    .join(ratings.lazy(), on=\"tconst\", how=\"inner\")\n",
    "    .join(movie_titles.lazy(), on=\"tconst\", how=\"inner\")\n",
    "    .filter(\n",
    "        pl.col(\"numVotes\") > 10000,\n",
    "        pl.col(\"titleType\") == \"movie\",\n",
    "        pl.col(\"runtimeMinutes\") > 70,\n",
    "    )\n",
    "    .group_by([\"nconst\", \"primaryName\", \"birthYear\"])\n",
    "    .agg(\n",
    "        ((pl.col(\"averageRating\") - 5.0) * (pl.col(\"numVotes\").log())).sum(),\n",
    "    )\n",
    "    .sort(\"averageRating\", descending=True)\n",
    ")\n",
    "best_actors.head(20).collect()[\"primaryName\"].to_list()"
   ]
  },
  {
   "cell_type": "markdown",
   "metadata": {},
   "source": [
    "As the last query is likely quite a complex one, it can provide a nice example for the query optimization of Polars.\n",
    "If you did not manage to do the last one or skipped it, you can also do this with the query from before.\n",
    "In that case, if the query is already optimal, you may want to reverse the order or introduce some extra (unnecessary) statements, such as additional sorting operations before the final sort.\n",
    "\n",
    "The LazyFrame, also sometimes referred to as a query as it builds up the query through the operations the user defines on the object, provides insights in how queries are built up and how Polars automatically optimizes the query for us before collecting the data.\n",
    "These insights can be obtained through the `explain` method, which gives an overview of the query steps in text, or through the `show_graph` method, which gives a visual overview of the steps through an extra extension, as shown below.\n",
    "For both of these methods you can pass in `True` or `False` for the parameter `optimized` in order to compare the optimized with the naive query plan."
   ]
  },
  {
   "cell_type": "markdown",
   "metadata": {},
   "source": [
    "### Exercise 4.4\n",
    "Use the `explain()` and `show_graph()` method on the `LazyFrame` instance constructed in the last exercise to compare the optimized query with the naive one."
   ]
  },
  {
   "cell_type": "code",
   "execution_count": 8,
   "metadata": {},
   "outputs": [
    {
     "name": "stdout",
     "output_type": "stream",
     "text": [
      "FILTER [([(col(\"numVotes\")) > (100000)]) & ([(col(\"titleType\")) == (String(movie))])] FROM\n",
      "  SORT BY [col(\"averageRating\")]\n",
      "    SORT BY [col(\"numVotes\")]\n",
      "       WITH_COLUMNS:\n",
      "       [col(\"averageRating\")] \n",
      "        INNER JOIN:\n",
      "        LEFT PLAN ON: [col(\"tconst\")]\n",
      "          Csv SCAN [content/data/imdb_dataset/title.basics.tsv]\n",
      "          PROJECT */9 COLUMNS\n",
      "        RIGHT PLAN ON: [col(\"tconst\")]\n",
      "          Csv SCAN [content/data/imdb_dataset/title.ratings.tsv]\n",
      "          PROJECT */3 COLUMNS\n",
      "        END INNER JOIN\n",
      "SORT BY [col(\"averageRating\")]\n",
      "   WITH_COLUMNS:\n",
      "   [col(\"averageRating\")] \n",
      "    FILTER [([(col(\"numVotes\")) > (100000)]) & ([(col(\"titleType\")) == (String(movie))])] FROM\n",
      "      INNER JOIN:\n",
      "      LEFT PLAN ON: [col(\"tconst\")]\n",
      "        Csv SCAN [content/data/imdb_dataset/title.basics.tsv]\n",
      "        PROJECT */9 COLUMNS\n",
      "      RIGHT PLAN ON: [col(\"tconst\")]\n",
      "        Csv SCAN [content/data/imdb_dataset/title.ratings.tsv]\n",
      "        PROJECT */3 COLUMNS\n",
      "      END INNER JOIN\n"
     ]
    },
    {
     "data": {
      "image/svg+xml": [
       "<svg xmlns=\"http://www.w3.org/2000/svg\" xmlns:xlink=\"http://www.w3.org/1999/xlink\" width=\"840pt\" height=\"423pt\" viewBox=\"0.00 0.00 840.00 423.00\">\n",
       "<g id=\"graph0\" class=\"graph\" transform=\"scale(1 1) rotate(0) translate(4 419)\">\n",
       "<title>polars_query</title>\n",
       "<polygon fill=\"white\" stroke=\"transparent\" points=\"-4,4 -4,-419 836,-419 836,4 -4,4\"/>\n",
       "<!-- p1 -->\n",
       "<g id=\"node1\" class=\"node\">\n",
       "<title>p1</title>\n",
       "<polygon fill=\"none\" stroke=\"black\" points=\"735.5,-415 92.5,-415 92.5,-379 735.5,-379 735.5,-415\"/>\n",
       "<text text-anchor=\"middle\" x=\"414\" y=\"-393.3\" font-family=\"Times,serif\" font-size=\"14.00\">FILTER BY [([(col(&quot;numVotes&quot;)) &gt; (100000)]) &amp; ([(col(&quot;titleType&quot;)) == (String(movie))])]</text>\n",
       "</g>\n",
       "<!-- p2 -->\n",
       "<g id=\"node2\" class=\"node\">\n",
       "<title>p2</title>\n",
       "<polygon fill=\"none\" stroke=\"black\" points=\"536,-343 292,-343 292,-307 536,-307 536,-343\"/>\n",
       "<text text-anchor=\"middle\" x=\"414\" y=\"-321.3\" font-family=\"Times,serif\" font-size=\"14.00\">SORT BY [col(&quot;averageRating&quot;)]</text>\n",
       "</g>\n",
       "<!-- p1&#45;&#45;p2 -->\n",
       "<g id=\"edge1\" class=\"edge\">\n",
       "<title>p1--p2</title>\n",
       "<path fill=\"none\" stroke=\"black\" d=\"M414,-378.7C414,-367.85 414,-353.92 414,-343.1\"/>\n",
       "</g>\n",
       "<!-- p3 -->\n",
       "<g id=\"node3\" class=\"node\">\n",
       "<title>p3</title>\n",
       "<polygon fill=\"none\" stroke=\"black\" points=\"519,-271 309,-271 309,-235 519,-235 519,-271\"/>\n",
       "<text text-anchor=\"middle\" x=\"414\" y=\"-249.3\" font-family=\"Times,serif\" font-size=\"14.00\">SORT BY [col(&quot;numVotes&quot;)]</text>\n",
       "</g>\n",
       "<!-- p2&#45;&#45;p3 -->\n",
       "<g id=\"edge2\" class=\"edge\">\n",
       "<title>p2--p3</title>\n",
       "<path fill=\"none\" stroke=\"black\" d=\"M414,-306.7C414,-295.85 414,-281.92 414,-271.1\"/>\n",
       "</g>\n",
       "<!-- p4 -->\n",
       "<g id=\"node4\" class=\"node\">\n",
       "<title>p4</title>\n",
       "<polygon fill=\"none\" stroke=\"black\" points=\"565.5,-199 262.5,-199 262.5,-163 565.5,-163 565.5,-199\"/>\n",
       "<text text-anchor=\"middle\" x=\"414\" y=\"-177.3\" font-family=\"Times,serif\" font-size=\"14.00\">WITH COLUMNS [col(&quot;averageRating&quot;)]</text>\n",
       "</g>\n",
       "<!-- p3&#45;&#45;p4 -->\n",
       "<g id=\"edge3\" class=\"edge\">\n",
       "<title>p3--p4</title>\n",
       "<path fill=\"none\" stroke=\"black\" d=\"M414,-234.7C414,-223.85 414,-209.92 414,-199.1\"/>\n",
       "</g>\n",
       "<!-- p5 -->\n",
       "<g id=\"node5\" class=\"node\">\n",
       "<title>p5</title>\n",
       "<polygon fill=\"none\" stroke=\"black\" points=\"494,-127 334,-127 334,-74 494,-74 494,-127\"/>\n",
       "<text text-anchor=\"middle\" x=\"414\" y=\"-111.8\" font-family=\"Times,serif\" font-size=\"14.00\">JOIN INNER</text>\n",
       "<text text-anchor=\"middle\" x=\"414\" y=\"-96.8\" font-family=\"Times,serif\" font-size=\"14.00\">left: [col(&quot;tconst&quot;)];</text>\n",
       "<text text-anchor=\"middle\" x=\"414\" y=\"-81.8\" font-family=\"Times,serif\" font-size=\"14.00\">right: [col(&quot;tconst&quot;)]</text>\n",
       "</g>\n",
       "<!-- p4&#45;&#45;p5 -->\n",
       "<g id=\"edge4\" class=\"edge\">\n",
       "<title>p4--p5</title>\n",
       "<path fill=\"none\" stroke=\"black\" d=\"M414,-162.97C414,-152.51 414,-138.9 414,-127.16\"/>\n",
       "</g>\n",
       "<!-- p6 -->\n",
       "<g id=\"node6\" class=\"node\">\n",
       "<title>p6</title>\n",
       "<polygon fill=\"none\" stroke=\"black\" points=\"404,-38 0,-38 0,0 404,0 404,-38\"/>\n",
       "<text text-anchor=\"middle\" x=\"202\" y=\"-22.8\" font-family=\"Times,serif\" font-size=\"14.00\">Csv SCAN [content/data/imdb_dataset/title.basics.tsv]</text>\n",
       "<text text-anchor=\"middle\" x=\"202\" y=\"-7.8\" font-family=\"Times,serif\" font-size=\"14.00\">π */9;</text>\n",
       "</g>\n",
       "<!-- p5&#45;&#45;p6 -->\n",
       "<g id=\"edge5\" class=\"edge\">\n",
       "<title>p5--p6</title>\n",
       "<path fill=\"none\" stroke=\"black\" d=\"M345.75,-73.91C314.65,-62.24 278.55,-48.71 250.31,-38.12\"/>\n",
       "</g>\n",
       "<!-- p7 -->\n",
       "<g id=\"node7\" class=\"node\">\n",
       "<title>p7</title>\n",
       "<polygon fill=\"none\" stroke=\"black\" points=\"832,-38 422,-38 422,0 832,0 832,-38\"/>\n",
       "<text text-anchor=\"middle\" x=\"627\" y=\"-22.8\" font-family=\"Times,serif\" font-size=\"14.00\">Csv SCAN [content/data/imdb_dataset/title.ratings.tsv]</text>\n",
       "<text text-anchor=\"middle\" x=\"627\" y=\"-7.8\" font-family=\"Times,serif\" font-size=\"14.00\">π */3;</text>\n",
       "</g>\n",
       "<!-- p5&#45;&#45;p7 -->\n",
       "<g id=\"edge6\" class=\"edge\">\n",
       "<title>p5--p7</title>\n",
       "<path fill=\"none\" stroke=\"black\" d=\"M482.57,-73.91C513.82,-62.24 550.09,-48.71 578.47,-38.12\"/>\n",
       "</g>\n",
       "</g>\n",
       "</svg>"
      ],
      "text/plain": [
       "<IPython.core.display.SVG object>"
      ]
     },
     "metadata": {},
     "output_type": "display_data"
    },
    {
     "data": {
      "image/svg+xml": [
       "<svg xmlns=\"http://www.w3.org/2000/svg\" xmlns:xlink=\"http://www.w3.org/1999/xlink\" width=\"840pt\" height=\"351pt\" viewBox=\"0.00 0.00 840.00 351.00\">\n",
       "<g id=\"graph0\" class=\"graph\" transform=\"scale(1 1) rotate(0) translate(4 347)\">\n",
       "<title>polars_query</title>\n",
       "<polygon fill=\"white\" stroke=\"transparent\" points=\"-4,4 -4,-347 836,-347 836,4 -4,4\"/>\n",
       "<!-- p1 -->\n",
       "<g id=\"node1\" class=\"node\">\n",
       "<title>p1</title>\n",
       "<polygon fill=\"none\" stroke=\"black\" points=\"536,-343 292,-343 292,-307 536,-307 536,-343\"/>\n",
       "<text text-anchor=\"middle\" x=\"414\" y=\"-321.3\" font-family=\"Times,serif\" font-size=\"14.00\">SORT BY [col(&quot;averageRating&quot;)]</text>\n",
       "</g>\n",
       "<!-- p2 -->\n",
       "<g id=\"node2\" class=\"node\">\n",
       "<title>p2</title>\n",
       "<polygon fill=\"none\" stroke=\"black\" points=\"565.5,-271 262.5,-271 262.5,-235 565.5,-235 565.5,-271\"/>\n",
       "<text text-anchor=\"middle\" x=\"414\" y=\"-249.3\" font-family=\"Times,serif\" font-size=\"14.00\">WITH COLUMNS [col(&quot;averageRating&quot;)]</text>\n",
       "</g>\n",
       "<!-- p1&#45;&#45;p2 -->\n",
       "<g id=\"edge1\" class=\"edge\">\n",
       "<title>p1--p2</title>\n",
       "<path fill=\"none\" stroke=\"black\" d=\"M414,-306.7C414,-295.85 414,-281.92 414,-271.1\"/>\n",
       "</g>\n",
       "<!-- p3 -->\n",
       "<g id=\"node3\" class=\"node\">\n",
       "<title>p3</title>\n",
       "<polygon fill=\"none\" stroke=\"black\" points=\"735.5,-199 92.5,-199 92.5,-163 735.5,-163 735.5,-199\"/>\n",
       "<text text-anchor=\"middle\" x=\"414\" y=\"-177.3\" font-family=\"Times,serif\" font-size=\"14.00\">FILTER BY [([(col(&quot;numVotes&quot;)) &gt; (100000)]) &amp; ([(col(&quot;titleType&quot;)) == (String(movie))])]</text>\n",
       "</g>\n",
       "<!-- p2&#45;&#45;p3 -->\n",
       "<g id=\"edge2\" class=\"edge\">\n",
       "<title>p2--p3</title>\n",
       "<path fill=\"none\" stroke=\"black\" d=\"M414,-234.7C414,-223.85 414,-209.92 414,-199.1\"/>\n",
       "</g>\n",
       "<!-- p4 -->\n",
       "<g id=\"node4\" class=\"node\">\n",
       "<title>p4</title>\n",
       "<polygon fill=\"none\" stroke=\"black\" points=\"494,-127 334,-127 334,-74 494,-74 494,-127\"/>\n",
       "<text text-anchor=\"middle\" x=\"414\" y=\"-111.8\" font-family=\"Times,serif\" font-size=\"14.00\">JOIN INNER</text>\n",
       "<text text-anchor=\"middle\" x=\"414\" y=\"-96.8\" font-family=\"Times,serif\" font-size=\"14.00\">left: [col(&quot;tconst&quot;)];</text>\n",
       "<text text-anchor=\"middle\" x=\"414\" y=\"-81.8\" font-family=\"Times,serif\" font-size=\"14.00\">right: [col(&quot;tconst&quot;)]</text>\n",
       "</g>\n",
       "<!-- p3&#45;&#45;p4 -->\n",
       "<g id=\"edge3\" class=\"edge\">\n",
       "<title>p3--p4</title>\n",
       "<path fill=\"none\" stroke=\"black\" d=\"M414,-162.97C414,-152.51 414,-138.9 414,-127.16\"/>\n",
       "</g>\n",
       "<!-- p5 -->\n",
       "<g id=\"node5\" class=\"node\">\n",
       "<title>p5</title>\n",
       "<polygon fill=\"none\" stroke=\"black\" points=\"404,-38 0,-38 0,0 404,0 404,-38\"/>\n",
       "<text text-anchor=\"middle\" x=\"202\" y=\"-22.8\" font-family=\"Times,serif\" font-size=\"14.00\">Csv SCAN [content/data/imdb_dataset/title.basics.tsv]</text>\n",
       "<text text-anchor=\"middle\" x=\"202\" y=\"-7.8\" font-family=\"Times,serif\" font-size=\"14.00\">π */9;</text>\n",
       "</g>\n",
       "<!-- p4&#45;&#45;p5 -->\n",
       "<g id=\"edge4\" class=\"edge\">\n",
       "<title>p4--p5</title>\n",
       "<path fill=\"none\" stroke=\"black\" d=\"M345.75,-73.91C314.65,-62.24 278.55,-48.71 250.31,-38.12\"/>\n",
       "</g>\n",
       "<!-- p6 -->\n",
       "<g id=\"node6\" class=\"node\">\n",
       "<title>p6</title>\n",
       "<polygon fill=\"none\" stroke=\"black\" points=\"832,-38 422,-38 422,0 832,0 832,-38\"/>\n",
       "<text text-anchor=\"middle\" x=\"627\" y=\"-22.8\" font-family=\"Times,serif\" font-size=\"14.00\">Csv SCAN [content/data/imdb_dataset/title.ratings.tsv]</text>\n",
       "<text text-anchor=\"middle\" x=\"627\" y=\"-7.8\" font-family=\"Times,serif\" font-size=\"14.00\">π */3;</text>\n",
       "</g>\n",
       "<!-- p4&#45;&#45;p6 -->\n",
       "<g id=\"edge5\" class=\"edge\">\n",
       "<title>p4--p6</title>\n",
       "<path fill=\"none\" stroke=\"black\" d=\"M482.57,-73.91C513.82,-62.24 550.09,-48.71 578.47,-38.12\"/>\n",
       "</g>\n",
       "</g>\n",
       "</svg>"
      ],
      "text/plain": [
       "<IPython.core.display.SVG object>"
      ]
     },
     "metadata": {},
     "output_type": "display_data"
    }
   ],
   "source": [
    "print(best_movies_lf.explain(optimized=False))\n",
    "print(best_movies_lf.explain(optimized=True))\n",
    "best_movies_lf.show_graph(optimized=False)\n",
    "best_movies_lf.show_graph(optimized=True)"
   ]
  },
  {
   "cell_type": "markdown",
   "metadata": {},
   "source": [
    "## Parquet files\n",
    "\n",
    "CSV (or TSV) files are easy to work with, human-readable and supported by a wide range of different tools (if you have to work with people who only want to deal with Excel...).\n",
    "However, it is typically not the most efficient format for storing data.\n",
    "One of the reasons is that data is stored in row-based fashion, which does not allow us to efficiently read only required columns.\n",
    "Apart from that, there is no compression and intelligent rearrangement of data to avoid having to read only a certain portion of it.\n",
    "\n",
    "This is where Parquet comes in!\n",
    "Parquet is a file format which originates from an open-source project under the Apache Software Foundation (hence the full name Apache Parquet).\n",
    "In contrast to CSV, the format is a columnar-storage format.\n",
    "This change also opened up possibilities for column-based encoding and compression, which now allows for optimal techniques for the types contained in the column, which is stored along with the contents itself.\n",
    "\n",
    "Let's use Polars to read in the CSV files and convert them to Parquet files!"
   ]
  },
  {
   "cell_type": "markdown",
   "metadata": {},
   "source": [
    "### Exercise 4.5\n",
    "#### Exercise 4.5.1\n",
    "Convert the title.ratings and the name.basics files to Parquet files using Polars."
   ]
  },
  {
   "cell_type": "code",
   "execution_count": 9,
   "metadata": {},
   "outputs": [],
   "source": [
    "convert_file_to_parquet(\"title.basics\", \"titleType\")\n",
    "convert_file_to_parquet(\"title.ratings\", \"averageRating\")\n",
    "convert_file_to_parquet(\"name.basics\")\n"
   ]
  },
  {
   "cell_type": "markdown",
   "metadata": {},
   "source": [
    "#### Exercise 4.5.2 \n",
    "Would there be any speed difference if we now perform the same operations as above on the CSV files to obtain a list of the best-ranked movies?\n",
    "Rewrite exercise 4.2 to use the Parquet files instead and measure the difference in execution time."
   ]
  },
  {
   "cell_type": "code",
   "execution_count": 10,
   "metadata": {},
   "outputs": [
    {
     "data": {
      "text/html": [
       "<div><style>\n",
       ".dataframe > thead > tr,\n",
       ".dataframe > tbody > tr {\n",
       "  text-align: right;\n",
       "  white-space: pre-wrap;\n",
       "}\n",
       "</style>\n",
       "<small>shape: (2_478, 11)</small><table border=\"1\" class=\"dataframe\"><thead><tr><th>tconst</th><th>titleType</th><th>primaryTitle</th><th>originalTitle</th><th>isAdult</th><th>startYear</th><th>endYear</th><th>runtimeMinutes</th><th>genres</th><th>averageRating</th><th>numVotes</th></tr><tr><td>str</td><td>str</td><td>str</td><td>str</td><td>i64</td><td>i64</td><td>str</td><td>i64</td><td>str</td><td>f64</td><td>i64</td></tr></thead><tbody><tr><td>&quot;tt0111161&quot;</td><td>&quot;movie&quot;</td><td>&quot;The Shawshank Redemption&quot;</td><td>&quot;The Shawshank Redemption&quot;</td><td>0</td><td>1994</td><td>null</td><td>142</td><td>&quot;Drama&quot;</td><td>9.3</td><td>2943515</td></tr><tr><td>&quot;tt0068646&quot;</td><td>&quot;movie&quot;</td><td>&quot;The Godfather&quot;</td><td>&quot;The Godfather&quot;</td><td>0</td><td>1972</td><td>null</td><td>175</td><td>&quot;Crime,Drama&quot;</td><td>9.2</td><td>2051638</td></tr><tr><td>&quot;tt0468569&quot;</td><td>&quot;movie&quot;</td><td>&quot;The Dark Knight&quot;</td><td>&quot;The Dark Knight&quot;</td><td>0</td><td>2008</td><td>null</td><td>152</td><td>&quot;Action,Crime,Drama&quot;</td><td>9.0</td><td>2923614</td></tr><tr><td>&quot;tt0167260&quot;</td><td>&quot;movie&quot;</td><td>&quot;The Lord of the Rings: The Ret…</td><td>&quot;The Lord of the Rings: The Ret…</td><td>0</td><td>2003</td><td>null</td><td>201</td><td>&quot;Action,Adventure,Drama&quot;</td><td>9.0</td><td>2014326</td></tr><tr><td>&quot;tt0108052&quot;</td><td>&quot;movie&quot;</td><td>&quot;Schindler&#x27;s List&quot;</td><td>&quot;Schindler&#x27;s List&quot;</td><td>0</td><td>1993</td><td>null</td><td>195</td><td>&quot;Biography,Drama,History&quot;</td><td>9.0</td><td>1476229</td></tr><tr><td>&hellip;</td><td>&hellip;</td><td>&hellip;</td><td>&hellip;</td><td>&hellip;</td><td>&hellip;</td><td>&hellip;</td><td>&hellip;</td><td>&hellip;</td><td>&hellip;</td><td>&hellip;</td></tr><tr><td>&quot;tt10886166&quot;</td><td>&quot;movie&quot;</td><td>&quot;365 Days&quot;</td><td>&quot;365 dni&quot;</td><td>0</td><td>2020</td><td>null</td><td>114</td><td>&quot;Drama,Romance&quot;</td><td>3.3</td><td>100617</td></tr><tr><td>&quot;tt1073498&quot;</td><td>&quot;movie&quot;</td><td>&quot;Meet the Spartans&quot;</td><td>&quot;Meet the Spartans&quot;</td><td>0</td><td>2008</td><td>null</td><td>87</td><td>&quot;Comedy,Fantasy&quot;</td><td>2.8</td><td>112204</td></tr><tr><td>&quot;tt12915716&quot;</td><td>&quot;movie&quot;</td><td>&quot;Adipurush&quot;</td><td>&quot;Adipurush&quot;</td><td>0</td><td>2023</td><td>null</td><td>179</td><td>&quot;Action,Adventure,Drama&quot;</td><td>2.7</td><td>133991</td></tr><tr><td>&quot;tt0799949&quot;</td><td>&quot;movie&quot;</td><td>&quot;Epic Movie&quot;</td><td>&quot;Epic Movie&quot;</td><td>0</td><td>2007</td><td>null</td><td>86</td><td>&quot;Adventure,Comedy,Fantasy&quot;</td><td>2.4</td><td>110225</td></tr><tr><td>&quot;tt10888594&quot;</td><td>&quot;movie&quot;</td><td>&quot;Radhe&quot;</td><td>&quot;Radhe&quot;</td><td>0</td><td>2021</td><td>null</td><td>109</td><td>&quot;Action,Crime,Thriller&quot;</td><td>1.9</td><td>180209</td></tr></tbody></table></div>"
      ],
      "text/plain": [
       "shape: (2_478, 11)\n",
       "┌───────────┬───────────┬───────────┬───────────┬───┬───────────┬───────────┬───────────┬──────────┐\n",
       "│ tconst    ┆ titleType ┆ primaryTi ┆ originalT ┆ … ┆ runtimeMi ┆ genres    ┆ averageRa ┆ numVotes │\n",
       "│ ---       ┆ ---       ┆ tle       ┆ itle      ┆   ┆ nutes     ┆ ---       ┆ ting      ┆ ---      │\n",
       "│ str       ┆ str       ┆ ---       ┆ ---       ┆   ┆ ---       ┆ str       ┆ ---       ┆ i64      │\n",
       "│           ┆           ┆ str       ┆ str       ┆   ┆ i64       ┆           ┆ f64       ┆          │\n",
       "╞═══════════╪═══════════╪═══════════╪═══════════╪═══╪═══════════╪═══════════╪═══════════╪══════════╡\n",
       "│ tt0111161 ┆ movie     ┆ The       ┆ The       ┆ … ┆ 142       ┆ Drama     ┆ 9.3       ┆ 2943515  │\n",
       "│           ┆           ┆ Shawshank ┆ Shawshank ┆   ┆           ┆           ┆           ┆          │\n",
       "│           ┆           ┆ Redemptio ┆ Redemptio ┆   ┆           ┆           ┆           ┆          │\n",
       "│           ┆           ┆ n         ┆ n         ┆   ┆           ┆           ┆           ┆          │\n",
       "│ tt0068646 ┆ movie     ┆ The       ┆ The       ┆ … ┆ 175       ┆ Crime,Dra ┆ 9.2       ┆ 2051638  │\n",
       "│           ┆           ┆ Godfather ┆ Godfather ┆   ┆           ┆ ma        ┆           ┆          │\n",
       "│ tt0468569 ┆ movie     ┆ The Dark  ┆ The Dark  ┆ … ┆ 152       ┆ Action,Cr ┆ 9.0       ┆ 2923614  │\n",
       "│           ┆           ┆ Knight    ┆ Knight    ┆   ┆           ┆ ime,Drama ┆           ┆          │\n",
       "│ tt0167260 ┆ movie     ┆ The Lord  ┆ The Lord  ┆ … ┆ 201       ┆ Action,Ad ┆ 9.0       ┆ 2014326  │\n",
       "│           ┆           ┆ of the    ┆ of the    ┆   ┆           ┆ venture,D ┆           ┆          │\n",
       "│           ┆           ┆ Rings:    ┆ Rings:    ┆   ┆           ┆ rama      ┆           ┆          │\n",
       "│           ┆           ┆ The Ret…  ┆ The Ret…  ┆   ┆           ┆           ┆           ┆          │\n",
       "│ tt0108052 ┆ movie     ┆ Schindler ┆ Schindler ┆ … ┆ 195       ┆ Biography ┆ 9.0       ┆ 1476229  │\n",
       "│           ┆           ┆ 's List   ┆ 's List   ┆   ┆           ┆ ,Drama,Hi ┆           ┆          │\n",
       "│           ┆           ┆           ┆           ┆   ┆           ┆ story     ┆           ┆          │\n",
       "│ …         ┆ …         ┆ …         ┆ …         ┆ … ┆ …         ┆ …         ┆ …         ┆ …        │\n",
       "│ tt1088616 ┆ movie     ┆ 365 Days  ┆ 365 dni   ┆ … ┆ 114       ┆ Drama,Rom ┆ 3.3       ┆ 100617   │\n",
       "│ 6         ┆           ┆           ┆           ┆   ┆           ┆ ance      ┆           ┆          │\n",
       "│ tt1073498 ┆ movie     ┆ Meet the  ┆ Meet the  ┆ … ┆ 87        ┆ Comedy,Fa ┆ 2.8       ┆ 112204   │\n",
       "│           ┆           ┆ Spartans  ┆ Spartans  ┆   ┆           ┆ ntasy     ┆           ┆          │\n",
       "│ tt1291571 ┆ movie     ┆ Adipurush ┆ Adipurush ┆ … ┆ 179       ┆ Action,Ad ┆ 2.7       ┆ 133991   │\n",
       "│ 6         ┆           ┆           ┆           ┆   ┆           ┆ venture,D ┆           ┆          │\n",
       "│           ┆           ┆           ┆           ┆   ┆           ┆ rama      ┆           ┆          │\n",
       "│ tt0799949 ┆ movie     ┆ Epic      ┆ Epic      ┆ … ┆ 86        ┆ Adventure ┆ 2.4       ┆ 110225   │\n",
       "│           ┆           ┆ Movie     ┆ Movie     ┆   ┆           ┆ ,Comedy,F ┆           ┆          │\n",
       "│           ┆           ┆           ┆           ┆   ┆           ┆ antasy    ┆           ┆          │\n",
       "│ tt1088859 ┆ movie     ┆ Radhe     ┆ Radhe     ┆ … ┆ 109       ┆ Action,Cr ┆ 1.9       ┆ 180209   │\n",
       "│ 4         ┆           ┆           ┆           ┆   ┆           ┆ ime,Thril ┆           ┆          │\n",
       "│           ┆           ┆           ┆           ┆   ┆           ┆ ler       ┆           ┆          │\n",
       "└───────────┴───────────┴───────────┴───────────┴───┴───────────┴───────────┴───────────┴──────────┘"
      ]
     },
     "execution_count": 10,
     "metadata": {},
     "output_type": "execute_result"
    }
   ],
   "source": [
    "movie_titles = read_imdb_parquet_file(\"title.basics\")\n",
    "ratings = read_imdb_parquet_file(\"title.ratings\")\n",
    "\n",
    "movie_titles.join(ratings, on=\"tconst\", how=\"inner\").with_columns(\n",
    "    pl.col(\"averageRating\")\n",
    ").sort(\"numVotes\", descending=True).filter(\n",
    "    pl.col(\"titleType\") == \"movie\", pl.col(\"numVotes\") > 100000\n",
    ").sort(\"averageRating\", descending=True)\n"
   ]
  },
  {
   "cell_type": "code",
   "execution_count": 11,
   "metadata": {},
   "outputs": [
    {
     "data": {
      "text/html": [
       "<div><style>\n",
       ".dataframe > thead > tr,\n",
       ".dataframe > tbody > tr {\n",
       "  text-align: right;\n",
       "  white-space: pre-wrap;\n",
       "}\n",
       "</style>\n",
       "<small>shape: (2_478, 11)</small><table border=\"1\" class=\"dataframe\"><thead><tr><th>tconst</th><th>titleType</th><th>primaryTitle</th><th>originalTitle</th><th>isAdult</th><th>startYear</th><th>endYear</th><th>runtimeMinutes</th><th>genres</th><th>averageRating</th><th>numVotes</th></tr><tr><td>str</td><td>str</td><td>str</td><td>str</td><td>i64</td><td>i64</td><td>str</td><td>i64</td><td>str</td><td>f64</td><td>i64</td></tr></thead><tbody><tr><td>&quot;tt0111161&quot;</td><td>&quot;movie&quot;</td><td>&quot;The Shawshank Redemption&quot;</td><td>&quot;The Shawshank Redemption&quot;</td><td>0</td><td>1994</td><td>null</td><td>142</td><td>&quot;Drama&quot;</td><td>9.3</td><td>2943515</td></tr><tr><td>&quot;tt0068646&quot;</td><td>&quot;movie&quot;</td><td>&quot;The Godfather&quot;</td><td>&quot;The Godfather&quot;</td><td>0</td><td>1972</td><td>null</td><td>175</td><td>&quot;Crime,Drama&quot;</td><td>9.2</td><td>2051638</td></tr><tr><td>&quot;tt0050083&quot;</td><td>&quot;movie&quot;</td><td>&quot;12 Angry Men&quot;</td><td>&quot;12 Angry Men&quot;</td><td>0</td><td>1957</td><td>null</td><td>96</td><td>&quot;Crime,Drama&quot;</td><td>9.0</td><td>884854</td></tr><tr><td>&quot;tt0071562&quot;</td><td>&quot;movie&quot;</td><td>&quot;The Godfather Part II&quot;</td><td>&quot;The Godfather Part II&quot;</td><td>0</td><td>1974</td><td>null</td><td>202</td><td>&quot;Crime,Drama&quot;</td><td>9.0</td><td>1386823</td></tr><tr><td>&quot;tt0108052&quot;</td><td>&quot;movie&quot;</td><td>&quot;Schindler&#x27;s List&quot;</td><td>&quot;Schindler&#x27;s List&quot;</td><td>0</td><td>1993</td><td>null</td><td>195</td><td>&quot;Biography,Drama,History&quot;</td><td>9.0</td><td>1476229</td></tr><tr><td>&hellip;</td><td>&hellip;</td><td>&hellip;</td><td>&hellip;</td><td>&hellip;</td><td>&hellip;</td><td>&hellip;</td><td>&hellip;</td><td>&hellip;</td><td>&hellip;</td><td>&hellip;</td></tr><tr><td>&quot;tt10886166&quot;</td><td>&quot;movie&quot;</td><td>&quot;365 Days&quot;</td><td>&quot;365 dni&quot;</td><td>0</td><td>2020</td><td>null</td><td>114</td><td>&quot;Drama,Romance&quot;</td><td>3.3</td><td>100617</td></tr><tr><td>&quot;tt1073498&quot;</td><td>&quot;movie&quot;</td><td>&quot;Meet the Spartans&quot;</td><td>&quot;Meet the Spartans&quot;</td><td>0</td><td>2008</td><td>null</td><td>87</td><td>&quot;Comedy,Fantasy&quot;</td><td>2.8</td><td>112204</td></tr><tr><td>&quot;tt12915716&quot;</td><td>&quot;movie&quot;</td><td>&quot;Adipurush&quot;</td><td>&quot;Adipurush&quot;</td><td>0</td><td>2023</td><td>null</td><td>179</td><td>&quot;Action,Adventure,Drama&quot;</td><td>2.7</td><td>133991</td></tr><tr><td>&quot;tt0799949&quot;</td><td>&quot;movie&quot;</td><td>&quot;Epic Movie&quot;</td><td>&quot;Epic Movie&quot;</td><td>0</td><td>2007</td><td>null</td><td>86</td><td>&quot;Adventure,Comedy,Fantasy&quot;</td><td>2.4</td><td>110225</td></tr><tr><td>&quot;tt10888594&quot;</td><td>&quot;movie&quot;</td><td>&quot;Radhe&quot;</td><td>&quot;Radhe&quot;</td><td>0</td><td>2021</td><td>null</td><td>109</td><td>&quot;Action,Crime,Thriller&quot;</td><td>1.9</td><td>180209</td></tr></tbody></table></div>"
      ],
      "text/plain": [
       "shape: (2_478, 11)\n",
       "┌───────────┬───────────┬───────────┬───────────┬───┬───────────┬───────────┬───────────┬──────────┐\n",
       "│ tconst    ┆ titleType ┆ primaryTi ┆ originalT ┆ … ┆ runtimeMi ┆ genres    ┆ averageRa ┆ numVotes │\n",
       "│ ---       ┆ ---       ┆ tle       ┆ itle      ┆   ┆ nutes     ┆ ---       ┆ ting      ┆ ---      │\n",
       "│ str       ┆ str       ┆ ---       ┆ ---       ┆   ┆ ---       ┆ str       ┆ ---       ┆ i64      │\n",
       "│           ┆           ┆ str       ┆ str       ┆   ┆ i64       ┆           ┆ f64       ┆          │\n",
       "╞═══════════╪═══════════╪═══════════╪═══════════╪═══╪═══════════╪═══════════╪═══════════╪══════════╡\n",
       "│ tt0111161 ┆ movie     ┆ The       ┆ The       ┆ … ┆ 142       ┆ Drama     ┆ 9.3       ┆ 2943515  │\n",
       "│           ┆           ┆ Shawshank ┆ Shawshank ┆   ┆           ┆           ┆           ┆          │\n",
       "│           ┆           ┆ Redemptio ┆ Redemptio ┆   ┆           ┆           ┆           ┆          │\n",
       "│           ┆           ┆ n         ┆ n         ┆   ┆           ┆           ┆           ┆          │\n",
       "│ tt0068646 ┆ movie     ┆ The       ┆ The       ┆ … ┆ 175       ┆ Crime,Dra ┆ 9.2       ┆ 2051638  │\n",
       "│           ┆           ┆ Godfather ┆ Godfather ┆   ┆           ┆ ma        ┆           ┆          │\n",
       "│ tt0050083 ┆ movie     ┆ 12 Angry  ┆ 12 Angry  ┆ … ┆ 96        ┆ Crime,Dra ┆ 9.0       ┆ 884854   │\n",
       "│           ┆           ┆ Men       ┆ Men       ┆   ┆           ┆ ma        ┆           ┆          │\n",
       "│ tt0071562 ┆ movie     ┆ The       ┆ The       ┆ … ┆ 202       ┆ Crime,Dra ┆ 9.0       ┆ 1386823  │\n",
       "│           ┆           ┆ Godfather ┆ Godfather ┆   ┆           ┆ ma        ┆           ┆          │\n",
       "│           ┆           ┆ Part II   ┆ Part II   ┆   ┆           ┆           ┆           ┆          │\n",
       "│ tt0108052 ┆ movie     ┆ Schindler ┆ Schindler ┆ … ┆ 195       ┆ Biography ┆ 9.0       ┆ 1476229  │\n",
       "│           ┆           ┆ 's List   ┆ 's List   ┆   ┆           ┆ ,Drama,Hi ┆           ┆          │\n",
       "│           ┆           ┆           ┆           ┆   ┆           ┆ story     ┆           ┆          │\n",
       "│ …         ┆ …         ┆ …         ┆ …         ┆ … ┆ …         ┆ …         ┆ …         ┆ …        │\n",
       "│ tt1088616 ┆ movie     ┆ 365 Days  ┆ 365 dni   ┆ … ┆ 114       ┆ Drama,Rom ┆ 3.3       ┆ 100617   │\n",
       "│ 6         ┆           ┆           ┆           ┆   ┆           ┆ ance      ┆           ┆          │\n",
       "│ tt1073498 ┆ movie     ┆ Meet the  ┆ Meet the  ┆ … ┆ 87        ┆ Comedy,Fa ┆ 2.8       ┆ 112204   │\n",
       "│           ┆           ┆ Spartans  ┆ Spartans  ┆   ┆           ┆ ntasy     ┆           ┆          │\n",
       "│ tt1291571 ┆ movie     ┆ Adipurush ┆ Adipurush ┆ … ┆ 179       ┆ Action,Ad ┆ 2.7       ┆ 133991   │\n",
       "│ 6         ┆           ┆           ┆           ┆   ┆           ┆ venture,D ┆           ┆          │\n",
       "│           ┆           ┆           ┆           ┆   ┆           ┆ rama      ┆           ┆          │\n",
       "│ tt0799949 ┆ movie     ┆ Epic      ┆ Epic      ┆ … ┆ 86        ┆ Adventure ┆ 2.4       ┆ 110225   │\n",
       "│           ┆           ┆ Movie     ┆ Movie     ┆   ┆           ┆ ,Comedy,F ┆           ┆          │\n",
       "│           ┆           ┆           ┆           ┆   ┆           ┆ antasy    ┆           ┆          │\n",
       "│ tt1088859 ┆ movie     ┆ Radhe     ┆ Radhe     ┆ … ┆ 109       ┆ Action,Cr ┆ 1.9       ┆ 180209   │\n",
       "│ 4         ┆           ┆           ┆           ┆   ┆           ┆ ime,Thril ┆           ┆          │\n",
       "│           ┆           ┆           ┆           ┆   ┆           ┆ ler       ┆           ┆          │\n",
       "└───────────┴───────────┴───────────┴───────────┴───┴───────────┴───────────┴───────────┴──────────┘"
      ]
     },
     "execution_count": 11,
     "metadata": {},
     "output_type": "execute_result"
    }
   ],
   "source": [
    "movie_titles = scan_imdb_parquet_file(\"title.basics\")\n",
    "ratings = scan_imdb_parquet_file(\"title.ratings\")\n",
    "\n",
    "best_movies_lf = movie_titles.join(ratings, on=\"tconst\", how=\"inner\").with_columns(\n",
    "    pl.col(\"averageRating\")\n",
    ").sort(\"numVotes\", descending=True).filter(\n",
    "    pl.col(\"titleType\") == \"movie\", pl.col(\"numVotes\") > 100000\n",
    ").sort(\"averageRating\", descending=True)\n",
    "\n",
    "best_movies_lf.collect()"
   ]
  }
 ],
 "metadata": {
  "language_info": {
   "name": "python"
  }
 },
 "nbformat": 4,
 "nbformat_minor": 2
}
