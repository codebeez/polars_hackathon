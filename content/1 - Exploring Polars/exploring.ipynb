{
 "cells": [
  {
   "cell_type": "markdown",
   "metadata": {},
   "source": [
    "# The Basics\n",
    "In this notebook, we will explore the very basics of Polars.\n",
    "If you already have experience with Polars, you may want to just briefly skip over this and continue with the next exercise."
   ]
  },
  {
   "cell_type": "code",
   "execution_count": 29,
   "metadata": {},
   "outputs": [],
   "source": [
    "import polars as pl"
   ]
  },
  {
   "cell_type": "markdown",
   "metadata": {},
   "source": [
    "## Creating and Manipulating DataFrames\n",
    "\n",
    "Let's start with the creation of a simple DataFrame in Polars.\n",
    "If you are used to pandas, this should look quite familiar.\n",
    "In Polars, we can use `DataFrame.schema()` to show the columns and corresponding types of the DataFrame.\n",
    "If not explicitly provided in the input data, these will be inferred."
   ]
  },
  {
   "cell_type": "code",
   "execution_count": 30,
   "metadata": {},
   "outputs": [
    {
     "name": "stdout",
     "output_type": "stream",
     "text": [
      "shape: (5, 5)\n",
      "┌───────┬─────┬────────┬────────┬────────────┐\n",
      "│ name  ┆ age ┆ gender ┆ salary ┆ experience │\n",
      "│ ---   ┆ --- ┆ ---    ┆ ---    ┆ ---        │\n",
      "│ str   ┆ i64 ┆ str    ┆ i64    ┆ i64        │\n",
      "╞═══════╪═════╪════════╪════════╪════════════╡\n",
      "│ Sjon  ┆ 34  ┆ M      ┆ 75000  ┆ 5          │\n",
      "│ Anita ┆ 31  ┆ F      ┆ 65000  ┆ 3          │\n",
      "│ Klaas ┆ 41  ┆ M      ┆ 80000  ┆ 7          │\n",
      "│ Sofie ┆ 25  ┆ F      ┆ 70000  ┆ 4          │\n",
      "│ Kees  ┆ 52  ┆ M      ┆ 90000  ┆ 10         │\n",
      "└───────┴─────┴────────┴────────┴────────────┘\n",
      "Schema({'name': String, 'age': Int64, 'gender': String, 'salary': Int64, 'experience': Int64})\n"
     ]
    }
   ],
   "source": [
    "# Create a simple DataFrame\n",
    "df = pl.DataFrame(\n",
    "    {\n",
    "        \"name\": [\"Sjon\", \"Anita\", \"Klaas\", \"Sofie\", \"Kees\"],\n",
    "        \"age\": [34, 31, 41, 25, 52],\n",
    "        \"gender\": [\"M\", \"F\", \"M\", \"F\", \"M\"],\n",
    "        \"salary\": [75000, 65000, 80000, 70000, 90000],\n",
    "        \"experience\": [5, 3, 7, 4, 10],\n",
    "    }\n",
    ")\n",
    "print(df)\n",
    "print(df.schema)"
   ]
  },
  {
   "cell_type": "markdown",
   "metadata": {},
   "source": [
    "Each list we just provided as input data is now a polars `Series` instance within the DataFrame with the shown dtype:"
   ]
  },
  {
   "cell_type": "code",
   "execution_count": 31,
   "metadata": {},
   "outputs": [
    {
     "name": "stdout",
     "output_type": "stream",
     "text": [
      "shape: (5,)\n",
      "Series: 'name' [str]\n",
      "[\n",
      "\t\"Sjon\"\n",
      "\t\"Anita\"\n",
      "\t\"Klaas\"\n",
      "\t\"Sofie\"\n",
      "\t\"Kees\"\n",
      "]\n"
     ]
    }
   ],
   "source": [
    "a = df.get_column(\"name\")\n",
    "print(a)"
   ]
  },
  {
   "cell_type": "markdown",
   "metadata": {},
   "source": [
    "We can see that all the integer columns in the schema were inferred to be i64 values.\n",
    "This is not optimal for storage if we know we will never need the space this gives us.\n",
    "Therefore, it could be a good idea to cast the columns to the datatypes we need.\n",
    "Alternatively, we can ensure that the series we provided as input data have the required datatype.\n",
    "In that case, instead of passing lists as input data, we would have to use numpy arrays with defined dtypes, or we can pass in Polars series directly.\n",
    "We can mix as we please, defining one column as a list, another as a `Series` and yet another as a `numpy.array`.\n",
    "\n",
    "Try it out below to obtain more suitable and restrictive dtypes for the example data frame!"
   ]
  },
  {
   "cell_type": "markdown",
   "metadata": {},
   "source": [
    "### Exercise 1.1\n",
    "Use the cast function on the DataFrame to cast the dtypes to more efficient types.\n",
    "Check the reference for the available data types: https://docs.pola.rs/api/python/stable/reference/datatypes.html."
   ]
  },
  {
   "cell_type": "code",
   "execution_count": 42,
   "metadata": {},
   "outputs": [
    {
     "data": {
      "text/html": [
       "<div><style>\n",
       ".dataframe > thead > tr,\n",
       ".dataframe > tbody > tr {\n",
       "  text-align: right;\n",
       "  white-space: pre-wrap;\n",
       "}\n",
       "</style>\n",
       "<small>shape: (5, 5)</small><table border=\"1\" class=\"dataframe\"><thead><tr><th>experience</th><th>salary</th><th>gender</th><th>age</th><th>name</th></tr><tr><td>u8</td><td>u32</td><td>cat</td><td>u8</td><td>str</td></tr></thead><tbody><tr><td>5</td><td>75000</td><td>&quot;M&quot;</td><td>34</td><td>&quot;Sjon&quot;</td></tr><tr><td>3</td><td>65000</td><td>&quot;F&quot;</td><td>31</td><td>&quot;Anita&quot;</td></tr><tr><td>7</td><td>80000</td><td>&quot;M&quot;</td><td>41</td><td>&quot;Klaas&quot;</td></tr><tr><td>4</td><td>70000</td><td>&quot;F&quot;</td><td>25</td><td>&quot;Sofie&quot;</td></tr><tr><td>10</td><td>90000</td><td>&quot;M&quot;</td><td>52</td><td>&quot;Kees&quot;</td></tr></tbody></table></div>"
      ],
      "text/plain": [
       "shape: (5, 5)\n",
       "┌────────────┬────────┬────────┬─────┬───────┐\n",
       "│ experience ┆ salary ┆ gender ┆ age ┆ name  │\n",
       "│ ---        ┆ ---    ┆ ---    ┆ --- ┆ ---   │\n",
       "│ u8         ┆ u32    ┆ cat    ┆ u8  ┆ str   │\n",
       "╞════════════╪════════╪════════╪═════╪═══════╡\n",
       "│ 5          ┆ 75000  ┆ M      ┆ 34  ┆ Sjon  │\n",
       "│ 3          ┆ 65000  ┆ F      ┆ 31  ┆ Anita │\n",
       "│ 7          ┆ 80000  ┆ M      ┆ 41  ┆ Klaas │\n",
       "│ 4          ┆ 70000  ┆ F      ┆ 25  ┆ Sofie │\n",
       "│ 10         ┆ 90000  ┆ M      ┆ 52  ┆ Kees  │\n",
       "└────────────┴────────┴────────┴─────┴───────┘"
      ]
     },
     "execution_count": 42,
     "metadata": {},
     "output_type": "execute_result"
    }
   ],
   "source": [
    "df.cast({\"name\": pl.String, \"age\": pl.UInt8, \"gender\": pl.Categorical, \"salary\": pl.UInt32, \"experience\": pl.UInt8})"
   ]
  },
  {
   "cell_type": "markdown",
   "metadata": {},
   "source": [
    "## Basic Manipulations\n",
    "\n",
    "Let's try out some basic data manipulation polars allows us to do below."
   ]
  },
  {
   "cell_type": "markdown",
   "metadata": {},
   "source": [
    "### Exercise 1.2\n",
    "Reverse the order of the columns!\n",
    "For this you can use the `select` method in combination with some indexing magic."
   ]
  },
  {
   "cell_type": "code",
   "execution_count": 33,
   "metadata": {},
   "outputs": [
    {
     "name": "stdout",
     "output_type": "stream",
     "text": [
      "shape: (5, 5)\n",
      "┌────────────┬────────┬────────┬─────┬───────┐\n",
      "│ experience ┆ salary ┆ gender ┆ age ┆ name  │\n",
      "│ ---        ┆ ---    ┆ ---    ┆ --- ┆ ---   │\n",
      "│ i64        ┆ i64    ┆ str    ┆ i64 ┆ str   │\n",
      "╞════════════╪════════╪════════╪═════╪═══════╡\n",
      "│ 5          ┆ 75000  ┆ M      ┆ 34  ┆ Sjon  │\n",
      "│ 3          ┆ 65000  ┆ F      ┆ 31  ┆ Anita │\n",
      "│ 7          ┆ 80000  ┆ M      ┆ 41  ┆ Klaas │\n",
      "│ 4          ┆ 70000  ┆ F      ┆ 25  ┆ Sofie │\n",
      "│ 10         ┆ 90000  ┆ M      ┆ 52  ┆ Kees  │\n",
      "└────────────┴────────┴────────┴─────┴───────┘\n"
     ]
    }
   ],
   "source": [
    "# Create a new DataFrame with the columns reversed\n",
    "df = df.select(df.columns[::-1])\n",
    "print(df)"
   ]
  },
  {
   "cell_type": "markdown",
   "metadata": {},
   "source": [
    "For changing the order of the rows, we usually want to use a `sort` statement on one of the columns.\n",
    "In polars, you can simply call `sort` with the desired column names and change the effect of the sort statement by passing in additional arguments.\n",
    "\n",
    "\n",
    "### Exercise 1.3\n",
    "Sort the DataFrame by experience and separately by salary."
   ]
  },
  {
   "cell_type": "code",
   "execution_count": 44,
   "metadata": {},
   "outputs": [
    {
     "data": {
      "text/html": [
       "<div><style>\n",
       ".dataframe > thead > tr,\n",
       ".dataframe > tbody > tr {\n",
       "  text-align: right;\n",
       "  white-space: pre-wrap;\n",
       "}\n",
       "</style>\n",
       "<small>shape: (5, 5)</small><table border=\"1\" class=\"dataframe\"><thead><tr><th>experience</th><th>salary</th><th>gender</th><th>age</th><th>name</th></tr><tr><td>i64</td><td>i64</td><td>str</td><td>i64</td><td>str</td></tr></thead><tbody><tr><td>10</td><td>90000</td><td>&quot;M&quot;</td><td>52</td><td>&quot;Kees&quot;</td></tr><tr><td>7</td><td>80000</td><td>&quot;M&quot;</td><td>41</td><td>&quot;Klaas&quot;</td></tr><tr><td>5</td><td>75000</td><td>&quot;M&quot;</td><td>34</td><td>&quot;Sjon&quot;</td></tr><tr><td>3</td><td>65000</td><td>&quot;F&quot;</td><td>31</td><td>&quot;Anita&quot;</td></tr><tr><td>4</td><td>70000</td><td>&quot;F&quot;</td><td>25</td><td>&quot;Sofie&quot;</td></tr></tbody></table></div>"
      ],
      "text/plain": [
       "shape: (5, 5)\n",
       "┌────────────┬────────┬────────┬─────┬───────┐\n",
       "│ experience ┆ salary ┆ gender ┆ age ┆ name  │\n",
       "│ ---        ┆ ---    ┆ ---    ┆ --- ┆ ---   │\n",
       "│ i64        ┆ i64    ┆ str    ┆ i64 ┆ str   │\n",
       "╞════════════╪════════╪════════╪═════╪═══════╡\n",
       "│ 10         ┆ 90000  ┆ M      ┆ 52  ┆ Kees  │\n",
       "│ 7          ┆ 80000  ┆ M      ┆ 41  ┆ Klaas │\n",
       "│ 5          ┆ 75000  ┆ M      ┆ 34  ┆ Sjon  │\n",
       "│ 3          ┆ 65000  ┆ F      ┆ 31  ┆ Anita │\n",
       "│ 4          ┆ 70000  ┆ F      ┆ 25  ┆ Sofie │\n",
       "└────────────┴────────┴────────┴─────┴───────┘"
      ]
     },
     "metadata": {},
     "output_type": "display_data"
    },
    {
     "data": {
      "text/html": [
       "<div><style>\n",
       ".dataframe > thead > tr,\n",
       ".dataframe > tbody > tr {\n",
       "  text-align: right;\n",
       "  white-space: pre-wrap;\n",
       "}\n",
       "</style>\n",
       "<small>shape: (5, 5)</small><table border=\"1\" class=\"dataframe\"><thead><tr><th>experience</th><th>salary</th><th>gender</th><th>age</th><th>name</th></tr><tr><td>i64</td><td>i64</td><td>str</td><td>i64</td><td>str</td></tr></thead><tbody><tr><td>3</td><td>65000</td><td>&quot;F&quot;</td><td>31</td><td>&quot;Anita&quot;</td></tr><tr><td>4</td><td>70000</td><td>&quot;F&quot;</td><td>25</td><td>&quot;Sofie&quot;</td></tr><tr><td>5</td><td>75000</td><td>&quot;M&quot;</td><td>34</td><td>&quot;Sjon&quot;</td></tr><tr><td>7</td><td>80000</td><td>&quot;M&quot;</td><td>41</td><td>&quot;Klaas&quot;</td></tr><tr><td>10</td><td>90000</td><td>&quot;M&quot;</td><td>52</td><td>&quot;Kees&quot;</td></tr></tbody></table></div>"
      ],
      "text/plain": [
       "shape: (5, 5)\n",
       "┌────────────┬────────┬────────┬─────┬───────┐\n",
       "│ experience ┆ salary ┆ gender ┆ age ┆ name  │\n",
       "│ ---        ┆ ---    ┆ ---    ┆ --- ┆ ---   │\n",
       "│ i64        ┆ i64    ┆ str    ┆ i64 ┆ str   │\n",
       "╞════════════╪════════╪════════╪═════╪═══════╡\n",
       "│ 3          ┆ 65000  ┆ F      ┆ 31  ┆ Anita │\n",
       "│ 4          ┆ 70000  ┆ F      ┆ 25  ┆ Sofie │\n",
       "│ 5          ┆ 75000  ┆ M      ┆ 34  ┆ Sjon  │\n",
       "│ 7          ┆ 80000  ┆ M      ┆ 41  ┆ Klaas │\n",
       "│ 10         ┆ 90000  ┆ M      ┆ 52  ┆ Kees  │\n",
       "└────────────┴────────┴────────┴─────┴───────┘"
      ]
     },
     "metadata": {},
     "output_type": "display_data"
    }
   ],
   "source": [
    "display(df.sort(\"age\", descending=True))\n",
    "display(df.sort(\"experience\"))"
   ]
  },
  {
   "cell_type": "markdown",
   "metadata": {},
   "source": [
    "A third important manipulation we will look at here, is how to change the values of the individual records.\n",
    "This can be done using the `with_columns()` method on the `DataFrame`.\n",
    "It is tempting to think that `with_columns()` creates a copy of the data frame and thus leads to significant memory overhead.\n",
    "It should therefore be noted that the method does *not* actually copy existing data, but keeps a reference instead!\n",
    "\n",
    "A simple usage of this method would be to use the values from another column:"
   ]
  },
  {
   "cell_type": "code",
   "execution_count": 49,
   "metadata": {},
   "outputs": [
    {
     "data": {
      "text/html": [
       "<div><style>\n",
       ".dataframe > thead > tr,\n",
       ".dataframe > tbody > tr {\n",
       "  text-align: right;\n",
       "  white-space: pre-wrap;\n",
       "}\n",
       "</style>\n",
       "<small>shape: (5, 6)</small><table border=\"1\" class=\"dataframe\"><thead><tr><th>experience</th><th>salary</th><th>gender</th><th>age</th><th>name</th><th>earnings</th></tr><tr><td>i64</td><td>i64</td><td>str</td><td>i64</td><td>str</td><td>i64</td></tr></thead><tbody><tr><td>5</td><td>75000</td><td>&quot;M&quot;</td><td>34</td><td>&quot;Sjon&quot;</td><td>75000</td></tr><tr><td>3</td><td>65000</td><td>&quot;F&quot;</td><td>31</td><td>&quot;Anita&quot;</td><td>65000</td></tr><tr><td>7</td><td>80000</td><td>&quot;M&quot;</td><td>41</td><td>&quot;Klaas&quot;</td><td>80000</td></tr><tr><td>4</td><td>70000</td><td>&quot;F&quot;</td><td>25</td><td>&quot;Sofie&quot;</td><td>70000</td></tr><tr><td>10</td><td>90000</td><td>&quot;M&quot;</td><td>52</td><td>&quot;Kees&quot;</td><td>90000</td></tr></tbody></table></div>"
      ],
      "text/plain": [
       "shape: (5, 6)\n",
       "┌────────────┬────────┬────────┬─────┬───────┬──────────┐\n",
       "│ experience ┆ salary ┆ gender ┆ age ┆ name  ┆ earnings │\n",
       "│ ---        ┆ ---    ┆ ---    ┆ --- ┆ ---   ┆ ---      │\n",
       "│ i64        ┆ i64    ┆ str    ┆ i64 ┆ str   ┆ i64      │\n",
       "╞════════════╪════════╪════════╪═════╪═══════╪══════════╡\n",
       "│ 5          ┆ 75000  ┆ M      ┆ 34  ┆ Sjon  ┆ 75000    │\n",
       "│ 3          ┆ 65000  ┆ F      ┆ 31  ┆ Anita ┆ 65000    │\n",
       "│ 7          ┆ 80000  ┆ M      ┆ 41  ┆ Klaas ┆ 80000    │\n",
       "│ 4          ┆ 70000  ┆ F      ┆ 25  ┆ Sofie ┆ 70000    │\n",
       "│ 10         ┆ 90000  ┆ M      ┆ 52  ┆ Kees  ┆ 90000    │\n",
       "└────────────┴────────┴────────┴─────┴───────┴──────────┘"
      ]
     },
     "execution_count": 49,
     "metadata": {},
     "output_type": "execute_result"
    }
   ],
   "source": [
    "df.with_columns(earnings=\"salary\")"
   ]
  },
  {
   "cell_type": "markdown",
   "metadata": {},
   "source": [
    "Note that the string value in the expression above will always refer to a column name, as in many expressions in Polars.\n",
    "If instead you want to refer to literal values, you can use `pl.lit()` with the value passed in as an argument.\n",
    "This function is an example of a function returning a Polars expression."
   ]
  },
  {
   "cell_type": "markdown",
   "metadata": {},
   "source": [
    "## Using expressions for manipulation\n",
    "\n",
    "If we need to do more advanced manipulation, we will likely need the expression power of Polars.\n",
    "Polars allows us to define expressions for manipulation of column values using the `pl.col()` construct in combination with Polars functions that return Expressions or in combination with native Python operators.\n",
    "The resulting type of the expression will be, surprisingly, a Polars `Expression` instance:\n"
   ]
  },
  {
   "cell_type": "code",
   "execution_count": 34,
   "metadata": {},
   "outputs": [
    {
     "name": "stdout",
     "output_type": "stream",
     "text": [
      "<class 'polars.expr.expr.Expr'>\n",
      "<class 'polars.expr.expr.Expr'>\n"
     ]
    }
   ],
   "source": [
    "print(type(pl.col(\"a\") > 2))\n",
    "print(type(pl.col(\"a\").abs()))"
   ]
  },
  {
   "cell_type": "markdown",
   "metadata": {},
   "source": [
    "For a full list of available expressions, check out https://docs.pola.rs/api/python/stable/reference/expressions/index.html, where the a full reference is provided ordered by expression type.\n",
    "We can essentially use expressions in any method that has a dependency on data frame values, e.g. the `select()`, `filter()` and `with_column()` methods.\n",
    "Upon evaluation of the method, Polars will evaluate the expression in the context of the data frame.\n",
    "If an expression with `pl.col()` is passed into a method that manipulates the column values, the existing column will be replaced by the new values resulting from the expression.\n",
    "If in those cases we want to rename the column (and thus not overwrite the original one), we can use the `alias()` method on the Expression object."
   ]
  },
  {
   "cell_type": "markdown",
   "metadata": {},
   "source": [
    "### Exercise 1.4\n",
    "Use a the `select()` method on the data frame in combination with expressions to create a new data frame that shows the name in combination with a column named `sufficient_experience`, where `sufficient_experience` should show \"no\" for those with less than 5 experience points and \"yes\" for those with more."
   ]
  },
  {
   "cell_type": "code",
   "execution_count": 48,
   "metadata": {},
   "outputs": [
    {
     "data": {
      "text/html": [
       "<div><style>\n",
       ".dataframe > thead > tr,\n",
       ".dataframe > tbody > tr {\n",
       "  text-align: right;\n",
       "  white-space: pre-wrap;\n",
       "}\n",
       "</style>\n",
       "<small>shape: (5, 2)</small><table border=\"1\" class=\"dataframe\"><thead><tr><th>name</th><th>sufficient_experience</th></tr><tr><td>str</td><td>str</td></tr></thead><tbody><tr><td>&quot;Sjon&quot;</td><td>&quot;no&quot;</td></tr><tr><td>&quot;Anita&quot;</td><td>&quot;no&quot;</td></tr><tr><td>&quot;Klaas&quot;</td><td>&quot;yes&quot;</td></tr><tr><td>&quot;Sofie&quot;</td><td>&quot;no&quot;</td></tr><tr><td>&quot;Kees&quot;</td><td>&quot;yes&quot;</td></tr></tbody></table></div>"
      ],
      "text/plain": [
       "shape: (5, 2)\n",
       "┌───────┬───────────────────────┐\n",
       "│ name  ┆ sufficient_experience │\n",
       "│ ---   ┆ ---                   │\n",
       "│ str   ┆ str                   │\n",
       "╞═══════╪═══════════════════════╡\n",
       "│ Sjon  ┆ no                    │\n",
       "│ Anita ┆ no                    │\n",
       "│ Klaas ┆ yes                   │\n",
       "│ Sofie ┆ no                    │\n",
       "│ Kees  ┆ yes                   │\n",
       "└───────┴───────────────────────┘"
      ]
     },
     "execution_count": 48,
     "metadata": {},
     "output_type": "execute_result"
    }
   ],
   "source": [
    "df.select(\"name\", (pl.when(pl.col(\"experience\") > 5).then(pl.lit(\"yes\")).otherwise(pl.lit(\"no\")).alias(\"sufficient_experience\")))"
   ]
  },
  {
   "cell_type": "code",
   "execution_count": 36,
   "metadata": {},
   "outputs": [
    {
     "name": "stdout",
     "output_type": "stream",
     "text": [
      "(5, 75000, 'M', 34, 'Sjon')\n",
      "(3, 65000, 'F', 31, 'Anita')\n",
      "(7, 80000, 'M', 41, 'Klaas')\n",
      "(4, 70000, 'F', 25, 'Sofie')\n",
      "(10, 90000, 'M', 52, 'Kees')\n"
     ]
    }
   ],
   "source": [
    "# Polars also allows us to iterate over the rows and obtain the values corresponding to the row as a tuple. However, depending on what you want to achieve this is much slower than using the built-in methods, as the data is stored in a columnar fashion.\n",
    "for row in df.rows():\n",
    "    print(row)"
   ]
  },
  {
   "cell_type": "markdown",
   "metadata": {},
   "source": [
    "## Reading from and saving to files\n",
    "Polars makes it very easy to write DataFrames to files and read them back in.\n",
    "In the below exercise, we will write our data frame to a CSV file and read the data back in, which will show us an issue with this file format.\n",
    "Other file formats do not only solve this issue, but facilitate more efficient writing and reading as well for big data.\n",
    "We will look into this further in the third part of this hackathon."
   ]
  },
  {
   "cell_type": "markdown",
   "metadata": {},
   "source": [
    "### Exercise 1.5\n",
    "Save the DataFrame created above to a CSV file and read it in again.\n",
    "What do you notice about the data types after reading the data back in?"
   ]
  },
  {
   "cell_type": "code",
   "execution_count": 37,
   "metadata": {},
   "outputs": [
    {
     "name": "stdout",
     "output_type": "stream",
     "text": [
      "shape: (5, 5)\n",
      "┌────────────┬────────┬────────┬─────┬───────┐\n",
      "│ experience ┆ salary ┆ gender ┆ age ┆ name  │\n",
      "│ ---        ┆ ---    ┆ ---    ┆ --- ┆ ---   │\n",
      "│ i64        ┆ i64    ┆ str    ┆ i64 ┆ str   │\n",
      "╞════════════╪════════╪════════╪═════╪═══════╡\n",
      "│ 5          ┆ 75000  ┆ M      ┆ 34  ┆ Sjon  │\n",
      "│ 3          ┆ 65000  ┆ F      ┆ 31  ┆ Anita │\n",
      "│ 7          ┆ 80000  ┆ M      ┆ 41  ┆ Klaas │\n",
      "│ 4          ┆ 70000  ┆ F      ┆ 25  ┆ Sofie │\n",
      "│ 10         ┆ 90000  ┆ M      ┆ 52  ┆ Kees  │\n",
      "└────────────┴────────┴────────┴─────┴───────┘\n"
     ]
    }
   ],
   "source": [
    "# Save the DataFrame to a CSV file\n",
    "df.write_csv('data.csv')\n",
    "\n",
    "# Load the DataFrame from a CSV file\n",
    "df = pl.read_csv('data.csv')\n",
    "\n",
    "print(df)"
   ]
  }
 ],
 "metadata": {
  "kernelspec": {
   "display_name": ".venv",
   "language": "python",
   "name": "python3"
  },
  "language_info": {
   "codemirror_mode": {
    "name": "ipython",
    "version": 3
   },
   "file_extension": ".py",
   "mimetype": "text/x-python",
   "name": "python",
   "nbconvert_exporter": "python",
   "pygments_lexer": "ipython3",
   "version": "3.12.4"
  }
 },
 "nbformat": 4,
 "nbformat_minor": 2
}
