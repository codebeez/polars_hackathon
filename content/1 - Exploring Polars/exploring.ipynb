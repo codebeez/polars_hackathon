{
 "cells": [
  {
   "cell_type": "markdown",
   "metadata": {},
   "source": [
    "# The Basics\n",
    "In this notebook, we will explore the very basics of Polars.\n",
    "If you already have experience with Polars, you may want to just briefly skip over this and continue with the next exercise."
   ]
  },
  {
   "cell_type": "code",
   "execution_count": 29,
   "metadata": {},
   "outputs": [],
   "source": [
    "import polars as pl"
   ]
  },
  {
   "cell_type": "markdown",
   "metadata": {},
   "source": [
    "## Creating and Manipulating DataFrames\n",
    "\n",
    "Let's start with the creation of a simple DataFrame in Polars.\n",
    "If you are used to pandas, this should look quite familiar.\n",
    "In Polars, we can use `DataFrame.schema()` to show the columns and corresponding types of the DataFrame.\n",
    "If not explicitly provided in the input data, these will be inferred."
   ]
  },
  {
   "cell_type": "code",
   "execution_count": null,
   "metadata": {},
   "outputs": [],
   "source": [
    "# Create a simple DataFrame\n",
    "df = pl.DataFrame(\n",
    "    {\n",
    "        \"name\": [\"Sjon\", \"Anita\", \"Klaas\", \"Sofie\", \"Kees\"],\n",
    "        \"age\": [34, 31, 41, 25, 52],\n",
    "        \"gender\": [\"M\", \"F\", \"M\", \"F\", \"M\"],\n",
    "        \"salary\": [75000, 65000, 80000, 70000, 90000],\n",
    "        \"experience\": [5, 3, 7, 4, 10],\n",
    "    }\n",
    ")\n",
    "print(df)\n",
    "print(df.schema)"
   ]
  },
  {
   "cell_type": "markdown",
   "metadata": {},
   "source": [
    "Each list we just provided as input data is now a polars `Series` instance within the DataFrame with the shown dtype:"
   ]
  },
  {
   "cell_type": "code",
   "execution_count": null,
   "metadata": {},
   "outputs": [],
   "source": [
    "a = df.get_column(\"name\")\n",
    "print(a)"
   ]
  },
  {
   "cell_type": "markdown",
   "metadata": {},
   "source": [
    "We can see that all the integer columns in the schema were inferred to be i64 values.\n",
    "This is not optimal for storage if we know we will never need the space this gives us.\n",
    "Therefore, it could be a good idea to cast the columns to the datatypes we need.\n",
    "Alternatively, we can ensure that the series we provided as input data have the required datatype.\n",
    "In that case, instead of passing lists as input data, we would have to use numpy arrays with defined dtypes, or we can pass in Polars series directly.\n",
    "We can mix as we please, defining one column as a list, another as a `Series` and yet another as a `numpy.array`.\n",
    "\n",
    "Try it out below to obtain more suitable and restrictive dtypes for the example data frame!"
   ]
  },
  {
   "cell_type": "markdown",
   "metadata": {},
   "source": [
    "### Exercise 1.1\n",
    "Use the cast function on the DataFrame to cast the dtypes to more efficient types.\n",
    "Check the reference for the available data types: https://docs.pola.rs/api/python/stable/reference/datatypes.html."
   ]
  },
  {
   "cell_type": "code",
   "execution_count": null,
   "metadata": {},
   "outputs": [],
   "source": []
  },
  {
   "cell_type": "markdown",
   "metadata": {},
   "source": [
    "## Basic Manipulations\n",
    "\n",
    "Let's try out some basic data manipulation polars allows us to do below."
   ]
  },
  {
   "cell_type": "markdown",
   "metadata": {},
   "source": [
    "### Exercise 1.2\n",
    "Reverse the order of the columns!\n",
    "For this you can use the `select` method in combination with some indexing magic."
   ]
  },
  {
   "cell_type": "code",
   "execution_count": null,
   "metadata": {},
   "outputs": [],
   "source": []
  },
  {
   "cell_type": "markdown",
   "metadata": {},
   "source": [
    "For changing the order of the rows, we usually want to use a `sort` statement on one of the columns.\n",
    "In polars, you can simply call `sort` with the desired column names and change the effect of the sort statement by passing in additional arguments.\n",
    "\n",
    "\n",
    "### Exercise 1.3\n",
    "Sort the DataFrame by experience and separately by salary."
   ]
  },
  {
   "cell_type": "code",
   "execution_count": null,
   "metadata": {},
   "outputs": [],
   "source": []
  },
  {
   "cell_type": "markdown",
   "metadata": {},
   "source": [
    "A third important manipulation we will look at here, is how to change the values of the individual records.\n",
    "This can be done using the `with_columns()` method on the `DataFrame`.\n",
    "It is tempting to think that `with_columns()` creates a copy of the data frame and thus leads to significant memory overhead.\n",
    "It should therefore be noted that the method does *not* actually copy existing data, but keeps a reference instead!\n",
    "\n",
    "A simple usage of this method would be to use the values from another column:"
   ]
  },
  {
   "cell_type": "code",
   "execution_count": null,
   "metadata": {},
   "outputs": [],
   "source": [
    "df.with_columns(earnings=\"salary\")"
   ]
  },
  {
   "cell_type": "markdown",
   "metadata": {},
   "source": [
    "Note that the string value in the expression above will always refer to a column name, as in many expressions in Polars.\n",
    "If instead you want to refer to literal values, you can use `pl.lit()` with the value passed in as an argument.\n",
    "This function is an example of a function returning a Polars expression."
   ]
  },
  {
   "cell_type": "markdown",
   "metadata": {},
   "source": [
    "## Using expressions for manipulation\n",
    "\n",
    "If we need to do more advanced manipulation, we will likely need the expression power of Polars.\n",
    "Polars allows us to define expressions for manipulation of column values using the `pl.col()` construct in combination with Polars functions that return Expressions or in combination with native Python operators.\n",
    "The resulting type of the expression will be, surprisingly, a Polars `Expression` instance:\n"
   ]
  },
  {
   "cell_type": "code",
   "execution_count": null,
   "metadata": {},
   "outputs": [],
   "source": [
    "print(type(pl.col(\"a\") > 2))\n",
    "print(type(pl.col(\"a\").abs()))"
   ]
  },
  {
   "cell_type": "markdown",
   "metadata": {},
   "source": [
    "For a full list of available expressions, check out https://docs.pola.rs/api/python/stable/reference/expressions/index.html, where the a full reference is provided ordered by expression type.\n",
    "We can essentially use expressions in any method that has a dependency on data frame values, e.g. the `select()`, `filter()` and `with_column()` methods.\n",
    "Upon evaluation of the method, Polars will evaluate the expression in the context of the data frame.\n",
    "If an expression with `pl.col()` is passed into a method that manipulates the column values, the existing column will be replaced by the new values resulting from the expression.\n",
    "If in those cases we want to rename the column (and thus not overwrite the original one), we can use the `alias()` method on the Expression object."
   ]
  },
  {
   "cell_type": "markdown",
   "metadata": {},
   "source": [
    "### Exercise 1.4\n",
    "Use a the `select()` method on the data frame in combination with expressions to create a new data frame that shows the name in combination with a column named `sufficient_experience`, where `sufficient_experience` should show \"no\" for those with less than 5 experience points and \"yes\" for those with more."
   ]
  },
  {
   "cell_type": "code",
   "execution_count": null,
   "metadata": {},
   "outputs": [],
   "source": []
  },
  {
   "cell_type": "markdown",
   "metadata": {},
   "source": [
    "## Reading from and saving to files\n",
    "Polars makes it very easy to write DataFrames to files and read them back in.\n",
    "In the below exercise, we will write our data frame to a CSV file and read the data back in, which will show us an issue with this file format.\n",
    "Other file formats do not only solve this issue, but facilitate more efficient writing and reading as well for big data.\n",
    "We will look into this further in the third part of this hackathon."
   ]
  },
  {
   "cell_type": "markdown",
   "metadata": {},
   "source": [
    "### Exercise 1.5\n",
    "Save the DataFrame created above to a CSV file and read it in again.\n",
    "What do you notice about the data types after reading the data back in?"
   ]
  },
  {
   "cell_type": "code",
   "execution_count": null,
   "metadata": {},
   "outputs": [],
   "source": []
  }
 ],
 "metadata": {
  "kernelspec": {
   "display_name": ".venv",
   "language": "python",
   "name": "python3"
  },
  "language_info": {
   "codemirror_mode": {
    "name": "ipython",
    "version": 3
   },
   "file_extension": ".py",
   "mimetype": "text/x-python",
   "name": "python",
   "nbconvert_exporter": "python",
   "pygments_lexer": "ipython3",
   "version": "3.12.4"
  }
 },
 "nbformat": 4,
 "nbformat_minor": 2
}
